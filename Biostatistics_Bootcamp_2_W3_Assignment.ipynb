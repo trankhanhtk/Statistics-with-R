{
 "cells": [
  {
   "cell_type": "markdown",
   "id": "dd6c62ea",
   "metadata": {},
   "source": [
    "## Problem 3"
   ]
  },
  {
   "cell_type": "code",
   "execution_count": 591,
   "id": "cc74aa8a",
   "metadata": {},
   "outputs": [],
   "source": [
    "props=c(.53, .35, .12)\n",
    "counts=c(140, 100, 10)"
   ]
  },
  {
   "cell_type": "markdown",
   "id": "494493a4",
   "metadata": {},
   "source": [
    "### Chi-square Test"
   ]
  },
  {
   "cell_type": "code",
   "execution_count": 592,
   "id": "b3951532",
   "metadata": {},
   "outputs": [
    {
     "data": {
      "text/plain": [
       "\n",
       "\tChi-squared test for given probabilities\n",
       "\n",
       "data:  counts\n",
       "X-squared = 15.544, df = 2, p-value = 0.0004215\n"
      ]
     },
     "metadata": {},
     "output_type": "display_data"
    },
    {
     "name": "stdout",
     "output_type": "stream",
     "text": [
      "\n",
      "*** Expected:\n"
     ]
    },
    {
     "data": {
      "text/html": [
       "<table>\n",
       "<tbody>\n",
       "\t<tr><td>132.5</td><td>87.5 </td><td>30   </td></tr>\n",
       "</tbody>\n",
       "</table>\n"
      ],
      "text/latex": [
       "\\begin{tabular}{lll}\n",
       "\t 132.5 & 87.5  & 30   \\\\\n",
       "\\end{tabular}\n"
      ],
      "text/markdown": [
       "\n",
       "| 132.5 | 87.5  | 30    |\n",
       "\n"
      ],
      "text/plain": [
       "     [,1]  [,2] [,3]\n",
       "[1,] 132.5 87.5 30  "
      ]
     },
     "metadata": {},
     "output_type": "display_data"
    }
   ],
   "source": [
    "chisq<-chisq.test(counts, p=props, correct=FALSE)\n",
    "chisq\n",
    "\n",
    "cat('\\n*** Expected:\\n')\n",
    "t(round(chisq$expected,2))"
   ]
  },
  {
   "cell_type": "markdown",
   "id": "20c76482",
   "metadata": {},
   "source": [
    "## Problem 4"
   ]
  },
  {
   "cell_type": "code",
   "execution_count": 593,
   "id": "c4f22870",
   "metadata": {},
   "outputs": [
    {
     "data": {
      "text/plain": [
       "  none nausea nausea and vomiting\n",
       "A   80     15                   5\n",
       "B   60     30                  10"
      ]
     },
     "metadata": {},
     "output_type": "display_data"
    },
    {
     "name": "stdout",
     "output_type": "stream",
     "text": [
      "*** Margins 1:\n"
     ]
    },
    {
     "data": {
      "text/plain": [
       "  A   B \n",
       "100 100 "
      ]
     },
     "metadata": {},
     "output_type": "display_data"
    },
    {
     "name": "stdout",
     "output_type": "stream",
     "text": [
      "*** Margins 2:\n"
     ]
    },
    {
     "data": {
      "text/plain": [
       "               none              nausea nausea and vomiting \n",
       "                140                  45                  15 "
      ]
     },
     "metadata": {},
     "output_type": "display_data"
    }
   ],
   "source": [
    "drg_a = c(80, 15, 5)\n",
    "drg_b = c(60, 30, 10)\n",
    "dtm = matrix(c(drg_a, drg_b), nrow=2, byrow=T)\n",
    "colnames(dtm)<-c('none', 'nausea', 'nausea and vomiting')\n",
    "rownames(dtm)<-c('A', 'B')\n",
    "dtt = as.table(dtm)\n",
    "dtt\n",
    "\n",
    "cat('*** Margins 1:\\n')\n",
    "margin.table(dtt, 1)\n",
    "cat('*** Margins 2:\\n')\n",
    "margin.table(dtt, 2)"
   ]
  },
  {
   "cell_type": "markdown",
   "id": "c4f03f12",
   "metadata": {},
   "source": [
    "## Chi-square Test"
   ]
  },
  {
   "cell_type": "code",
   "execution_count": 594,
   "id": "1379f518",
   "metadata": {},
   "outputs": [
    {
     "data": {
      "text/plain": [
       "\n",
       "\tPearson's Chi-squared test\n",
       "\n",
       "data:  dtm\n",
       "X-squared = 9.5238, df = 2, p-value = 0.008549\n"
      ]
     },
     "metadata": {},
     "output_type": "display_data"
    },
    {
     "name": "stdout",
     "output_type": "stream",
     "text": [
      "\n",
      "*** Expected:\n"
     ]
    },
    {
     "data": {
      "text/html": [
       "<table>\n",
       "<thead><tr><th></th><th scope=col>A</th><th scope=col>B</th></tr></thead>\n",
       "<tbody>\n",
       "\t<tr><th scope=row>none</th><td>70.0</td><td>70.0</td></tr>\n",
       "\t<tr><th scope=row>nausea</th><td>22.5</td><td>22.5</td></tr>\n",
       "\t<tr><th scope=row>nausea and vomiting</th><td> 7.5</td><td> 7.5</td></tr>\n",
       "</tbody>\n",
       "</table>\n"
      ],
      "text/latex": [
       "\\begin{tabular}{r|ll}\n",
       "  & A & B\\\\\n",
       "\\hline\n",
       "\tnone & 70.0 & 70.0\\\\\n",
       "\tnausea & 22.5 & 22.5\\\\\n",
       "\tnausea and vomiting &  7.5 &  7.5\\\\\n",
       "\\end{tabular}\n"
      ],
      "text/markdown": [
       "\n",
       "| <!--/--> | A | B |\n",
       "|---|---|---|\n",
       "| none | 70.0 | 70.0 |\n",
       "| nausea | 22.5 | 22.5 |\n",
       "| nausea and vomiting |  7.5 |  7.5 |\n",
       "\n"
      ],
      "text/plain": [
       "                    A    B   \n",
       "none                70.0 70.0\n",
       "nausea              22.5 22.5\n",
       "nausea and vomiting  7.5  7.5"
      ]
     },
     "metadata": {},
     "output_type": "display_data"
    },
    {
     "name": "stdout",
     "output_type": "stream",
     "text": [
      "*** Expected Margins 1:\n"
     ]
    },
    {
     "data": {
      "text/html": [
       "<table>\n",
       "<thead><tr><th scope=col>A</th><th scope=col>B</th></tr></thead>\n",
       "<tbody>\n",
       "\t<tr><td>100</td><td>100</td></tr>\n",
       "</tbody>\n",
       "</table>\n"
      ],
      "text/latex": [
       "\\begin{tabular}{ll}\n",
       " A & B\\\\\n",
       "\\hline\n",
       "\t 100 & 100\\\\\n",
       "\\end{tabular}\n"
      ],
      "text/markdown": [
       "\n",
       "| A | B |\n",
       "|---|---|\n",
       "| 100 | 100 |\n",
       "\n"
      ],
      "text/plain": [
       "     A   B  \n",
       "[1,] 100 100"
      ]
     },
     "metadata": {},
     "output_type": "display_data"
    },
    {
     "name": "stdout",
     "output_type": "stream",
     "text": [
      "*** Expected Margins 2:\n"
     ]
    },
    {
     "data": {
      "text/html": [
       "<table>\n",
       "<thead><tr><th scope=col>none</th><th scope=col>nausea</th><th scope=col>nausea and vomiting</th></tr></thead>\n",
       "<tbody>\n",
       "\t<tr><td>140</td><td>45 </td><td>15 </td></tr>\n",
       "</tbody>\n",
       "</table>\n"
      ],
      "text/latex": [
       "\\begin{tabular}{lll}\n",
       " none & nausea & nausea and vomiting\\\\\n",
       "\\hline\n",
       "\t 140 & 45  & 15 \\\\\n",
       "\\end{tabular}\n"
      ],
      "text/markdown": [
       "\n",
       "| none | nausea | nausea and vomiting |\n",
       "|---|---|---|\n",
       "| 140 | 45  | 15  |\n",
       "\n"
      ],
      "text/plain": [
       "     none nausea nausea and vomiting\n",
       "[1,] 140  45     15                 "
      ]
     },
     "metadata": {},
     "output_type": "display_data"
    }
   ],
   "source": [
    "chisq<-chisq.test(dtm, correct=FALSE)\n",
    "chisq\n",
    "\n",
    "cat('\\n*** Expected:\\n')\n",
    "t(round(chisq$expected,2))\n",
    "\n",
    "cat('*** Expected Margins 1:\\n')\n",
    "t(margin.table(chisq$expected, 1))\n",
    "\n",
    "cat('*** Expected Margins 2:\\n')\n",
    "t(margin.table(chisq$expected, 2))"
   ]
  },
  {
   "cell_type": "markdown",
   "id": "650ca596",
   "metadata": {},
   "source": [
    "## Problem 5"
   ]
  },
  {
   "cell_type": "code",
   "execution_count": 595,
   "id": "3d271425",
   "metadata": {},
   "outputs": [],
   "source": [
    "props=c(.301, .176, .125, .097, .079, .067, .058, .051, .046)\n",
    "# props=round(log10((1:9) + 1) - log10(1:9), 3)\n",
    "counts=c(275, 183, 133, 111, 76, 66, 66, 44, 56)"
   ]
  },
  {
   "cell_type": "markdown",
   "id": "8a523aa6",
   "metadata": {},
   "source": [
    "### Chi-square Test"
   ]
  },
  {
   "cell_type": "code",
   "execution_count": 596,
   "id": "28e652e4",
   "metadata": {
    "scrolled": true
   },
   "outputs": [
    {
     "data": {
      "text/plain": [
       "\n",
       "\tChi-squared test for given probabilities\n",
       "\n",
       "data:  counts\n",
       "X-squared = 9.4361, df = 8, p-value = 0.3069\n"
      ]
     },
     "metadata": {},
     "output_type": "display_data"
    },
    {
     "name": "stdout",
     "output_type": "stream",
     "text": [
      "\n",
      "*** Expected:\n"
     ]
    },
    {
     "data": {
      "text/html": [
       "<table>\n",
       "<tbody>\n",
       "\t<tr><td>304.04</td><td>177.85</td><td>126.19</td><td>97.88 </td><td>79.97 </td><td>67.62 </td><td>58.57 </td><td>51.66 </td><td>46.22 </td></tr>\n",
       "</tbody>\n",
       "</table>\n"
      ],
      "text/latex": [
       "\\begin{tabular}{lllllllll}\n",
       "\t 304.04 & 177.85 & 126.19 & 97.88  & 79.97  & 67.62  & 58.57  & 51.66  & 46.22 \\\\\n",
       "\\end{tabular}\n"
      ],
      "text/markdown": [
       "\n",
       "| 304.04 | 177.85 | 126.19 | 97.88  | 79.97  | 67.62  | 58.57  | 51.66  | 46.22  |\n",
       "\n"
      ],
      "text/plain": [
       "     [,1]   [,2]   [,3]   [,4]  [,5]  [,6]  [,7]  [,8]  [,9] \n",
       "[1,] 304.04 177.85 126.19 97.88 79.97 67.62 58.57 51.66 46.22"
      ]
     },
     "metadata": {},
     "output_type": "display_data"
    },
    {
     "name": "stdout",
     "output_type": "stream",
     "text": [
      "*** Expected Margins 1:\n"
     ]
    },
    {
     "ename": "ERROR",
     "evalue": "Error in margin.table(chisq$expected, 1): 'x' is not an array\n",
     "output_type": "error",
     "traceback": [
      "Error in margin.table(chisq$expected, 1): 'x' is not an array\nTraceback:\n",
      "1. t(margin.table(chisq$expected, 1))",
      "2. margin.table(chisq$expected, 1)",
      "3. stop(\"'x' is not an array\")"
     ]
    }
   ],
   "source": [
    "chisq<-chisq.test(counts, p=p, correct=FALSE)\n",
    "chisq\n",
    "\n",
    "cat('\\n*** Expected:\\n')\n",
    "t(round(chisq$expected,2))\n",
    "\n",
    "cat('*** Expected Margins 1:\\n')\n",
    "t(margin.table(chisq$expected, 1))\n",
    "\n",
    "cat('*** Expected Margins 2:\\n')\n",
    "t(margin.table(chisq$expected, 2))"
   ]
  },
  {
   "cell_type": "markdown",
   "id": "3ff37f00",
   "metadata": {},
   "source": [
    "## Problem 6"
   ]
  },
  {
   "cell_type": "code",
   "execution_count": null,
   "id": "8c8a0f2f",
   "metadata": {},
   "outputs": [],
   "source": [
    "dtf = matrix(c(65, 35, 70, 30, 15, 85), ncol=2, byrow=T)\n",
    "colnames(dtf) <- c('high', 'low')\n",
    "rownames(dtf) <- c('Exec', 'Prof', 'Lion Tamer')\n",
    "\n",
    "dtf = as.table(dtf)\n",
    "dtf\n",
    "\n",
    "margin.table(dtf, 1)\n",
    "margin.table(dtf, 2)"
   ]
  },
  {
   "cell_type": "markdown",
   "id": "19e9bed8",
   "metadata": {},
   "source": [
    "### Chi-square Test"
   ]
  },
  {
   "cell_type": "code",
   "execution_count": null,
   "id": "671b2ca2",
   "metadata": {},
   "outputs": [],
   "source": [
    "chisq<-chisq.test(dtf, correct=FALSE)\n",
    "\n",
    "cat('\\n*** Expected:\\n')\n",
    "t(round(chisq$expected,2))\n",
    "\n",
    "cat('*** Expected Margins 1:\\n')\n",
    "t(margin.table(chisq$expected, 1))\n",
    "\n",
    "cat('*** Expected Margins 2:\\n')\n",
    "t(margin.table(chisq$expected, 2))"
   ]
  },
  {
   "cell_type": "code",
   "execution_count": null,
   "id": "def3616f",
   "metadata": {},
   "outputs": [],
   "source": []
  }
 ],
 "metadata": {
  "kernelspec": {
   "display_name": "R",
   "language": "R",
   "name": "ir"
  },
  "language_info": {
   "codemirror_mode": "r",
   "file_extension": ".r",
   "mimetype": "text/x-r-source",
   "name": "R",
   "pygments_lexer": "r",
   "version": "3.6.1"
  }
 },
 "nbformat": 4,
 "nbformat_minor": 5
}
