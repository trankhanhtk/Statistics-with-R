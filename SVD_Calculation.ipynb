{
 "cells": [
  {
   "cell_type": "markdown",
   "id": "b478a48e",
   "metadata": {},
   "source": [
    "## Loading Data"
   ]
  },
  {
   "cell_type": "code",
   "execution_count": 60,
   "id": "cf57c119",
   "metadata": {},
   "outputs": [
    {
     "name": "stdout",
     "output_type": "stream",
     "text": [
      "n: 47"
     ]
    },
    {
     "data": {
      "text/html": [
       "<table>\n",
       "<thead><tr><th></th><th scope=col>Agriculture</th><th scope=col>Examination</th><th scope=col>Education</th><th scope=col>Catholic</th><th scope=col>Infant.Mortality</th></tr></thead>\n",
       "<tbody>\n",
       "\t<tr><th scope=row>Courtelary</th><td>17.0 </td><td>15   </td><td>12   </td><td> 9.96</td><td>22.2 </td></tr>\n",
       "\t<tr><th scope=row>Delemont</th><td>45.1 </td><td> 6   </td><td> 9   </td><td>84.84</td><td>22.2 </td></tr>\n",
       "\t<tr><th scope=row>Franches-Mnt</th><td>39.7 </td><td> 5   </td><td> 5   </td><td>93.40</td><td>20.2 </td></tr>\n",
       "\t<tr><th scope=row>Moutier</th><td>36.5 </td><td>12   </td><td> 7   </td><td>33.77</td><td>20.3 </td></tr>\n",
       "\t<tr><th scope=row>Neuveville</th><td>43.5 </td><td>17   </td><td>15   </td><td> 5.16</td><td>20.6 </td></tr>\n",
       "\t<tr><th scope=row>Porrentruy</th><td>35.3 </td><td> 9   </td><td> 7   </td><td>90.57</td><td>26.6 </td></tr>\n",
       "</tbody>\n",
       "</table>\n"
      ],
      "text/latex": [
       "\\begin{tabular}{r|lllll}\n",
       "  & Agriculture & Examination & Education & Catholic & Infant.Mortality\\\\\n",
       "\\hline\n",
       "\tCourtelary & 17.0  & 15    & 12    &  9.96 & 22.2 \\\\\n",
       "\tDelemont & 45.1  &  6    &  9    & 84.84 & 22.2 \\\\\n",
       "\tFranches-Mnt & 39.7  &  5    &  5    & 93.40 & 20.2 \\\\\n",
       "\tMoutier & 36.5  & 12    &  7    & 33.77 & 20.3 \\\\\n",
       "\tNeuveville & 43.5  & 17    & 15    &  5.16 & 20.6 \\\\\n",
       "\tPorrentruy & 35.3  &  9    &  7    & 90.57 & 26.6 \\\\\n",
       "\\end{tabular}\n"
      ],
      "text/markdown": [
       "\n",
       "| <!--/--> | Agriculture | Examination | Education | Catholic | Infant.Mortality |\n",
       "|---|---|---|---|---|---|\n",
       "| Courtelary | 17.0  | 15    | 12    |  9.96 | 22.2  |\n",
       "| Delemont | 45.1  |  6    |  9    | 84.84 | 22.2  |\n",
       "| Franches-Mnt | 39.7  |  5    |  5    | 93.40 | 20.2  |\n",
       "| Moutier | 36.5  | 12    |  7    | 33.77 | 20.3  |\n",
       "| Neuveville | 43.5  | 17    | 15    |  5.16 | 20.6  |\n",
       "| Porrentruy | 35.3  |  9    |  7    | 90.57 | 26.6  |\n",
       "\n"
      ],
      "text/plain": [
       "             Agriculture Examination Education Catholic Infant.Mortality\n",
       "Courtelary   17.0        15          12         9.96    22.2            \n",
       "Delemont     45.1         6           9        84.84    22.2            \n",
       "Franches-Mnt 39.7         5           5        93.40    20.2            \n",
       "Moutier      36.5        12           7        33.77    20.3            \n",
       "Neuveville   43.5        17          15         5.16    20.6            \n",
       "Porrentruy   35.3         9           7        90.57    26.6            "
      ]
     },
     "metadata": {},
     "output_type": "display_data"
    }
   ],
   "source": [
    "n = dim(swiss)[1]\n",
    "cat('n:', n)\n",
    "x=as.matrix(swiss[, -1])\n",
    "head(x)"
   ]
  },
  {
   "cell_type": "code",
   "execution_count": 46,
   "id": "6f3ea5d2",
   "metadata": {},
   "outputs": [],
   "source": [
    "y = swiss$Fertility"
   ]
  },
  {
   "cell_type": "markdown",
   "id": "86147d0a",
   "metadata": {},
   "source": [
    "## Eigendecomposition"
   ]
  },
  {
   "cell_type": "code",
   "execution_count": 115,
   "id": "e625feef",
   "metadata": {},
   "outputs": [
    {
     "data": {
      "text/html": [
       "<table>\n",
       "<thead><tr><th></th><th scope=col>Agriculture</th><th scope=col>Examination</th><th scope=col>Education</th><th scope=col>Catholic</th><th scope=col>Infant.Mortality</th></tr></thead>\n",
       "<tbody>\n",
       "\t<tr><th scope=row>Agriculture</th><td> 1.00000000</td><td>-0.6865422 </td><td>-0.63952252</td><td> 0.4010951 </td><td>-0.06085861</td></tr>\n",
       "\t<tr><th scope=row>Examination</th><td>-0.68654221</td><td> 1.0000000 </td><td> 0.69841530</td><td>-0.5727418 </td><td>-0.11402160</td></tr>\n",
       "\t<tr><th scope=row>Education</th><td>-0.63952252</td><td> 0.6984153 </td><td> 1.00000000</td><td>-0.1538589 </td><td>-0.09932185</td></tr>\n",
       "\t<tr><th scope=row>Catholic</th><td> 0.40109505</td><td>-0.5727418 </td><td>-0.15385892</td><td> 1.0000000 </td><td> 0.17549591</td></tr>\n",
       "\t<tr><th scope=row>Infant.Mortality</th><td>-0.06085861</td><td>-0.1140216 </td><td>-0.09932185</td><td> 0.1754959 </td><td> 1.00000000</td></tr>\n",
       "</tbody>\n",
       "</table>\n"
      ],
      "text/latex": [
       "\\begin{tabular}{r|lllll}\n",
       "  & Agriculture & Examination & Education & Catholic & Infant.Mortality\\\\\n",
       "\\hline\n",
       "\tAgriculture &  1.00000000 & -0.6865422  & -0.63952252 &  0.4010951  & -0.06085861\\\\\n",
       "\tExamination & -0.68654221 &  1.0000000  &  0.69841530 & -0.5727418  & -0.11402160\\\\\n",
       "\tEducation & -0.63952252 &  0.6984153  &  1.00000000 & -0.1538589  & -0.09932185\\\\\n",
       "\tCatholic &  0.40109505 & -0.5727418  & -0.15385892 &  1.0000000  &  0.17549591\\\\\n",
       "\tInfant.Mortality & -0.06085861 & -0.1140216  & -0.09932185 &  0.1754959  &  1.00000000\\\\\n",
       "\\end{tabular}\n"
      ],
      "text/markdown": [
       "\n",
       "| <!--/--> | Agriculture | Examination | Education | Catholic | Infant.Mortality |\n",
       "|---|---|---|---|---|---|\n",
       "| Agriculture |  1.00000000 | -0.6865422  | -0.63952252 |  0.4010951  | -0.06085861 |\n",
       "| Examination | -0.68654221 |  1.0000000  |  0.69841530 | -0.5727418  | -0.11402160 |\n",
       "| Education | -0.63952252 |  0.6984153  |  1.00000000 | -0.1538589  | -0.09932185 |\n",
       "| Catholic |  0.40109505 | -0.5727418  | -0.15385892 |  1.0000000  |  0.17549591 |\n",
       "| Infant.Mortality | -0.06085861 | -0.1140216  | -0.09932185 |  0.1754959  |  1.00000000 |\n",
       "\n"
      ],
      "text/plain": [
       "                 Agriculture Examination Education   Catholic  \n",
       "Agriculture       1.00000000 -0.6865422  -0.63952252  0.4010951\n",
       "Examination      -0.68654221  1.0000000   0.69841530 -0.5727418\n",
       "Education        -0.63952252  0.6984153   1.00000000 -0.1538589\n",
       "Catholic          0.40109505 -0.5727418  -0.15385892  1.0000000\n",
       "Infant.Mortality -0.06085861 -0.1140216  -0.09932185  0.1754959\n",
       "                 Infant.Mortality\n",
       "Agriculture      -0.06085861     \n",
       "Examination      -0.11402160     \n",
       "Education        -0.09932185     \n",
       "Catholic          0.17549591     \n",
       "Infant.Mortality  1.00000000     "
      ]
     },
     "metadata": {},
     "output_type": "display_data"
    }
   ],
   "source": [
    "cor(x)"
   ]
  },
  {
   "cell_type": "code",
   "execution_count": 172,
   "id": "bf119f33",
   "metadata": {},
   "outputs": [
    {
     "data": {
      "text/plain": [
       "eigen() decomposition\n",
       "$values\n",
       "[1] 2.6335008 1.0722340 0.8160316 0.3127902 0.1654433\n",
       "\n",
       "$vectors\n",
       "            [,1]        [,2]         [,3]       [,4]        [,5]\n",
       "[1,]  0.52396452  0.25834215 -0.003003672  0.8090741  0.06411415\n",
       "[2,] -0.57185792  0.01145981  0.039840522  0.4224580 -0.70198942\n",
       "[3,] -0.49150243 -0.19028476 -0.539337412  0.3321615  0.56656945\n",
       "[4,]  0.38530580 -0.36956307 -0.725888143 -0.1007965 -0.42176895\n",
       "[5,]  0.09167606 -0.87197641  0.424976789  0.2154928  0.06488642\n"
      ]
     },
     "metadata": {},
     "output_type": "display_data"
    }
   ],
   "source": [
    "decomp2 = eigen(cor(x))\n",
    "decomp2"
   ]
  },
  {
   "cell_type": "code",
   "execution_count": 112,
   "id": "5283a4ec",
   "metadata": {},
   "outputs": [
    {
     "data": {
      "text/html": [
       "<table>\n",
       "<tbody>\n",
       "\t<tr><td>1</td></tr>\n",
       "</tbody>\n",
       "</table>\n"
      ],
      "text/latex": [
       "\\begin{tabular}{l}\n",
       "\t 1\\\\\n",
       "\\end{tabular}\n"
      ],
      "text/markdown": [
       "\n",
       "| 1 |\n",
       "\n"
      ],
      "text/plain": [
       "     [,1]\n",
       "[1,] 1   "
      ]
     },
     "metadata": {},
     "output_type": "display_data"
    }
   ],
   "source": [
    "devecs = decomp2$vectors"
   ]
  },
  {
   "cell_type": "code",
   "execution_count": 114,
   "id": "6e13cfd5",
   "metadata": {},
   "outputs": [
    {
     "data": {
      "text/html": [
       "<table>\n",
       "<tbody>\n",
       "\t<tr><td>1</td><td>0</td><td>0</td><td>0</td><td>0</td></tr>\n",
       "\t<tr><td>0</td><td>1</td><td>0</td><td>0</td><td>0</td></tr>\n",
       "\t<tr><td>0</td><td>0</td><td>1</td><td>0</td><td>0</td></tr>\n",
       "\t<tr><td>0</td><td>0</td><td>0</td><td>1</td><td>0</td></tr>\n",
       "\t<tr><td>0</td><td>0</td><td>0</td><td>0</td><td>1</td></tr>\n",
       "</tbody>\n",
       "</table>\n"
      ],
      "text/latex": [
       "\\begin{tabular}{lllll}\n",
       "\t 1 & 0 & 0 & 0 & 0\\\\\n",
       "\t 0 & 1 & 0 & 0 & 0\\\\\n",
       "\t 0 & 0 & 1 & 0 & 0\\\\\n",
       "\t 0 & 0 & 0 & 1 & 0\\\\\n",
       "\t 0 & 0 & 0 & 0 & 1\\\\\n",
       "\\end{tabular}\n"
      ],
      "text/markdown": [
       "\n",
       "| 1 | 0 | 0 | 0 | 0 |\n",
       "| 0 | 1 | 0 | 0 | 0 |\n",
       "| 0 | 0 | 1 | 0 | 0 |\n",
       "| 0 | 0 | 0 | 1 | 0 |\n",
       "| 0 | 0 | 0 | 0 | 1 |\n",
       "\n"
      ],
      "text/plain": [
       "     [,1] [,2] [,3] [,4] [,5]\n",
       "[1,] 1    0    0    0    0   \n",
       "[2,] 0    1    0    0    0   \n",
       "[3,] 0    0    1    0    0   \n",
       "[4,] 0    0    0    1    0   \n",
       "[5,] 0    0    0    0    1   "
      ]
     },
     "metadata": {},
     "output_type": "display_data"
    }
   ],
   "source": [
    "round(t(devecs) %*% devecs, 10)"
   ]
  },
  {
   "cell_type": "markdown",
   "id": "eecf6432",
   "metadata": {},
   "source": [
    "## SVD"
   ]
  },
  {
   "cell_type": "markdown",
   "id": "96ca4a11",
   "metadata": {},
   "source": [
    "### Normalize X"
   ]
  },
  {
   "cell_type": "code",
   "execution_count": 138,
   "id": "38551b8f",
   "metadata": {},
   "outputs": [
    {
     "data": {
      "text/html": [
       "<table>\n",
       "<thead><tr><th></th><th scope=col>Agriculture</th><th scope=col>Examination</th><th scope=col>Education</th><th scope=col>Catholic</th><th scope=col>Infant.Mortality</th></tr></thead>\n",
       "<tbody>\n",
       "\t<tr><th scope=row>Courtelary</th><td>-1.4820682 </td><td>-0.18668632</td><td> 0.1062125 </td><td>-0.7477267 </td><td>0.77503669 </td></tr>\n",
       "\t<tr><th scope=row>Delemont</th><td>-0.2447942 </td><td>-1.31480509</td><td>-0.2057867 </td><td> 1.0477479 </td><td>0.77503669 </td></tr>\n",
       "\t<tr><th scope=row>Franches-Mnt</th><td>-0.4825622 </td><td>-1.44015162</td><td>-0.6217858 </td><td> 1.2529998 </td><td>0.08838778 </td></tr>\n",
       "\t<tr><th scope=row>Moutier</th><td>-0.6234617 </td><td>-0.56272591</td><td>-0.4137863 </td><td>-0.1768099 </td><td>0.12272023 </td></tr>\n",
       "\t<tr><th scope=row>Neuveville</th><td>-0.3152440 </td><td> 0.06400674</td><td> 0.4182118 </td><td>-0.8628212 </td><td>0.22571757 </td></tr>\n",
       "\t<tr><th scope=row>Porrentruy</th><td>-0.6762990 </td><td>-0.93876550</td><td>-0.4137863 </td><td> 1.1851420 </td><td>2.28566429 </td></tr>\n",
       "</tbody>\n",
       "</table>\n"
      ],
      "text/latex": [
       "\\begin{tabular}{r|lllll}\n",
       "  & Agriculture & Examination & Education & Catholic & Infant.Mortality\\\\\n",
       "\\hline\n",
       "\tCourtelary & -1.4820682  & -0.18668632 &  0.1062125  & -0.7477267  & 0.77503669 \\\\\n",
       "\tDelemont & -0.2447942  & -1.31480509 & -0.2057867  &  1.0477479  & 0.77503669 \\\\\n",
       "\tFranches-Mnt & -0.4825622  & -1.44015162 & -0.6217858  &  1.2529998  & 0.08838778 \\\\\n",
       "\tMoutier & -0.6234617  & -0.56272591 & -0.4137863  & -0.1768099  & 0.12272023 \\\\\n",
       "\tNeuveville & -0.3152440  &  0.06400674 &  0.4182118  & -0.8628212  & 0.22571757 \\\\\n",
       "\tPorrentruy & -0.6762990  & -0.93876550 & -0.4137863  &  1.1851420  & 2.28566429 \\\\\n",
       "\\end{tabular}\n"
      ],
      "text/markdown": [
       "\n",
       "| <!--/--> | Agriculture | Examination | Education | Catholic | Infant.Mortality |\n",
       "|---|---|---|---|---|---|\n",
       "| Courtelary | -1.4820682  | -0.18668632 |  0.1062125  | -0.7477267  | 0.77503669  |\n",
       "| Delemont | -0.2447942  | -1.31480509 | -0.2057867  |  1.0477479  | 0.77503669  |\n",
       "| Franches-Mnt | -0.4825622  | -1.44015162 | -0.6217858  |  1.2529998  | 0.08838778  |\n",
       "| Moutier | -0.6234617  | -0.56272591 | -0.4137863  | -0.1768099  | 0.12272023  |\n",
       "| Neuveville | -0.3152440  |  0.06400674 |  0.4182118  | -0.8628212  | 0.22571757  |\n",
       "| Porrentruy | -0.6762990  | -0.93876550 | -0.4137863  |  1.1851420  | 2.28566429  |\n",
       "\n"
      ],
      "text/plain": [
       "             Agriculture Examination Education  Catholic   Infant.Mortality\n",
       "Courtelary   -1.4820682  -0.18668632  0.1062125 -0.7477267 0.77503669      \n",
       "Delemont     -0.2447942  -1.31480509 -0.2057867  1.0477479 0.77503669      \n",
       "Franches-Mnt -0.4825622  -1.44015162 -0.6217858  1.2529998 0.08838778      \n",
       "Moutier      -0.6234617  -0.56272591 -0.4137863 -0.1768099 0.12272023      \n",
       "Neuveville   -0.3152440   0.06400674  0.4182118 -0.8628212 0.22571757      \n",
       "Porrentruy   -0.6762990  -0.93876550 -0.4137863  1.1851420 2.28566429      "
      ]
     },
     "metadata": {},
     "output_type": "display_data"
    }
   ],
   "source": [
    "xnorm = apply(x, 2, function(z) ( (z - mean(z)) /(sd(z)) ))\n",
    "head(xnorm)"
   ]
  },
  {
   "cell_type": "code",
   "execution_count": 176,
   "id": "f46c0845",
   "metadata": {},
   "outputs": [
    {
     "data": {
      "text/html": [
       "<dl class=dl-horizontal>\n",
       "\t<dt>Agriculture</dt>\n",
       "\t\t<dd>22.7112178714901</dd>\n",
       "\t<dt>Examination</dt>\n",
       "\t\t<dd>7.97788339703973</dd>\n",
       "\t<dt>Education</dt>\n",
       "\t\t<dd>9.61540738629624</dd>\n",
       "\t<dt>Catholic</dt>\n",
       "\t\t<dd>41.7048502837235</dd>\n",
       "\t<dt>Infant.Mortality</dt>\n",
       "\t\t<dd>2.9126966946719</dd>\n",
       "</dl>\n"
      ],
      "text/latex": [
       "\\begin{description*}\n",
       "\\item[Agriculture] 22.7112178714901\n",
       "\\item[Examination] 7.97788339703973\n",
       "\\item[Education] 9.61540738629624\n",
       "\\item[Catholic] 41.7048502837235\n",
       "\\item[Infant.Mortality] 2.9126966946719\n",
       "\\end{description*}\n"
      ],
      "text/markdown": [
       "Agriculture\n",
       ":   22.7112178714901Examination\n",
       ":   7.97788339703973Education\n",
       ":   9.61540738629624Catholic\n",
       ":   41.7048502837235Infant.Mortality\n",
       ":   2.9126966946719\n",
       "\n"
      ],
      "text/plain": [
       "     Agriculture      Examination        Education         Catholic \n",
       "       22.711218         7.977883         9.615407        41.704850 \n",
       "Infant.Mortality \n",
       "        2.912697 "
      ]
     },
     "metadata": {},
     "output_type": "display_data"
    },
    {
     "name": "stdout",
     "output_type": "stream",
     "text": [
      "*** xnorm:"
     ]
    },
    {
     "data": {
      "text/html": [
       "<table>\n",
       "<thead><tr><th scope=col>Agriculture</th><th scope=col>Examination</th><th scope=col>Education</th><th scope=col>Catholic</th><th scope=col>Infant.Mortality</th></tr></thead>\n",
       "<tbody>\n",
       "\t<tr><td>-1.4820682 </td><td>-0.18668632</td><td> 0.1062125 </td><td>-0.7477267 </td><td>0.77503669 </td></tr>\n",
       "\t<tr><td>-0.2447942 </td><td>-1.31480509</td><td>-0.2057867 </td><td> 1.0477479 </td><td>0.77503669 </td></tr>\n",
       "\t<tr><td>-0.4825622 </td><td>-1.44015162</td><td>-0.6217858 </td><td> 1.2529998 </td><td>0.08838778 </td></tr>\n",
       "\t<tr><td>-0.6234617 </td><td>-0.56272591</td><td>-0.4137863 </td><td>-0.1768099 </td><td>0.12272023 </td></tr>\n",
       "\t<tr><td>-0.3152440 </td><td> 0.06400674</td><td> 0.4182118 </td><td>-0.8628212 </td><td>0.22571757 </td></tr>\n",
       "\t<tr><td>-0.6762990 </td><td>-0.93876550</td><td>-0.4137863 </td><td> 1.1851420 </td><td>2.28566429 </td></tr>\n",
       "</tbody>\n",
       "</table>\n"
      ],
      "text/latex": [
       "\\begin{tabular}{lllll}\n",
       " Agriculture & Examination & Education & Catholic & Infant.Mortality\\\\\n",
       "\\hline\n",
       "\t -1.4820682  & -0.18668632 &  0.1062125  & -0.7477267  & 0.77503669 \\\\\n",
       "\t -0.2447942  & -1.31480509 & -0.2057867  &  1.0477479  & 0.77503669 \\\\\n",
       "\t -0.4825622  & -1.44015162 & -0.6217858  &  1.2529998  & 0.08838778 \\\\\n",
       "\t -0.6234617  & -0.56272591 & -0.4137863  & -0.1768099  & 0.12272023 \\\\\n",
       "\t -0.3152440  &  0.06400674 &  0.4182118  & -0.8628212  & 0.22571757 \\\\\n",
       "\t -0.6762990  & -0.93876550 & -0.4137863  &  1.1851420  & 2.28566429 \\\\\n",
       "\\end{tabular}\n"
      ],
      "text/markdown": [
       "\n",
       "| Agriculture | Examination | Education | Catholic | Infant.Mortality |\n",
       "|---|---|---|---|---|\n",
       "| -1.4820682  | -0.18668632 |  0.1062125  | -0.7477267  | 0.77503669  |\n",
       "| -0.2447942  | -1.31480509 | -0.2057867  |  1.0477479  | 0.77503669  |\n",
       "| -0.4825622  | -1.44015162 | -0.6217858  |  1.2529998  | 0.08838778  |\n",
       "| -0.6234617  | -0.56272591 | -0.4137863  | -0.1768099  | 0.12272023  |\n",
       "| -0.3152440  |  0.06400674 |  0.4182118  | -0.8628212  | 0.22571757  |\n",
       "| -0.6762990  | -0.93876550 | -0.4137863  |  1.1851420  | 2.28566429  |\n",
       "\n"
      ],
      "text/plain": [
       "     Agriculture Examination Education  Catholic   Infant.Mortality\n",
       "[1,] -1.4820682  -0.18668632  0.1062125 -0.7477267 0.77503669      \n",
       "[2,] -0.2447942  -1.31480509 -0.2057867  1.0477479 0.77503669      \n",
       "[3,] -0.4825622  -1.44015162 -0.6217858  1.2529998 0.08838778      \n",
       "[4,] -0.6234617  -0.56272591 -0.4137863 -0.1768099 0.12272023      \n",
       "[5,] -0.3152440   0.06400674  0.4182118 -0.8628212 0.22571757      \n",
       "[6,] -0.6762990  -0.93876550 -0.4137863  1.1851420 2.28566429      "
      ]
     },
     "metadata": {},
     "output_type": "display_data"
    }
   ],
   "source": [
    "# another way\n",
    "Jnn = matrix(rep(1, n*n), ncol=n)\n",
    "xc = (diag(1, n, n) - Jnn/n) %*% x\n",
    "sqrt(diag(var(x)))\n",
    "cat('*** xnorm:')\n",
    "head(sweep(xc, 2, sqrt(diag(var(x))), FUN='/'))"
   ]
  },
  {
   "cell_type": "code",
   "execution_count": 175,
   "id": "b4ad4056",
   "metadata": {},
   "outputs": [
    {
     "data": {
      "text/html": [
       "<ol class=list-inline>\n",
       "\t<li>'d'</li>\n",
       "\t<li>'u'</li>\n",
       "\t<li>'v'</li>\n",
       "</ol>\n"
      ],
      "text/latex": [
       "\\begin{enumerate*}\n",
       "\\item 'd'\n",
       "\\item 'u'\n",
       "\\item 'v'\n",
       "\\end{enumerate*}\n"
      ],
      "text/markdown": [
       "1. 'd'\n",
       "2. 'u'\n",
       "3. 'v'\n",
       "\n",
       "\n"
      ],
      "text/plain": [
       "[1] \"d\" \"u\" \"v\""
      ]
     },
     "metadata": {},
     "output_type": "display_data"
    },
    {
     "data": {
      "text/html": [
       "<table>\n",
       "<tbody>\n",
       "\t<tr><td> 0.52396452 </td><td>-0.25834215 </td><td> 0.003003672</td><td>-0.8090741  </td><td> 0.06411415 </td></tr>\n",
       "\t<tr><td>-0.57185792 </td><td>-0.01145981 </td><td>-0.039840522</td><td>-0.4224580  </td><td>-0.70198942 </td></tr>\n",
       "\t<tr><td>-0.49150243 </td><td> 0.19028476 </td><td> 0.539337412</td><td>-0.3321615  </td><td> 0.56656945 </td></tr>\n",
       "\t<tr><td> 0.38530580 </td><td> 0.36956307 </td><td> 0.725888143</td><td> 0.1007965  </td><td>-0.42176895 </td></tr>\n",
       "\t<tr><td> 0.09167606 </td><td> 0.87197641 </td><td>-0.424976789</td><td>-0.2154928  </td><td> 0.06488642 </td></tr>\n",
       "</tbody>\n",
       "</table>\n"
      ],
      "text/latex": [
       "\\begin{tabular}{lllll}\n",
       "\t  0.52396452  & -0.25834215  &  0.003003672 & -0.8090741   &  0.06411415 \\\\\n",
       "\t -0.57185792  & -0.01145981  & -0.039840522 & -0.4224580   & -0.70198942 \\\\\n",
       "\t -0.49150243  &  0.19028476  &  0.539337412 & -0.3321615   &  0.56656945 \\\\\n",
       "\t  0.38530580  &  0.36956307  &  0.725888143 &  0.1007965   & -0.42176895 \\\\\n",
       "\t  0.09167606  &  0.87197641  & -0.424976789 & -0.2154928   &  0.06488642 \\\\\n",
       "\\end{tabular}\n"
      ],
      "text/markdown": [
       "\n",
       "|  0.52396452  | -0.25834215  |  0.003003672 | -0.8090741   |  0.06411415  |\n",
       "| -0.57185792  | -0.01145981  | -0.039840522 | -0.4224580   | -0.70198942  |\n",
       "| -0.49150243  |  0.19028476  |  0.539337412 | -0.3321615   |  0.56656945  |\n",
       "|  0.38530580  |  0.36956307  |  0.725888143 |  0.1007965   | -0.42176895  |\n",
       "|  0.09167606  |  0.87197641  | -0.424976789 | -0.2154928   |  0.06488642  |\n",
       "\n"
      ],
      "text/plain": [
       "     [,1]        [,2]        [,3]         [,4]       [,5]       \n",
       "[1,]  0.52396452 -0.25834215  0.003003672 -0.8090741  0.06411415\n",
       "[2,] -0.57185792 -0.01145981 -0.039840522 -0.4224580 -0.70198942\n",
       "[3,] -0.49150243  0.19028476  0.539337412 -0.3321615  0.56656945\n",
       "[4,]  0.38530580  0.36956307  0.725888143  0.1007965 -0.42176895\n",
       "[5,]  0.09167606  0.87197641 -0.424976789 -0.2154928  0.06488642"
      ]
     },
     "metadata": {},
     "output_type": "display_data"
    },
    {
     "name": "stdout",
     "output_type": "stream",
     "text": [
      "*** reconstruct x(norm):"
     ]
    },
    {
     "data": {
      "text/html": [
       "<table>\n",
       "<tbody>\n",
       "\t<tr><td>-1.4820682 </td><td>-0.18668632</td><td> 0.1062125 </td><td>-0.7477267 </td><td>0.77503669 </td></tr>\n",
       "\t<tr><td>-0.2447942 </td><td>-1.31480509</td><td>-0.2057867 </td><td> 1.0477479 </td><td>0.77503669 </td></tr>\n",
       "\t<tr><td>-0.4825622 </td><td>-1.44015162</td><td>-0.6217858 </td><td> 1.2529998 </td><td>0.08838778 </td></tr>\n",
       "\t<tr><td>-0.6234617 </td><td>-0.56272591</td><td>-0.4137863 </td><td>-0.1768099 </td><td>0.12272023 </td></tr>\n",
       "\t<tr><td>-0.3152440 </td><td> 0.06400674</td><td> 0.4182118 </td><td>-0.8628212 </td><td>0.22571757 </td></tr>\n",
       "\t<tr><td>-0.6762990 </td><td>-0.93876550</td><td>-0.4137863 </td><td> 1.1851420 </td><td>2.28566429 </td></tr>\n",
       "</tbody>\n",
       "</table>\n"
      ],
      "text/latex": [
       "\\begin{tabular}{lllll}\n",
       "\t -1.4820682  & -0.18668632 &  0.1062125  & -0.7477267  & 0.77503669 \\\\\n",
       "\t -0.2447942  & -1.31480509 & -0.2057867  &  1.0477479  & 0.77503669 \\\\\n",
       "\t -0.4825622  & -1.44015162 & -0.6217858  &  1.2529998  & 0.08838778 \\\\\n",
       "\t -0.6234617  & -0.56272591 & -0.4137863  & -0.1768099  & 0.12272023 \\\\\n",
       "\t -0.3152440  &  0.06400674 &  0.4182118  & -0.8628212  & 0.22571757 \\\\\n",
       "\t -0.6762990  & -0.93876550 & -0.4137863  &  1.1851420  & 2.28566429 \\\\\n",
       "\\end{tabular}\n"
      ],
      "text/markdown": [
       "\n",
       "| -1.4820682  | -0.18668632 |  0.1062125  | -0.7477267  | 0.77503669  |\n",
       "| -0.2447942  | -1.31480509 | -0.2057867  |  1.0477479  | 0.77503669  |\n",
       "| -0.4825622  | -1.44015162 | -0.6217858  |  1.2529998  | 0.08838778  |\n",
       "| -0.6234617  | -0.56272591 | -0.4137863  | -0.1768099  | 0.12272023  |\n",
       "| -0.3152440  |  0.06400674 |  0.4182118  | -0.8628212  | 0.22571757  |\n",
       "| -0.6762990  | -0.93876550 | -0.4137863  |  1.1851420  | 2.28566429  |\n",
       "\n"
      ],
      "text/plain": [
       "     [,1]       [,2]        [,3]       [,4]       [,5]      \n",
       "[1,] -1.4820682 -0.18668632  0.1062125 -0.7477267 0.77503669\n",
       "[2,] -0.2447942 -1.31480509 -0.2057867  1.0477479 0.77503669\n",
       "[3,] -0.4825622 -1.44015162 -0.6217858  1.2529998 0.08838778\n",
       "[4,] -0.6234617 -0.56272591 -0.4137863 -0.1768099 0.12272023\n",
       "[5,] -0.3152440  0.06400674  0.4182118 -0.8628212 0.22571757\n",
       "[6,] -0.6762990 -0.93876550 -0.4137863  1.1851420 2.28566429"
      ]
     },
     "metadata": {},
     "output_type": "display_data"
    }
   ],
   "source": [
    "decomp3 = svd(xnorm)\n",
    "names(decomp3)\n",
    "decomp3$v\n",
    "cat('*** reconstruct x(norm):')\n",
    "head(decomp3$u %*% diag(decomp3$d) %*% t(decomp3$v))"
   ]
  },
  {
   "cell_type": "markdown",
   "id": "7cfb27e5",
   "metadata": {},
   "source": [
    "## Correlation Checking\n",
    "Correlation Formula:\n",
    "\n",
    "\\begin{align}\n",
    "Cor(X, Y) = \\frac{Cov(X, Y)}{\\sigma_{x}\\sigma_{y}}\n",
    "\\end{align}\n",
    "\n",
    "Also:\n",
    "\n",
    "\\begin{align}\n",
    "Cov(X, Y) = <\\tilde{X}, \\tilde{Y}>\n",
    "\\end{align}"
   ]
  },
  {
   "cell_type": "code",
   "execution_count": 55,
   "id": "3b2e0ddf",
   "metadata": {},
   "outputs": [],
   "source": [
    "x1 = x[, 1]\n",
    "x2 = x[, 2]"
   ]
  },
  {
   "cell_type": "code",
   "execution_count": 56,
   "id": "057261d8",
   "metadata": {},
   "outputs": [
    {
     "data": {
      "text/html": [
       "-0.686542208617137"
      ],
      "text/latex": [
       "-0.686542208617137"
      ],
      "text/markdown": [
       "-0.686542208617137"
      ],
      "text/plain": [
       "[1] -0.6865422"
      ]
     },
     "metadata": {},
     "output_type": "display_data"
    }
   ],
   "source": [
    "cor(x1, x2)"
   ]
  },
  {
   "cell_type": "markdown",
   "id": "2f0fec1c",
   "metadata": {},
   "source": [
    "### Column Mean Centering"
   ]
  },
  {
   "cell_type": "code",
   "execution_count": 101,
   "id": "23993aa6",
   "metadata": {},
   "outputs": [
    {
     "data": {
      "text/html": [
       "<table>\n",
       "<tbody>\n",
       "\t<tr><td>1  </td><td>1  </td><td>1  </td><td>1  </td><td>1  </td><td>1  </td><td>1  </td><td>1  </td><td>1  </td><td>1  </td><td>...</td><td>1  </td><td>1  </td><td>1  </td><td>1  </td><td>1  </td><td>1  </td><td>1  </td><td>1  </td><td>1  </td><td>1  </td></tr>\n",
       "</tbody>\n",
       "</table>\n"
      ],
      "text/latex": [
       "\\begin{tabular}{lllllllllllllllllllllllllllllllllllllllllllllll}\n",
       "\t 1   & 1   & 1   & 1   & 1   & 1   & 1   & 1   & 1   & 1   & ... & 1   & 1   & 1   & 1   & 1   & 1   & 1   & 1   & 1   & 1  \\\\\n",
       "\\end{tabular}\n"
      ],
      "text/markdown": [
       "\n",
       "| 1   | 1   | 1   | 1   | 1   | 1   | 1   | 1   | 1   | 1   | ... | 1   | 1   | 1   | 1   | 1   | 1   | 1   | 1   | 1   | 1   |\n",
       "\n"
      ],
      "text/plain": [
       "     [,1] [,2] [,3] [,4] [,5] [,6] [,7] [,8] [,9] [,10] [,11] [,12] [,13] [,14]\n",
       "[1,] 1    1    1    1    1    1    1    1    1    1     ...   1     1     1    \n",
       "     [,15] [,16] [,17] [,18] [,19] [,20] [,21]\n",
       "[1,] 1     1     1     1     1     1     1    "
      ]
     },
     "metadata": {},
     "output_type": "display_data"
    },
    {
     "name": "stdout",
     "output_type": "stream",
     "text": [
      "dim: 47 1"
     ]
    }
   ],
   "source": [
    "Jn = matrix(rep(1, n), ncol=1)\n",
    "t(Jn)\n",
    "cat('dim:', dim(Jn))"
   ]
  },
  {
   "cell_type": "code",
   "execution_count": 83,
   "id": "5677ec90",
   "metadata": {},
   "outputs": [
    {
     "data": {
      "text/html": [
       "<table>\n",
       "<tbody>\n",
       "\t<tr><td>-33.65957</td><td>-5.559574</td><td>-10.95957</td><td>-14.15957</td><td>-7.159574</td><td>-15.35957</td><td>19.54043 </td><td>17.14043 </td><td>2.640426 </td><td>-5.459574</td><td>...      </td><td>12.44043 </td><td>-12.25957</td><td>-42.95957</td><td>-33.95957</td><td>-33.05957</td><td>-13.05957</td><td>-31.95957</td><td>-49.45957</td><td>-4.059574</td><td>-22.95957</td></tr>\n",
       "</tbody>\n",
       "</table>\n"
      ],
      "text/latex": [
       "\\begin{tabular}{lllllllllllllllllllllllllllllllllllllllllllllll}\n",
       "\t -33.65957 & -5.559574 & -10.95957 & -14.15957 & -7.159574 & -15.35957 & 19.54043  & 17.14043  & 2.640426  & -5.459574 & ...       & 12.44043  & -12.25957 & -42.95957 & -33.95957 & -33.05957 & -13.05957 & -31.95957 & -49.45957 & -4.059574 & -22.95957\\\\\n",
       "\\end{tabular}\n"
      ],
      "text/markdown": [
       "\n",
       "| -33.65957 | -5.559574 | -10.95957 | -14.15957 | -7.159574 | -15.35957 | 19.54043  | 17.14043  | 2.640426  | -5.459574 | ...       | 12.44043  | -12.25957 | -42.95957 | -33.95957 | -33.05957 | -13.05957 | -31.95957 | -49.45957 | -4.059574 | -22.95957 |\n",
       "\n"
      ],
      "text/plain": [
       "     [,1]      [,2]      [,3]      [,4]      [,5]      [,6]      [,7]    \n",
       "[1,] -33.65957 -5.559574 -10.95957 -14.15957 -7.159574 -15.35957 19.54043\n",
       "     [,8]     [,9]     [,10]     [,11] [,12]    [,13]     [,14]     [,15]    \n",
       "[1,] 17.14043 2.640426 -5.459574 ...   12.44043 -12.25957 -42.95957 -33.95957\n",
       "     [,16]     [,17]     [,18]     [,19]     [,20]     [,21]    \n",
       "[1,] -33.05957 -13.05957 -31.95957 -49.45957 -4.059574 -22.95957"
      ]
     },
     "metadata": {},
     "output_type": "display_data"
    },
    {
     "data": {
      "text/html": [
       "<table>\n",
       "<tbody>\n",
       "\t<tr><td>-33.65957</td><td>-5.559574</td><td>-10.95957</td><td>-14.15957</td><td>-7.159574</td><td>-15.35957</td><td>19.54043 </td><td>17.14043 </td><td>2.640426 </td><td>-5.459574</td><td>...      </td><td>12.44043 </td><td>-12.25957</td><td>-42.95957</td><td>-33.95957</td><td>-33.05957</td><td>-13.05957</td><td>-31.95957</td><td>-49.45957</td><td>-4.059574</td><td>-22.95957</td></tr>\n",
       "</tbody>\n",
       "</table>\n"
      ],
      "text/latex": [
       "\\begin{tabular}{lllllllllllllllllllllllllllllllllllllllllllllll}\n",
       "\t -33.65957 & -5.559574 & -10.95957 & -14.15957 & -7.159574 & -15.35957 & 19.54043  & 17.14043  & 2.640426  & -5.459574 & ...       & 12.44043  & -12.25957 & -42.95957 & -33.95957 & -33.05957 & -13.05957 & -31.95957 & -49.45957 & -4.059574 & -22.95957\\\\\n",
       "\\end{tabular}\n"
      ],
      "text/markdown": [
       "\n",
       "| -33.65957 | -5.559574 | -10.95957 | -14.15957 | -7.159574 | -15.35957 | 19.54043  | 17.14043  | 2.640426  | -5.459574 | ...       | 12.44043  | -12.25957 | -42.95957 | -33.95957 | -33.05957 | -13.05957 | -31.95957 | -49.45957 | -4.059574 | -22.95957 |\n",
       "\n"
      ],
      "text/plain": [
       "     [,1]      [,2]      [,3]      [,4]      [,5]      [,6]      [,7]    \n",
       "[1,] -33.65957 -5.559574 -10.95957 -14.15957 -7.159574 -15.35957 19.54043\n",
       "     [,8]     [,9]     [,10]     [,11] [,12]    [,13]     [,14]     [,15]    \n",
       "[1,] 17.14043 2.640426 -5.459574 ...   12.44043 -12.25957 -42.95957 -33.95957\n",
       "     [,16]     [,17]     [,18]     [,19]     [,20]     [,21]    \n",
       "[1,] -33.05957 -13.05957 -31.95957 -49.45957 -4.059574 -22.95957"
      ]
     },
     "metadata": {},
     "output_type": "display_data"
    }
   ],
   "source": [
    "x1c = x1 - Jn %*% solve(t(Jn) %*% Jn)  %*% t(Jn) %*% x1\n",
    "t(x1c)\n",
    "unname(t(x1 - mean(x1)))"
   ]
  },
  {
   "cell_type": "code",
   "execution_count": 85,
   "id": "27329940",
   "metadata": {},
   "outputs": [
    {
     "data": {
      "text/html": [
       "<table>\n",
       "<tbody>\n",
       "\t<tr><td>-1.489362 </td><td>-10.48936 </td><td>-11.48936 </td><td>-4.489362 </td><td>0.5106383 </td><td>-7.489362 </td><td>-0.4893617</td><td>-2.489362 </td><td>-4.489362 </td><td>-0.4893617</td><td>...       </td><td>-3.489362 </td><td>9.510638  </td><td>12.51064  </td><td>5.510638  </td><td>18.51064  </td><td>-1.489362 </td><td>8.510638  </td><td>20.51064  </td><td>-0.4893617</td><td>5.510638  </td></tr>\n",
       "</tbody>\n",
       "</table>\n"
      ],
      "text/latex": [
       "\\begin{tabular}{lllllllllllllllllllllllllllllllllllllllllllllll}\n",
       "\t -1.489362  & -10.48936  & -11.48936  & -4.489362  & 0.5106383  & -7.489362  & -0.4893617 & -2.489362  & -4.489362  & -0.4893617 & ...        & -3.489362  & 9.510638   & 12.51064   & 5.510638   & 18.51064   & -1.489362  & 8.510638   & 20.51064   & -0.4893617 & 5.510638  \\\\\n",
       "\\end{tabular}\n"
      ],
      "text/markdown": [
       "\n",
       "| -1.489362  | -10.48936  | -11.48936  | -4.489362  | 0.5106383  | -7.489362  | -0.4893617 | -2.489362  | -4.489362  | -0.4893617 | ...        | -3.489362  | 9.510638   | 12.51064   | 5.510638   | 18.51064   | -1.489362  | 8.510638   | 20.51064   | -0.4893617 | 5.510638   |\n",
       "\n"
      ],
      "text/plain": [
       "     [,1]      [,2]      [,3]      [,4]      [,5]      [,6]      [,7]      \n",
       "[1,] -1.489362 -10.48936 -11.48936 -4.489362 0.5106383 -7.489362 -0.4893617\n",
       "     [,8]      [,9]      [,10]      [,11] [,12]     [,13]    [,14]    [,15]   \n",
       "[1,] -2.489362 -4.489362 -0.4893617 ...   -3.489362 9.510638 12.51064 5.510638\n",
       "     [,16]    [,17]     [,18]    [,19]    [,20]      [,21]   \n",
       "[1,] 18.51064 -1.489362 8.510638 20.51064 -0.4893617 5.510638"
      ]
     },
     "metadata": {},
     "output_type": "display_data"
    },
    {
     "data": {
      "text/html": [
       "<table>\n",
       "<tbody>\n",
       "\t<tr><td>-1.489362 </td><td>-10.48936 </td><td>-11.48936 </td><td>-4.489362 </td><td>0.5106383 </td><td>-7.489362 </td><td>-0.4893617</td><td>-2.489362 </td><td>-4.489362 </td><td>-0.4893617</td><td>...       </td><td>-3.489362 </td><td>9.510638  </td><td>12.51064  </td><td>5.510638  </td><td>18.51064  </td><td>-1.489362 </td><td>8.510638  </td><td>20.51064  </td><td>-0.4893617</td><td>5.510638  </td></tr>\n",
       "</tbody>\n",
       "</table>\n"
      ],
      "text/latex": [
       "\\begin{tabular}{lllllllllllllllllllllllllllllllllllllllllllllll}\n",
       "\t -1.489362  & -10.48936  & -11.48936  & -4.489362  & 0.5106383  & -7.489362  & -0.4893617 & -2.489362  & -4.489362  & -0.4893617 & ...        & -3.489362  & 9.510638   & 12.51064   & 5.510638   & 18.51064   & -1.489362  & 8.510638   & 20.51064   & -0.4893617 & 5.510638  \\\\\n",
       "\\end{tabular}\n"
      ],
      "text/markdown": [
       "\n",
       "| -1.489362  | -10.48936  | -11.48936  | -4.489362  | 0.5106383  | -7.489362  | -0.4893617 | -2.489362  | -4.489362  | -0.4893617 | ...        | -3.489362  | 9.510638   | 12.51064   | 5.510638   | 18.51064   | -1.489362  | 8.510638   | 20.51064   | -0.4893617 | 5.510638   |\n",
       "\n"
      ],
      "text/plain": [
       "     [,1]      [,2]      [,3]      [,4]      [,5]      [,6]      [,7]      \n",
       "[1,] -1.489362 -10.48936 -11.48936 -4.489362 0.5106383 -7.489362 -0.4893617\n",
       "     [,8]      [,9]      [,10]      [,11] [,12]     [,13]    [,14]    [,15]   \n",
       "[1,] -2.489362 -4.489362 -0.4893617 ...   -3.489362 9.510638 12.51064 5.510638\n",
       "     [,16]    [,17]     [,18]    [,19]    [,20]      [,21]   \n",
       "[1,] 18.51064 -1.489362 8.510638 20.51064 -0.4893617 5.510638"
      ]
     },
     "metadata": {},
     "output_type": "display_data"
    }
   ],
   "source": [
    "x2c = x2 - Jn %*% solve(t(Jn) %*% Jn)  %*% t(Jn) %*% x2\n",
    "t(x2c)\n",
    "unname(t(x2 - mean(x2)))"
   ]
  },
  {
   "cell_type": "markdown",
   "id": "90e95f71",
   "metadata": {},
   "source": [
    "### Covariance"
   ]
  },
  {
   "cell_type": "code",
   "execution_count": 92,
   "id": "818a044e",
   "metadata": {},
   "outputs": [
    {
     "data": {
      "text/html": [
       "-124.392830712303"
      ],
      "text/latex": [
       "-124.392830712303"
      ],
      "text/markdown": [
       "-124.392830712303"
      ],
      "text/plain": [
       "[1] -124.3928"
      ]
     },
     "metadata": {},
     "output_type": "display_data"
    },
    {
     "data": {
      "text/html": [
       "<table>\n",
       "<tbody>\n",
       "\t<tr><td>-124.3928</td></tr>\n",
       "</tbody>\n",
       "</table>\n"
      ],
      "text/latex": [
       "\\begin{tabular}{l}\n",
       "\t -124.3928\\\\\n",
       "\\end{tabular}\n"
      ],
      "text/markdown": [
       "\n",
       "| -124.3928 |\n",
       "\n"
      ],
      "text/plain": [
       "     [,1]     \n",
       "[1,] -124.3928"
      ]
     },
     "metadata": {},
     "output_type": "display_data"
    }
   ],
   "source": [
    "cov(x1, x2)\n",
    "\n",
    "t(x1c) %*% x2c / (n-1)"
   ]
  },
  {
   "cell_type": "markdown",
   "id": "1666259a",
   "metadata": {},
   "source": [
    "### Correlation"
   ]
  },
  {
   "cell_type": "code",
   "execution_count": 94,
   "id": "b85d6357",
   "metadata": {},
   "outputs": [
    {
     "data": {
      "text/html": [
       "<table>\n",
       "<tbody>\n",
       "\t<tr><td>-0.6865422</td></tr>\n",
       "</tbody>\n",
       "</table>\n"
      ],
      "text/latex": [
       "\\begin{tabular}{l}\n",
       "\t -0.6865422\\\\\n",
       "\\end{tabular}\n"
      ],
      "text/markdown": [
       "\n",
       "| -0.6865422 |\n",
       "\n"
      ],
      "text/plain": [
       "     [,1]      \n",
       "[1,] -0.6865422"
      ]
     },
     "metadata": {},
     "output_type": "display_data"
    },
    {
     "data": {
      "text/html": [
       "-0.686542208617137"
      ],
      "text/latex": [
       "-0.686542208617137"
      ],
      "text/markdown": [
       "-0.686542208617137"
      ],
      "text/plain": [
       "[1] -0.6865422"
      ]
     },
     "metadata": {},
     "output_type": "display_data"
    }
   ],
   "source": [
    "t(x1c) %*% x2c / (n-1)  / sqrt(var(x1) * var(x2))\n",
    "cor(x1, x2)"
   ]
  },
  {
   "cell_type": "code",
   "execution_count": null,
   "id": "83eaeb7b",
   "metadata": {},
   "outputs": [],
   "source": []
  }
 ],
 "metadata": {
  "kernelspec": {
   "display_name": "R",
   "language": "R",
   "name": "ir"
  }
 },
 "nbformat": 4,
 "nbformat_minor": 5
}
