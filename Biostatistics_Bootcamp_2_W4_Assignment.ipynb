{
 "cells": [
  {
   "cell_type": "markdown",
   "id": "331d5b40",
   "metadata": {},
   "source": [
    "## Problem 1\n",
    "A case-control study of esophageal cancer was performed. Daily alcohol consumption was ascertained (H = high, L = low). The data was stratified by 2 age groups.\n",
    "\n",
    "Low age group:\n",
    "\n",
    "|  | H | L |\n",
    "| - | - | - |\n",
    "|**Case** | 8 | 5 |\n",
    "|**Control** | 52 | 164 |\n",
    "\n",
    "\n",
    "\n",
    "High age group:\n",
    "\n",
    "|  | H | L |\n",
    "| - | - | - |\n",
    "|**Case** | 25 | 21 |\n",
    "|**Control** | 29 | 128 |\n",
    "\n",
    "Assuming a constant odds ratio across age-strata, test to see if the odds ratio is 1 and report a Pvalue"
   ]
  },
  {
   "cell_type": "code",
   "execution_count": 145,
   "id": "2223ad76",
   "metadata": {},
   "outputs": [
    {
     "data": {
      "text/html": [
       "<ol class=list-inline>\n",
       "\t<li>8</li>\n",
       "\t<li>5</li>\n",
       "\t<li>52</li>\n",
       "\t<li>164</li>\n",
       "\t<li>25</li>\n",
       "\t<li>21</li>\n",
       "\t<li>29</li>\n",
       "\t<li>128</li>\n",
       "</ol>\n"
      ],
      "text/latex": [
       "\\begin{enumerate*}\n",
       "\\item 8\n",
       "\\item 5\n",
       "\\item 52\n",
       "\\item 164\n",
       "\\item 25\n",
       "\\item 21\n",
       "\\item 29\n",
       "\\item 128\n",
       "\\end{enumerate*}\n"
      ],
      "text/markdown": [
       "1. 8\n",
       "2. 5\n",
       "3. 52\n",
       "4. 164\n",
       "5. 25\n",
       "6. 21\n",
       "7. 29\n",
       "8. 128\n",
       "\n",
       "\n"
      ],
      "text/plain": [
       ", , 1\n",
       "\n",
       "     [,1] [,2]\n",
       "[1,]    8   52\n",
       "[2,]    5  164\n",
       "\n",
       ", , 2\n",
       "\n",
       "     [,1] [,2]\n",
       "[1,]   25   29\n",
       "[2,]   21  128\n"
      ]
     },
     "metadata": {},
     "output_type": "display_data"
    },
    {
     "data": {
      "text/plain": [
       "\n",
       "\tMantel-Haenszel chi-squared test with continuity correction\n",
       "\n",
       "data:  dat\n",
       "Mantel-Haenszel X-squared = 30.354, df = 1, p-value = 3.6e-08\n",
       "alternative hypothesis: true common odds ratio is not equal to 1\n",
       "95 percent confidence interval:\n",
       " 2.842789 9.501945\n",
       "sample estimates:\n",
       "common odds ratio \n",
       "          5.19731 \n"
      ]
     },
     "metadata": {},
     "output_type": "display_data"
    }
   ],
   "source": [
    "dat <- array(c(8, 5, 52, 164, 25, 21, 29, 128), dim=c(2, 2, 2))\n",
    "dat\n",
    "mantelhaen.test(dat)"
   ]
  },
  {
   "cell_type": "code",
   "execution_count": 119,
   "id": "68b44ae4",
   "metadata": {},
   "outputs": [
    {
     "ename": "ERROR",
     "evalue": "Error in library(\"pander\"): there is no package called ‘pander’\n",
     "output_type": "error",
     "traceback": [
      "Error in library(\"pander\"): there is no package called ‘pander’\nTraceback:\n",
      "1. library(\"pander\")"
     ]
    }
   ],
   "source": [
    "# library('pander')\n",
    "\n",
    "# whickham1 <- matrix(c(443, 139, 502, 230), byrow=TRUE, nrow=2)\n",
    "# rownames(whickham1) <- c(\"Smoker\", \"Non-Smoker\")\n",
    "# colnames(whickham1) <- c(\"Alive\", \"Dead\")\n",
    "# pander(addmargins(whickham1))"
   ]
  },
  {
   "cell_type": "markdown",
   "id": "9af46863",
   "metadata": {},
   "source": [
    "## Problem 2\n",
    "The Biostatistics and Epidemilogy departments are running a 10K road race. There are three pairs of runners. In each case, a runner from Biostat was matched to a runner from Epi of the same age, gender and degree of running experience. The difference in each pairs times was taken and a signed rank test performed.\n",
    "\n",
    "What is the smallest value that the two sided exact signed rank p-value could take?"
   ]
  },
  {
   "cell_type": "code",
   "execution_count": 167,
   "id": "5277fedd",
   "metadata": {},
   "outputs": [
    {
     "name": "stdout",
     "output_type": "stream",
     "text": [
      "sum(df$x): 0\n",
      "sum(df$p): 1\n",
      "min_pval: 0.25"
     ]
    }
   ],
   "source": [
    "df = data.frame(x=c(-6, -4, -2, 0, 2, 4, 6), p=c(1/8, 1/8, 1/8, 2/8, 1/8, 1/8, 1/8))\n",
    "cat('sum(df$x):', sum(df$x))\n",
    "cat('\\nsum(df$p):', sum(df$p))\n",
    "min_pval=sum(df[df$x>=6 | df$x <= -6, ])\n",
    "cat('\\nmin_pval:', min_pval)"
   ]
  },
  {
   "cell_type": "markdown",
   "id": "52fae537",
   "metadata": {},
   "source": [
    "## Problem 3\n",
    "Two computer based methods for diagnostic imaging are being studied. Ten images were processed with both methods, resulting in a + or − diagnosis for each method and image. The data are as follows:\n",
    "\n",
    "||||Method A |\n",
    "|-| - | - | - |\n",
    "||  | + | - |\n",
    "|**MethodB**|**+** | 55 | 41 |\n",
    "||**-** | 12 | 20 |\n",
    "\n",
    "Where Method A is represeted with the two columns and Method B is represented on the rows. What is the P-value for a of the hypothesis that the marginal probability of a positive diagnosis is the same for the two methods? (Use the large sample version.)"
   ]
  },
  {
   "cell_type": "code",
   "execution_count": 180,
   "id": "e1e21dfa",
   "metadata": {},
   "outputs": [
    {
     "name": "stdout",
     "output_type": "stream",
     "text": [
      "Exact pval: 8.171335e-05"
     ]
    },
    {
     "data": {
      "text/plain": [
       "\n",
       "\tMcNemar's Chi-squared test with continuity correction\n",
       "\n",
       "data:  matrix(c(55, 12, 41, 20), 2)\n",
       "McNemar's chi-squared = 14.792, df = 1, p-value = 0.00012\n"
      ]
     },
     "metadata": {},
     "output_type": "display_data"
    }
   ],
   "source": [
    "pval = pbinom(40, 12+41, .5, lower.tail=F) + pbinom(12, 12+41, .5, lower.tail=T)\n",
    "cat('Exact pval:', pval)\n",
    "\n",
    "mcnemar.test(matrix(c(55, 12, 41, 20), 2))"
   ]
  },
  {
   "cell_type": "markdown",
   "id": "cda7be5f",
   "metadata": {},
   "source": [
    "## Problem 4\n",
    "Two computer based methods for diagnostic imaging are being studied. Ten images were processed with both methods, resulting in a + or − diagnosis for each method and image. The data are as follows:\n",
    "\n",
    "||||Method A |\n",
    "|-| - | - | - |\n",
    "||  | + | - |\n",
    "|**MethodB**|**+** | 55 | 41 |\n",
    "||**-** | 12 | 20 |\n",
    "\n",
    "Where Method A is represeted with the two columns and Method B is represented on the rows.  What is the marginal odds ratio of a positive diagnosis comparing the two methods? (Put the odds associated with Method B in the numerator.)"
   ]
  },
  {
   "cell_type": "code",
   "execution_count": 198,
   "id": "a36c7732",
   "metadata": {},
   "outputs": [
    {
     "name": "stdout",
     "output_type": "stream",
     "text": [
      "or_b_2_a: 2.731343\n",
      "theta_hat: 1.004794\n",
      "se_hat: 0.2461472\n",
      "ci: 1.685977 4.424875"
     ]
    }
   ],
   "source": [
    "# n11=794\n",
    "# n12=150\n",
    "# n21=86\n",
    "# n22=570\n",
    "\n",
    "n11=55\n",
    "n12=41\n",
    "n21=12\n",
    "n22=20\n",
    "\n",
    "n = n11 + n12 + n21 + n22\n",
    "\n",
    "pi1p= (n11+n12)/n\n",
    "pi2p= (n21+n22)/n\n",
    "pip1= (n11+n21)/n\n",
    "pip2= (n12+n22)/n\n",
    "\n",
    "pi11 = n11/n\n",
    "pi12=n12/n\n",
    "pi21=n21/n\n",
    "pi22=n22/n\n",
    "\n",
    "or_b_2_a = pi1p/pi2p/(pip1/pip2)\n",
    "cat('or_b_2_a:', or_b_2_a)\n",
    "\n",
    "theta_hat=log(pi1p*pip2/(pip1*pi2p))\n",
    "cat('\\ntheta_hat:', theta_hat)\n",
    "\n",
    "se_hat = sqrt( ( (pi1p*pi2p)^-1 + (pip1*pip2)^-1 - 2*( pi11*pi22 - pi12*pi21 )/( pi1p*pi2p*pip1*pip2) ) / n )\n",
    "cat('\\nse_hat:', se_hat)\n",
    "\n",
    "ci = theta_hat + c(-1, 1) * 1.96 * se_hat\n",
    "cat('\\nci:', exp(ci))"
   ]
  },
  {
   "cell_type": "markdown",
   "id": "bcaa4c62",
   "metadata": {},
   "source": [
    "## Problem 5\n",
    "A matched case control study was executed to study an airborn environmental toxicant's effect on lung cancer. The data are:\n",
    "\n",
    "![](https://d3c33hcgiwev3.cloudfront.net/imageAssetProxy.v1/cAilR2bVEeWsnwqg7P8S6Q_95d8652f38c1f53df78937ca5b9ec5e4_q5-table.png?expiry=1685491200000&hmac=JffKaFpO_BqBSudrGfFmRaGqo_FnqjOcmTHfrlJhviM)\n",
    "\n",
    "What is the conditional odds ratio of odds of exposure for cases over odds of exposure for controls?"
   ]
  },
  {
   "cell_type": "code",
   "execution_count": 199,
   "id": "6a1fc2e5",
   "metadata": {},
   "outputs": [
    {
     "data": {
      "text/html": [
       "3.64285714285714"
      ],
      "text/latex": [
       "3.64285714285714"
      ],
      "text/markdown": [
       "3.64285714285714"
      ],
      "text/plain": [
       "[1] 3.642857"
      ]
     },
     "metadata": {},
     "output_type": "display_data"
    }
   ],
   "source": [
    "dat = c(243, 189, 54, 153)\n",
    "n11 = 243\n",
    "n12 = 54\n",
    "n21=189\n",
    "n22=153\n",
    "\n",
    "oodsExpo4C=n11/n21\n",
    "oddsExpo4Ctrl=n12/n22\n",
    "\n",
    "or_oodsExpo4C_oddsExpo4Ctrl = oodsExpo4C/oddsExpo4Ctrl\n",
    "or_oodsExpo4C_oddsExpo4Ctrl"
   ]
  },
  {
   "cell_type": "markdown",
   "id": "d64364a0",
   "metadata": {},
   "source": [
    "## Problem 5\n",
    "A topical rash treatment was applied to a portion of a rash on n patients. A quantitative measure of redness was calculated for the treated and untreated regions of the rash. A sign of + was given when the treated area was less red  (more improved) than the untreated area and a − sign when it was not. It is desired to know whether the treatment improves the rash. \n",
    "\n",
    "How many possible values can the P-value for the sign test take?"
   ]
  },
  {
   "cell_type": "markdown",
   "id": "7f89e18f",
   "metadata": {},
   "source": [
    "## Other Miscs"
   ]
  },
  {
   "cell_type": "code",
   "execution_count": 168,
   "id": "6cdf7d91",
   "metadata": {
    "scrolled": true
   },
   "outputs": [
    {
     "data": {
      "text/html": [
       "<ol class=list-inline>\n",
       "\t<li>0.648271740517312</li>\n",
       "\t<li>1.10266573419049</li>\n",
       "</ol>\n"
      ],
      "text/latex": [
       "\\begin{enumerate*}\n",
       "\\item 0.648271740517312\n",
       "\\item 1.10266573419049\n",
       "\\end{enumerate*}\n"
      ],
      "text/markdown": [
       "1. 0.648271740517312\n",
       "2. 1.10266573419049\n",
       "\n",
       "\n"
      ],
      "text/plain": [
       "[1] 0.6482717 1.1026657"
      ]
     },
     "metadata": {},
     "output_type": "display_data"
    }
   ],
   "source": [
    "c(-1, 1)*1.96*sqrt(1/432+1/297+1/207+1/342) + log(2.4)"
   ]
  },
  {
   "cell_type": "code",
   "execution_count": 98,
   "id": "43839637",
   "metadata": {},
   "outputs": [
    {
     "data": {
      "text/html": [
       "7.5525590087259"
      ],
      "text/latex": [
       "7.5525590087259"
      ],
      "text/markdown": [
       "7.5525590087259"
      ],
      "text/plain": [
       "[1] 7.552559"
      ]
     },
     "metadata": {},
     "output_type": "display_data"
    }
   ],
   "source": [
    "2*pnorm(-log(2.4)/sqrt(1/432+1/297+1/207+1/342), lower.tail=T)"
   ]
  },
  {
   "cell_type": "markdown",
   "id": "7c4b0792",
   "metadata": {},
   "source": [
    "## Problem 1\n",
    "At a party a friend brags that they can tell the difference between cheap and expensive wine. You ask him to taste eight glasses wine for which you have randomized as 4 expensive and 4 cheap. Calculate a P-vlaue for the relevant exact hypothesis test using R's fisher.test function."
   ]
  },
  {
   "cell_type": "code",
   "execution_count": 46,
   "id": "660b4a6c",
   "metadata": {
    "scrolled": true
   },
   "outputs": [
    {
     "data": {
      "text/plain": [
       "\n",
       "\tFisher's Exact Test for Count Data\n",
       "\n",
       "data:  matrix(c(4, 2, 1, 6), ncol = 2)\n",
       "p-value = 0.1026\n",
       "alternative hypothesis: true odds ratio is not equal to 1\n",
       "95 percent confidence interval:\n",
       "   0.5364938 682.2665965\n",
       "sample estimates:\n",
       "odds ratio \n",
       "  9.470989 \n"
      ]
     },
     "metadata": {},
     "output_type": "display_data"
    }
   ],
   "source": [
    "x = c(4, 2)\n",
    "y=c(1,6)\n",
    "fisher.test(matrix(c(4, 2, 1, 6), ncol=2))"
   ]
  },
  {
   "cell_type": "markdown",
   "id": "2126ff04",
   "metadata": {},
   "source": [
    "## Problem 2\n",
    "A drug treatment (T = treatment, P = Placebo) has been randomized to 5 patients in each arm. Consider testing an increase in side effects (S = side effects, N = none). The data are:\n",
    "\n",
    "x=c(3, 1)\n",
    "\n",
    "y = c(2, 4)"
   ]
  },
  {
   "cell_type": "code",
   "execution_count": 60,
   "id": "c926b0ba",
   "metadata": {},
   "outputs": [
    {
     "data": {
      "text/plain": [
       "\n",
       "\tFisher's Exact Test for Count Data\n",
       "\n",
       "data:  matrix(c(3, 1, 2, 4), ncol = 2)\n",
       "p-value = 0.2619\n",
       "alternative hypothesis: true odds ratio is greater than 1\n",
       "95 percent confidence interval:\n",
       " 0.3152217       Inf\n",
       "sample estimates:\n",
       "odds ratio \n",
       "  4.918388 \n"
      ]
     },
     "metadata": {},
     "output_type": "display_data"
    },
    {
     "data": {
      "text/plain": [
       "\n",
       "\tFisher's Exact Test for Count Data\n",
       "\n",
       "data:  matrix(c(3, 1, 2, 4), ncol = 2)\n",
       "p-value = 0.9762\n",
       "alternative hypothesis: true odds ratio is less than 1\n",
       "95 percent confidence interval:\n",
       "   0.0000 191.9862\n",
       "sample estimates:\n",
       "odds ratio \n",
       "  4.918388 \n"
      ]
     },
     "metadata": {},
     "output_type": "display_data"
    }
   ],
   "source": [
    "fisher.test(matrix(c(3, 1, 2, 4), ncol=2), alternative='greater')\n",
    "fisher.test(matrix(c(3, 1,2, 4), ncol=2), alternative='less')"
   ]
  },
  {
   "cell_type": "markdown",
   "id": "1700e45f",
   "metadata": {},
   "source": [
    "## Problem 5\n",
    "100 people who took a pain medication for chronic pain were asked if they still had pain one hour after receiving the dose. They received the dose on two separate weeks. The results are given below with the result of the first week's  dose on the rows and the second week's on the columns.\n",
    "(43, 4, 8, 45)"
   ]
  },
  {
   "cell_type": "code",
   "execution_count": 58,
   "id": "bed02574",
   "metadata": {},
   "outputs": [
    {
     "data": {
      "text/plain": [
       "\n",
       "\tPearson's Chi-squared test\n",
       "\n",
       "data:  matrix(c(43, 4, 8, 45), ncol = 2)\n",
       "X-squared = 58.175, df = 1, p-value = 2.398e-14\n"
      ]
     },
     "metadata": {},
     "output_type": "display_data"
    }
   ],
   "source": [
    "chisq.test(matrix(c(43, 4, 8, 45), ncol=2), correct=F)"
   ]
  },
  {
   "cell_type": "code",
   "execution_count": null,
   "id": "4c7179d2",
   "metadata": {},
   "outputs": [],
   "source": []
  },
  {
   "cell_type": "markdown",
   "id": "3b47a0cb",
   "metadata": {},
   "source": [
    "## Problem 6\n",
    "A researcher is studying migration patterns. She collected the location of the current and previous homes for subjects who moved across regions (Northeast, Souteast and West). She recorded the following:\n",
    "\n",
    "\n",
    "x=c(267, 255, 139)\n",
    "\n",
    "y = c(135, 240, 234)\n"
   ]
  },
  {
   "cell_type": "code",
   "execution_count": 67,
   "id": "14ae3a86",
   "metadata": {},
   "outputs": [
    {
     "data": {
      "text/plain": [
       "\n",
       "\tChi-squared test for given probabilities\n",
       "\n",
       "data:  x\n",
       "X-squared = 151.22, df = 2, p-value < 2.2e-16\n"
      ]
     },
     "metadata": {},
     "output_type": "display_data"
    },
    {
     "data": {
      "text/html": [
       "<table>\n",
       "<thead><tr><th></th><th scope=col>A</th><th scope=col>B</th></tr></thead>\n",
       "<tbody>\n",
       "\t<tr><th scope=row>none</th><td>70.0</td><td>70.0</td></tr>\n",
       "\t<tr><th scope=row>nausea</th><td>22.5</td><td>22.5</td></tr>\n",
       "\t<tr><th scope=row>nausea and vomiting</th><td> 7.5</td><td> 7.5</td></tr>\n",
       "</tbody>\n",
       "</table>\n"
      ],
      "text/latex": [
       "\\begin{tabular}{r|ll}\n",
       "  & A & B\\\\\n",
       "\\hline\n",
       "\tnone & 70.0 & 70.0\\\\\n",
       "\tnausea & 22.5 & 22.5\\\\\n",
       "\tnausea and vomiting &  7.5 &  7.5\\\\\n",
       "\\end{tabular}\n"
      ],
      "text/markdown": [
       "\n",
       "| <!--/--> | A | B |\n",
       "|---|---|---|\n",
       "| none | 70.0 | 70.0 |\n",
       "| nausea | 22.5 | 22.5 |\n",
       "| nausea and vomiting |  7.5 |  7.5 |\n",
       "\n"
      ],
      "text/plain": [
       "                    A    B   \n",
       "none                70.0 70.0\n",
       "nausea              22.5 22.5\n",
       "nausea and vomiting  7.5  7.5"
      ]
     },
     "metadata": {},
     "output_type": "display_data"
    }
   ],
   "source": [
    "x=c(267, 255, 139)\n",
    "y = c(135, 240, 234)\n",
    "\n",
    "chisq.test(x, p=y/sum(y), correct=FALSE)\n",
    "t(round(chisq$expected,2))"
   ]
  },
  {
   "cell_type": "code",
   "execution_count": 68,
   "id": "95ccd31e",
   "metadata": {},
   "outputs": [
    {
     "data": {
      "text/html": [
       "<table>\n",
       "<tbody>\n",
       "\t<tr><td>267</td><td>135</td></tr>\n",
       "\t<tr><td>255</td><td>240</td></tr>\n",
       "\t<tr><td>139</td><td>234</td></tr>\n",
       "</tbody>\n",
       "</table>\n"
      ],
      "text/latex": [
       "\\begin{tabular}{ll}\n",
       "\t 267 & 135\\\\\n",
       "\t 255 & 240\\\\\n",
       "\t 139 & 234\\\\\n",
       "\\end{tabular}\n"
      ],
      "text/markdown": [
       "\n",
       "| 267 | 135 |\n",
       "| 255 | 240 |\n",
       "| 139 | 234 |\n",
       "\n"
      ],
      "text/plain": [
       "     [,1] [,2]\n",
       "[1,] 267  135 \n",
       "[2,] 255  240 \n",
       "[3,] 139  234 "
      ]
     },
     "metadata": {},
     "output_type": "display_data"
    },
    {
     "data": {
      "text/plain": [
       "\n",
       "\tPearson's Chi-squared test\n",
       "\n",
       "data:  dtm\n",
       "X-squared = 65.975, df = 2, p-value = 4.717e-15\n"
      ]
     },
     "metadata": {},
     "output_type": "display_data"
    },
    {
     "data": {
      "text/html": [
       "<table>\n",
       "<thead><tr><th></th><th scope=col>A</th><th scope=col>B</th></tr></thead>\n",
       "<tbody>\n",
       "\t<tr><th scope=row>none</th><td>70.0</td><td>70.0</td></tr>\n",
       "\t<tr><th scope=row>nausea</th><td>22.5</td><td>22.5</td></tr>\n",
       "\t<tr><th scope=row>nausea and vomiting</th><td> 7.5</td><td> 7.5</td></tr>\n",
       "</tbody>\n",
       "</table>\n"
      ],
      "text/latex": [
       "\\begin{tabular}{r|ll}\n",
       "  & A & B\\\\\n",
       "\\hline\n",
       "\tnone & 70.0 & 70.0\\\\\n",
       "\tnausea & 22.5 & 22.5\\\\\n",
       "\tnausea and vomiting &  7.5 &  7.5\\\\\n",
       "\\end{tabular}\n"
      ],
      "text/markdown": [
       "\n",
       "| <!--/--> | A | B |\n",
       "|---|---|---|\n",
       "| none | 70.0 | 70.0 |\n",
       "| nausea | 22.5 | 22.5 |\n",
       "| nausea and vomiting |  7.5 |  7.5 |\n",
       "\n"
      ],
      "text/plain": [
       "                    A    B   \n",
       "none                70.0 70.0\n",
       "nausea              22.5 22.5\n",
       "nausea and vomiting  7.5  7.5"
      ]
     },
     "metadata": {},
     "output_type": "display_data"
    }
   ],
   "source": [
    "dtm = matrix(c(267, 255, 139, 135, 240, 234), ncol=2, byrow=F)\n",
    "dtm\n",
    "chisq.test(dtm, correct=FALSE)\n",
    "t(round(chisq$expected,2))"
   ]
  },
  {
   "cell_type": "markdown",
   "id": "279a71dd",
   "metadata": {},
   "source": [
    "## Problem 7\n",
    "Standard decks of playing cards have 13 cards of each suit (diamonds, clubs, hearts, spades) for a total of 52 cards. Someone gives you a 52 card deck. You draw a card, record its suit, replace the card, shuffle the deck and repeat that process 200 times, obtaining the following table\n",
    "\n",
    "(46, 54, 49, 51)"
   ]
  },
  {
   "cell_type": "code",
   "execution_count": 59,
   "id": "6c8d504c",
   "metadata": {},
   "outputs": [
    {
     "data": {
      "text/plain": [
       "\n",
       "\tChi-squared test for given probabilities\n",
       "\n",
       "data:  c(46, 54, 49, 51)\n",
       "X-squared = 0.68, df = 3, p-value = 0.8779\n"
      ]
     },
     "metadata": {},
     "output_type": "display_data"
    }
   ],
   "source": [
    "chisq.test(c(46, 54, 49, 51), p=rep(1/4, 4), correct=F)"
   ]
  },
  {
   "cell_type": "markdown",
   "id": "dd6c62ea",
   "metadata": {},
   "source": [
    "## Problem 3\n",
    "In a review of the author Jane Austen's work, scholars found the following relative frequencies of the words an''an'', that'' and “this''"
   ]
  },
  {
   "cell_type": "code",
   "execution_count": 53,
   "id": "cc74aa8a",
   "metadata": {},
   "outputs": [
    {
     "data": {
      "text/html": [
       "1"
      ],
      "text/latex": [
       "1"
      ],
      "text/markdown": [
       "1"
      ],
      "text/plain": [
       "[1] 1"
      ]
     },
     "metadata": {},
     "output_type": "display_data"
    }
   ],
   "source": [
    "props=c(.53, .35, .12)\n",
    "counts=c(140, 100, 50)\n",
    "sum(props)"
   ]
  },
  {
   "cell_type": "markdown",
   "id": "494493a4",
   "metadata": {},
   "source": [
    "### Chi-square Test"
   ]
  },
  {
   "cell_type": "code",
   "execution_count": 25,
   "id": "b3951532",
   "metadata": {},
   "outputs": [
    {
     "data": {
      "text/plain": [
       "\n",
       "\tChi-squared test for given probabilities\n",
       "\n",
       "data:  counts\n",
       "X-squared = 7.8824, df = 2, p-value = 0.01942\n"
      ]
     },
     "metadata": {},
     "output_type": "display_data"
    },
    {
     "name": "stdout",
     "output_type": "stream",
     "text": [
      "\n",
      "*** Expected:\n"
     ]
    },
    {
     "data": {
      "text/html": [
       "<table>\n",
       "<tbody>\n",
       "\t<tr><td>153.7</td><td>101.5</td><td>34.8 </td></tr>\n",
       "</tbody>\n",
       "</table>\n"
      ],
      "text/latex": [
       "\\begin{tabular}{lll}\n",
       "\t 153.7 & 101.5 & 34.8 \\\\\n",
       "\\end{tabular}\n"
      ],
      "text/markdown": [
       "\n",
       "| 153.7 | 101.5 | 34.8  |\n",
       "\n"
      ],
      "text/plain": [
       "     [,1]  [,2]  [,3]\n",
       "[1,] 153.7 101.5 34.8"
      ]
     },
     "metadata": {},
     "output_type": "display_data"
    }
   ],
   "source": [
    "chisq<-chisq.test(counts, p=props, correct=FALSE)\n",
    "chisq\n",
    "\n",
    "cat('\\n*** Expected:\\n')\n",
    "t(round(chisq$expected,2))"
   ]
  },
  {
   "cell_type": "markdown",
   "id": "20c76482",
   "metadata": {},
   "source": [
    "## Problem 4\n",
    "Two drugs, A and B , are being investigated in a randomized trial with the data are given below. Investigators would like to know if the Drug A and Drug B are equivalent in the terms of the distribution of side effects."
   ]
  },
  {
   "cell_type": "code",
   "execution_count": 61,
   "id": "c4f22870",
   "metadata": {},
   "outputs": [
    {
     "data": {
      "text/plain": [
       "  none nausea nausea and vomiting\n",
       "A   80     15                   5\n",
       "B   60     30                  10"
      ]
     },
     "metadata": {},
     "output_type": "display_data"
    },
    {
     "name": "stdout",
     "output_type": "stream",
     "text": [
      "*** Margins 1:\n"
     ]
    },
    {
     "data": {
      "text/plain": [
       "  A   B \n",
       "100 100 "
      ]
     },
     "metadata": {},
     "output_type": "display_data"
    },
    {
     "name": "stdout",
     "output_type": "stream",
     "text": [
      "*** Margins 2:\n"
     ]
    },
    {
     "data": {
      "text/plain": [
       "               none              nausea nausea and vomiting \n",
       "                140                  45                  15 "
      ]
     },
     "metadata": {},
     "output_type": "display_data"
    }
   ],
   "source": [
    "drg_a = c(80, 15, 5)\n",
    "drg_b = c(60, 30, 10)\n",
    "dtm = matrix(c(drg_a, drg_b), nrow=2, byrow=T)\n",
    "colnames(dtm)<-c('none', 'nausea', 'nausea and vomiting')\n",
    "rownames(dtm)<-c('A', 'B')\n",
    "dtt = as.table(dtm)\n",
    "dtt\n",
    "\n",
    "cat('*** Margins 1:\\n')\n",
    "margin.table(dtt, 1)\n",
    "cat('*** Margins 2:\\n')\n",
    "margin.table(dtt, 2)"
   ]
  },
  {
   "cell_type": "markdown",
   "id": "c4f03f12",
   "metadata": {},
   "source": [
    "### Chi-square Test"
   ]
  },
  {
   "cell_type": "code",
   "execution_count": 62,
   "id": "1379f518",
   "metadata": {},
   "outputs": [
    {
     "data": {
      "text/plain": [
       "\n",
       "\tPearson's Chi-squared test\n",
       "\n",
       "data:  dtm\n",
       "X-squared = 9.5238, df = 2, p-value = 0.008549\n"
      ]
     },
     "metadata": {},
     "output_type": "display_data"
    },
    {
     "name": "stdout",
     "output_type": "stream",
     "text": [
      "\n",
      "*** Expected:\n"
     ]
    },
    {
     "data": {
      "text/html": [
       "<table>\n",
       "<thead><tr><th></th><th scope=col>A</th><th scope=col>B</th></tr></thead>\n",
       "<tbody>\n",
       "\t<tr><th scope=row>none</th><td>70.0</td><td>70.0</td></tr>\n",
       "\t<tr><th scope=row>nausea</th><td>22.5</td><td>22.5</td></tr>\n",
       "\t<tr><th scope=row>nausea and vomiting</th><td> 7.5</td><td> 7.5</td></tr>\n",
       "</tbody>\n",
       "</table>\n"
      ],
      "text/latex": [
       "\\begin{tabular}{r|ll}\n",
       "  & A & B\\\\\n",
       "\\hline\n",
       "\tnone & 70.0 & 70.0\\\\\n",
       "\tnausea & 22.5 & 22.5\\\\\n",
       "\tnausea and vomiting &  7.5 &  7.5\\\\\n",
       "\\end{tabular}\n"
      ],
      "text/markdown": [
       "\n",
       "| <!--/--> | A | B |\n",
       "|---|---|---|\n",
       "| none | 70.0 | 70.0 |\n",
       "| nausea | 22.5 | 22.5 |\n",
       "| nausea and vomiting |  7.5 |  7.5 |\n",
       "\n"
      ],
      "text/plain": [
       "                    A    B   \n",
       "none                70.0 70.0\n",
       "nausea              22.5 22.5\n",
       "nausea and vomiting  7.5  7.5"
      ]
     },
     "metadata": {},
     "output_type": "display_data"
    },
    {
     "name": "stdout",
     "output_type": "stream",
     "text": [
      "*** Expected Margins 1:\n"
     ]
    },
    {
     "data": {
      "text/html": [
       "<table>\n",
       "<thead><tr><th scope=col>A</th><th scope=col>B</th></tr></thead>\n",
       "<tbody>\n",
       "\t<tr><td>100</td><td>100</td></tr>\n",
       "</tbody>\n",
       "</table>\n"
      ],
      "text/latex": [
       "\\begin{tabular}{ll}\n",
       " A & B\\\\\n",
       "\\hline\n",
       "\t 100 & 100\\\\\n",
       "\\end{tabular}\n"
      ],
      "text/markdown": [
       "\n",
       "| A | B |\n",
       "|---|---|\n",
       "| 100 | 100 |\n",
       "\n"
      ],
      "text/plain": [
       "     A   B  \n",
       "[1,] 100 100"
      ]
     },
     "metadata": {},
     "output_type": "display_data"
    },
    {
     "name": "stdout",
     "output_type": "stream",
     "text": [
      "*** Expected Margins 2:\n"
     ]
    },
    {
     "data": {
      "text/html": [
       "<table>\n",
       "<thead><tr><th scope=col>none</th><th scope=col>nausea</th><th scope=col>nausea and vomiting</th></tr></thead>\n",
       "<tbody>\n",
       "\t<tr><td>140</td><td>45 </td><td>15 </td></tr>\n",
       "</tbody>\n",
       "</table>\n"
      ],
      "text/latex": [
       "\\begin{tabular}{lll}\n",
       " none & nausea & nausea and vomiting\\\\\n",
       "\\hline\n",
       "\t 140 & 45  & 15 \\\\\n",
       "\\end{tabular}\n"
      ],
      "text/markdown": [
       "\n",
       "| none | nausea | nausea and vomiting |\n",
       "|---|---|---|\n",
       "| 140 | 45  | 15  |\n",
       "\n"
      ],
      "text/plain": [
       "     none nausea nausea and vomiting\n",
       "[1,] 140  45     15                 "
      ]
     },
     "metadata": {},
     "output_type": "display_data"
    }
   ],
   "source": [
    "chisq<-chisq.test(dtm, correct=FALSE)\n",
    "chisq\n",
    "\n",
    "cat('\\n*** Expected:\\n')\n",
    "t(round(chisq$expected,2))\n",
    "\n",
    "cat('*** Expected Margins 1:\\n')\n",
    "t(margin.table(chisq$expected, 1))\n",
    "\n",
    "cat('*** Expected Margins 2:\\n')\n",
    "t(margin.table(chisq$expected, 2))"
   ]
  },
  {
   "cell_type": "markdown",
   "id": "650ca596",
   "metadata": {},
   "source": [
    "## Problem 5"
   ]
  },
  {
   "cell_type": "code",
   "execution_count": 595,
   "id": "3d271425",
   "metadata": {},
   "outputs": [],
   "source": [
    "props=c(.301, .176, .125, .097, .079, .067, .058, .051, .046)\n",
    "# props=round(log10((1:9) + 1) - log10(1:9), 3)\n",
    "counts=c(275, 183, 133, 111, 76, 66, 66, 44, 56)"
   ]
  },
  {
   "cell_type": "markdown",
   "id": "8a523aa6",
   "metadata": {},
   "source": [
    "### Chi-square Test"
   ]
  },
  {
   "cell_type": "code",
   "execution_count": 596,
   "id": "28e652e4",
   "metadata": {
    "scrolled": true
   },
   "outputs": [
    {
     "data": {
      "text/plain": [
       "\n",
       "\tChi-squared test for given probabilities\n",
       "\n",
       "data:  counts\n",
       "X-squared = 9.4361, df = 8, p-value = 0.3069\n"
      ]
     },
     "metadata": {},
     "output_type": "display_data"
    },
    {
     "name": "stdout",
     "output_type": "stream",
     "text": [
      "\n",
      "*** Expected:\n"
     ]
    },
    {
     "data": {
      "text/html": [
       "<table>\n",
       "<tbody>\n",
       "\t<tr><td>304.04</td><td>177.85</td><td>126.19</td><td>97.88 </td><td>79.97 </td><td>67.62 </td><td>58.57 </td><td>51.66 </td><td>46.22 </td></tr>\n",
       "</tbody>\n",
       "</table>\n"
      ],
      "text/latex": [
       "\\begin{tabular}{lllllllll}\n",
       "\t 304.04 & 177.85 & 126.19 & 97.88  & 79.97  & 67.62  & 58.57  & 51.66  & 46.22 \\\\\n",
       "\\end{tabular}\n"
      ],
      "text/markdown": [
       "\n",
       "| 304.04 | 177.85 | 126.19 | 97.88  | 79.97  | 67.62  | 58.57  | 51.66  | 46.22  |\n",
       "\n"
      ],
      "text/plain": [
       "     [,1]   [,2]   [,3]   [,4]  [,5]  [,6]  [,7]  [,8]  [,9] \n",
       "[1,] 304.04 177.85 126.19 97.88 79.97 67.62 58.57 51.66 46.22"
      ]
     },
     "metadata": {},
     "output_type": "display_data"
    },
    {
     "name": "stdout",
     "output_type": "stream",
     "text": [
      "*** Expected Margins 1:\n"
     ]
    },
    {
     "ename": "ERROR",
     "evalue": "Error in margin.table(chisq$expected, 1): 'x' is not an array\n",
     "output_type": "error",
     "traceback": [
      "Error in margin.table(chisq$expected, 1): 'x' is not an array\nTraceback:\n",
      "1. t(margin.table(chisq$expected, 1))",
      "2. margin.table(chisq$expected, 1)",
      "3. stop(\"'x' is not an array\")"
     ]
    }
   ],
   "source": [
    "chisq<-chisq.test(counts, p=p, correct=FALSE)\n",
    "chisq\n",
    "\n",
    "cat('\\n*** Expected:\\n')\n",
    "t(round(chisq$expected,2))\n",
    "\n",
    "cat('*** Expected Margins 1:\\n')\n",
    "t(margin.table(chisq$expected, 1))\n",
    "\n",
    "cat('*** Expected Margins 2:\\n')\n",
    "t(margin.table(chisq$expected, 2))"
   ]
  },
  {
   "cell_type": "markdown",
   "id": "3ff37f00",
   "metadata": {},
   "source": [
    "## Problem 6"
   ]
  },
  {
   "cell_type": "code",
   "execution_count": 1,
   "id": "8c8a0f2f",
   "metadata": {},
   "outputs": [
    {
     "data": {
      "text/plain": [
       "           high low\n",
       "Exec         65  35\n",
       "Prof         70  30\n",
       "Lion Tamer   15  85"
      ]
     },
     "metadata": {},
     "output_type": "display_data"
    },
    {
     "data": {
      "text/plain": [
       "      Exec       Prof Lion Tamer \n",
       "       100        100        100 "
      ]
     },
     "metadata": {},
     "output_type": "display_data"
    },
    {
     "data": {
      "text/plain": [
       "high  low \n",
       " 150  150 "
      ]
     },
     "metadata": {},
     "output_type": "display_data"
    }
   ],
   "source": [
    "dtf = matrix(c(65, 35, 70, 30, 15, 85), ncol=2, byrow=T)\n",
    "colnames(dtf) <- c('high', 'low')\n",
    "rownames(dtf) <- c('Exec', 'Prof', 'Lion Tamer')\n",
    "\n",
    "dtf = as.table(dtf)\n",
    "dtf\n",
    "\n",
    "margin.table(dtf, 1)\n",
    "margin.table(dtf, 2)"
   ]
  },
  {
   "cell_type": "markdown",
   "id": "19e9bed8",
   "metadata": {},
   "source": [
    "### Chi-square Test"
   ]
  },
  {
   "cell_type": "code",
   "execution_count": 3,
   "id": "671b2ca2",
   "metadata": {},
   "outputs": [
    {
     "data": {
      "text/plain": [
       "\n",
       "\tPearson's Chi-squared test\n",
       "\n",
       "data:  dtf\n",
       "X-squared = 74, df = 2, p-value < 2.2e-16\n"
      ]
     },
     "metadata": {},
     "output_type": "display_data"
    },
    {
     "name": "stdout",
     "output_type": "stream",
     "text": [
      "\n",
      "*** Expected:\n"
     ]
    },
    {
     "data": {
      "text/html": [
       "<table>\n",
       "<thead><tr><th></th><th scope=col>Exec</th><th scope=col>Prof</th><th scope=col>Lion Tamer</th></tr></thead>\n",
       "<tbody>\n",
       "\t<tr><th scope=row>high</th><td>50</td><td>50</td><td>50</td></tr>\n",
       "\t<tr><th scope=row>low</th><td>50</td><td>50</td><td>50</td></tr>\n",
       "</tbody>\n",
       "</table>\n"
      ],
      "text/latex": [
       "\\begin{tabular}{r|lll}\n",
       "  & Exec & Prof & Lion Tamer\\\\\n",
       "\\hline\n",
       "\thigh & 50 & 50 & 50\\\\\n",
       "\tlow & 50 & 50 & 50\\\\\n",
       "\\end{tabular}\n"
      ],
      "text/markdown": [
       "\n",
       "| <!--/--> | Exec | Prof | Lion Tamer |\n",
       "|---|---|---|---|\n",
       "| high | 50 | 50 | 50 |\n",
       "| low | 50 | 50 | 50 |\n",
       "\n"
      ],
      "text/plain": [
       "     Exec Prof Lion Tamer\n",
       "high 50   50   50        \n",
       "low  50   50   50        "
      ]
     },
     "metadata": {},
     "output_type": "display_data"
    },
    {
     "name": "stdout",
     "output_type": "stream",
     "text": [
      "*** Expected Margins 1:\n"
     ]
    },
    {
     "data": {
      "text/html": [
       "<table>\n",
       "<thead><tr><th scope=col>Exec</th><th scope=col>Prof</th><th scope=col>Lion Tamer</th></tr></thead>\n",
       "<tbody>\n",
       "\t<tr><td>100</td><td>100</td><td>100</td></tr>\n",
       "</tbody>\n",
       "</table>\n"
      ],
      "text/latex": [
       "\\begin{tabular}{lll}\n",
       " Exec & Prof & Lion Tamer\\\\\n",
       "\\hline\n",
       "\t 100 & 100 & 100\\\\\n",
       "\\end{tabular}\n"
      ],
      "text/markdown": [
       "\n",
       "| Exec | Prof | Lion Tamer |\n",
       "|---|---|---|\n",
       "| 100 | 100 | 100 |\n",
       "\n"
      ],
      "text/plain": [
       "     Exec Prof Lion Tamer\n",
       "[1,] 100  100  100       "
      ]
     },
     "metadata": {},
     "output_type": "display_data"
    },
    {
     "name": "stdout",
     "output_type": "stream",
     "text": [
      "*** Expected Margins 2:\n"
     ]
    },
    {
     "data": {
      "text/html": [
       "<table>\n",
       "<thead><tr><th scope=col>high</th><th scope=col>low</th></tr></thead>\n",
       "<tbody>\n",
       "\t<tr><td>150</td><td>150</td></tr>\n",
       "</tbody>\n",
       "</table>\n"
      ],
      "text/latex": [
       "\\begin{tabular}{ll}\n",
       " high & low\\\\\n",
       "\\hline\n",
       "\t 150 & 150\\\\\n",
       "\\end{tabular}\n"
      ],
      "text/markdown": [
       "\n",
       "| high | low |\n",
       "|---|---|\n",
       "| 150 | 150 |\n",
       "\n"
      ],
      "text/plain": [
       "     high low\n",
       "[1,] 150  150"
      ]
     },
     "metadata": {},
     "output_type": "display_data"
    }
   ],
   "source": [
    "chisq<-chisq.test(dtf, correct=FALSE)\n",
    "chisq\n",
    "\n",
    "cat('\\n*** Expected:\\n')\n",
    "t(round(chisq$expected,2))\n",
    "\n",
    "cat('*** Expected Margins 1:\\n')\n",
    "t(margin.table(chisq$expected, 1))\n",
    "\n",
    "cat('*** Expected Margins 2:\\n')\n",
    "t(margin.table(chisq$expected, 2))"
   ]
  },
  {
   "cell_type": "code",
   "execution_count": null,
   "id": "def3616f",
   "metadata": {},
   "outputs": [],
   "source": []
  }
 ],
 "metadata": {
  "kernelspec": {
   "display_name": "R",
   "language": "R",
   "name": "ir"
  },
  "language_info": {
   "codemirror_mode": "r",
   "file_extension": ".r",
   "mimetype": "text/x-r-source",
   "name": "R",
   "pygments_lexer": "r",
   "version": "3.6.1"
  }
 },
 "nbformat": 4,
 "nbformat_minor": 5
}
