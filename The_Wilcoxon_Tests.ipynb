{
 "cells": [
  {
   "cell_type": "markdown",
   "id": "8a19827d",
   "metadata": {},
   "source": [
    "# The Wilcoxon Tests\n",
    "Let $X$ denote the number of seconds between two calls arrived in a specific call center and $m$ denote the median of $X$. A sample of 20 call time has been collected as follows:\n",
    "\n",
    "(6.8,5.7,2.1,19.0,4.8,18.9,6.9,5.3,4.1,9.8,1.7,7.0,18.9,16.9,10.4,44.1,2.9,2.4,4.8,7.9)\n",
    "\n",
    "Test the hypothesis $H_{0}: m = 6.2$ against the alternative $H_{1}: m < 6.2$."
   ]
  },
  {
   "cell_type": "code",
   "execution_count": 38,
   "id": "2d7c904b",
   "metadata": {},
   "outputs": [
    {
     "data": {
      "text/html": [
       "<ol class=list-inline>\n",
       "\t<li>6.8</li>\n",
       "\t<li>5.7</li>\n",
       "\t<li>2.1</li>\n",
       "\t<li>19</li>\n",
       "\t<li>4.8</li>\n",
       "\t<li>18.9</li>\n",
       "\t<li>6.9</li>\n",
       "\t<li>5.3</li>\n",
       "\t<li>4.1</li>\n",
       "\t<li>9.8</li>\n",
       "\t<li>1.7</li>\n",
       "\t<li>7</li>\n",
       "\t<li>18.9</li>\n",
       "\t<li>16.9</li>\n",
       "\t<li>10.4</li>\n",
       "\t<li>44.1</li>\n",
       "\t<li>2.9</li>\n",
       "\t<li>2.4</li>\n",
       "\t<li>4.8</li>\n",
       "\t<li>7.9</li>\n",
       "</ol>\n"
      ],
      "text/latex": [
       "\\begin{enumerate*}\n",
       "\\item 6.8\n",
       "\\item 5.7\n",
       "\\item 2.1\n",
       "\\item 19\n",
       "\\item 4.8\n",
       "\\item 18.9\n",
       "\\item 6.9\n",
       "\\item 5.3\n",
       "\\item 4.1\n",
       "\\item 9.8\n",
       "\\item 1.7\n",
       "\\item 7\n",
       "\\item 18.9\n",
       "\\item 16.9\n",
       "\\item 10.4\n",
       "\\item 44.1\n",
       "\\item 2.9\n",
       "\\item 2.4\n",
       "\\item 4.8\n",
       "\\item 7.9\n",
       "\\end{enumerate*}\n"
      ],
      "text/markdown": [
       "1. 6.8\n",
       "2. 5.7\n",
       "3. 2.1\n",
       "4. 19\n",
       "5. 4.8\n",
       "6. 18.9\n",
       "7. 6.9\n",
       "8. 5.3\n",
       "9. 4.1\n",
       "10. 9.8\n",
       "11. 1.7\n",
       "12. 7\n",
       "13. 18.9\n",
       "14. 16.9\n",
       "15. 10.4\n",
       "16. 44.1\n",
       "17. 2.9\n",
       "18. 2.4\n",
       "19. 4.8\n",
       "20. 7.9\n",
       "\n",
       "\n"
      ],
      "text/plain": [
       " [1]  6.8  5.7  2.1 19.0  4.8 18.9  6.9  5.3  4.1  9.8  1.7  7.0 18.9 16.9 10.4\n",
       "[16] 44.1  2.9  2.4  4.8  7.9"
      ]
     },
     "metadata": {},
     "output_type": "display_data"
    }
   ],
   "source": [
    "n = 20\n",
    "s = c(6.8,5.7,2.1,19.0,4.8,18.9,6.9,5.3,4.1,9.8,1.7,7.0,18.9,16.9,10.4,44.1,2.9,2.4,4.8,7.9)\n",
    "s"
   ]
  },
  {
   "cell_type": "markdown",
   "id": "e45b6616",
   "metadata": {},
   "source": [
    "## The Test Statistic\n",
    "Define the random variable $Y_{i} = 1_{X_{i} - m_{0} < 0}(X_{i} - m_{0})$ and the test statistic $Y = \\sum_{i=1}^{n}Y_{i}$. I follows that $Y \\sim Binom(n, .5)$. The value of the test statistic of the sample is:"
   ]
  },
  {
   "cell_type": "code",
   "execution_count": 101,
   "id": "1b89ee79",
   "metadata": {},
   "outputs": [
    {
     "data": {
      "text/html": [
       "9"
      ],
      "text/latex": [
       "9"
      ],
      "text/markdown": [
       "9"
      ],
      "text/plain": [
       "[1] 9"
      ]
     },
     "metadata": {},
     "output_type": "display_data"
    }
   ],
   "source": [
    "y = sum(s < 6.2)\n",
    "y"
   ]
  },
  {
   "cell_type": "markdown",
   "id": "cc998713",
   "metadata": {},
   "source": [
    "## Density Plot of $Binom(n, .5)$"
   ]
  },
  {
   "cell_type": "code",
   "execution_count": null,
   "id": "bf7284c0",
   "metadata": {},
   "outputs": [],
   "source": [
    "x=seq(0, 20)\n",
    "ps = dbinom(x, n, 1/2)\n",
    "plot(ps, pch=19, xlab='n', ylab='probability', col='blue')"
   ]
  },
  {
   "cell_type": "markdown",
   "id": "aaa2b2d0",
   "metadata": {},
   "source": [
    "## The *p*-Value"
   ]
  },
  {
   "cell_type": "code",
   "execution_count": 65,
   "id": "a4e9425d",
   "metadata": {},
   "outputs": [
    {
     "data": {
      "text/html": [
       "0.7483"
      ],
      "text/latex": [
       "0.7483"
      ],
      "text/markdown": [
       "0.7483"
      ],
      "text/plain": [
       "[1] 0.7483"
      ]
     },
     "metadata": {},
     "output_type": "display_data"
    }
   ],
   "source": [
    "pVal = pbinom(y - 1, n, 1/2, lower.tail=F)\n",
    "round(pVal, digits=4)"
   ]
  },
  {
   "cell_type": "markdown",
   "id": "73dcbdd5",
   "metadata": {},
   "source": [
    "Since *p*-Value is high as .7483 we do not reject the null hypothesis."
   ]
  },
  {
   "cell_type": "markdown",
   "id": "0c9628f1",
   "metadata": {},
   "source": [
    "## The Critical Value"
   ]
  },
  {
   "cell_type": "code",
   "execution_count": 99,
   "id": "ab53851b",
   "metadata": {},
   "outputs": [
    {
     "data": {
      "text/html": [
       "<ol class=list-inline>\n",
       "\t<li>1e-06</li>\n",
       "\t<li>2e-05</li>\n",
       "\t<li>0.000201</li>\n",
       "\t<li>0.001288</li>\n",
       "\t<li>0.005909</li>\n",
       "\t<li>0.020695</li>\n",
       "\t<li>0.057659</li>\n",
       "\t<li>0.131588</li>\n",
       "\t<li>0.251722</li>\n",
       "\t<li>0.411901</li>\n",
       "\t<li>0.588099</li>\n",
       "\t<li>0.748278</li>\n",
       "\t<li>0.868412</li>\n",
       "\t<li>0.942341</li>\n",
       "\t<li>0.979305</li>\n",
       "\t<li>0.994091</li>\n",
       "\t<li>0.998712</li>\n",
       "\t<li>0.999799</li>\n",
       "\t<li>0.99998</li>\n",
       "\t<li>0.999999</li>\n",
       "\t<li>1</li>\n",
       "</ol>\n"
      ],
      "text/latex": [
       "\\begin{enumerate*}\n",
       "\\item 1e-06\n",
       "\\item 2e-05\n",
       "\\item 0.000201\n",
       "\\item 0.001288\n",
       "\\item 0.005909\n",
       "\\item 0.020695\n",
       "\\item 0.057659\n",
       "\\item 0.131588\n",
       "\\item 0.251722\n",
       "\\item 0.411901\n",
       "\\item 0.588099\n",
       "\\item 0.748278\n",
       "\\item 0.868412\n",
       "\\item 0.942341\n",
       "\\item 0.979305\n",
       "\\item 0.994091\n",
       "\\item 0.998712\n",
       "\\item 0.999799\n",
       "\\item 0.99998\n",
       "\\item 0.999999\n",
       "\\item 1\n",
       "\\end{enumerate*}\n"
      ],
      "text/markdown": [
       "1. 1e-06\n",
       "2. 2e-05\n",
       "3. 0.000201\n",
       "4. 0.001288\n",
       "5. 0.005909\n",
       "6. 0.020695\n",
       "7. 0.057659\n",
       "8. 0.131588\n",
       "9. 0.251722\n",
       "10. 0.411901\n",
       "11. 0.588099\n",
       "12. 0.748278\n",
       "13. 0.868412\n",
       "14. 0.942341\n",
       "15. 0.979305\n",
       "16. 0.994091\n",
       "17. 0.998712\n",
       "18. 0.999799\n",
       "19. 0.99998\n",
       "20. 0.999999\n",
       "21. 1\n",
       "\n",
       "\n"
      ],
      "text/plain": [
       " [1] 0.000001 0.000020 0.000201 0.001288 0.005909 0.020695 0.057659 0.131588\n",
       " [9] 0.251722 0.411901 0.588099 0.748278 0.868412 0.942341 0.979305 0.994091\n",
       "[17] 0.998712 0.999799 0.999980 0.999999 1.000000"
      ]
     },
     "metadata": {},
     "output_type": "display_data"
    },
    {
     "data": {
      "text/html": [
       "'critVal: 7'"
      ],
      "text/latex": [
       "'critVal: 7'"
      ],
      "text/markdown": [
       "'critVal: 7'"
      ],
      "text/plain": [
       "[1] \"critVal: 7\""
      ]
     },
     "metadata": {},
     "output_type": "display_data"
    },
    {
     "data": {
      "text/html": [
       "'alphas: 0.8684'"
      ],
      "text/latex": [
       "'alphas: 0.8684'"
      ],
      "text/markdown": [
       "'alphas: 0.8684'"
      ],
      "text/plain": [
       "[1] \"alphas: 0.8684\""
      ]
     },
     "metadata": {},
     "output_type": "display_data"
    }
   ],
   "source": [
    "alphas = pbinom(seq(0, 20), 20, 1/2, lower.tail=T)\n",
    "round(alphas, digits=6)\n",
    "critVal = which.min(abs(alphas - .05))\n",
    "paste('critVal:', critVal)\n",
    "paste('alphas:', round(alphas[minIndx], digits=4))"
   ]
  },
  {
   "cell_type": "code",
   "execution_count": 84,
   "id": "b90fbd43",
   "metadata": {},
   "outputs": [
    {
     "data": {
      "text/html": [
       "0.0576591491699219"
      ],
      "text/latex": [
       "0.0576591491699219"
      ],
      "text/markdown": [
       "0.0576591491699219"
      ],
      "text/plain": [
       "[1] 0.05765915"
      ]
     },
     "metadata": {},
     "output_type": "display_data"
    }
   ],
   "source": [
    "pbinom(13, n, 1/2, lower.tail=F)"
   ]
  },
  {
   "cell_type": "code",
   "execution_count": 94,
   "id": "3bc1364c",
   "metadata": {},
   "outputs": [
    {
     "data": {
      "text/html": [
       "<ol class=list-inline>\n",
       "\t<li>0</li>\n",
       "\t<li>1</li>\n",
       "\t<li>2</li>\n",
       "\t<li>3</li>\n",
       "\t<li>4</li>\n",
       "\t<li>5</li>\n",
       "\t<li>6</li>\n",
       "\t<li>7</li>\n",
       "\t<li>8</li>\n",
       "\t<li>9</li>\n",
       "\t<li>10</li>\n",
       "\t<li>11</li>\n",
       "\t<li>12</li>\n",
       "\t<li>13</li>\n",
       "\t<li>14</li>\n",
       "\t<li>15</li>\n",
       "\t<li>16</li>\n",
       "\t<li>17</li>\n",
       "\t<li>18</li>\n",
       "\t<li>19</li>\n",
       "</ol>\n"
      ],
      "text/latex": [
       "\\begin{enumerate*}\n",
       "\\item 0\n",
       "\\item 1\n",
       "\\item 2\n",
       "\\item 3\n",
       "\\item 4\n",
       "\\item 5\n",
       "\\item 6\n",
       "\\item 7\n",
       "\\item 8\n",
       "\\item 9\n",
       "\\item 10\n",
       "\\item 11\n",
       "\\item 12\n",
       "\\item 13\n",
       "\\item 14\n",
       "\\item 15\n",
       "\\item 16\n",
       "\\item 17\n",
       "\\item 18\n",
       "\\item 19\n",
       "\\end{enumerate*}\n"
      ],
      "text/markdown": [
       "1. 0\n",
       "2. 1\n",
       "3. 2\n",
       "4. 3\n",
       "5. 4\n",
       "6. 5\n",
       "7. 6\n",
       "8. 7\n",
       "9. 8\n",
       "10. 9\n",
       "11. 10\n",
       "12. 11\n",
       "13. 12\n",
       "14. 13\n",
       "15. 14\n",
       "16. 15\n",
       "17. 16\n",
       "18. 17\n",
       "19. 18\n",
       "20. 19\n",
       "\n",
       "\n"
      ],
      "text/plain": [
       " [1]  0  1  2  3  4  5  6  7  8  9 10 11 12 13 14 15 16 17 18 19"
      ]
     },
     "metadata": {},
     "output_type": "display_data"
    }
   ],
   "source": [
    "seq(0, 19)"
   ]
  },
  {
   "cell_type": "code",
   "execution_count": null,
   "id": "df29ad1e",
   "metadata": {},
   "outputs": [],
   "source": []
  }
 ],
 "metadata": {
  "kernelspec": {
   "display_name": "R",
   "language": "R",
   "name": "ir"
  },
  "language_info": {
   "codemirror_mode": "r",
   "file_extension": ".r",
   "mimetype": "text/x-r-source",
   "name": "R",
   "pygments_lexer": "r",
   "version": "3.6.1"
  }
 },
 "nbformat": 4,
 "nbformat_minor": 5
}
