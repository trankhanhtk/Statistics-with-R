{
 "cells": [
  {
   "cell_type": "markdown",
   "id": "7bf03664",
   "metadata": {},
   "source": [
    "# Problem\n",
    "**Disclaimer**: This is actually solution for one of the assignment in \"Advanced Statistics for Data Science\" course on Coursera, so don't cheat on it if you're doing this assignment.\n",
    "\n",
    "Researchers are studying the relative concentration of blood lead for factory workers. They took the natural logarithm of ratio of blood lead concentration for 8 factory workers and 8 control subjects. The measurements resulted in a mean log concentration of 6 (log parts per volume) for the factory workers and 4 for the control subjects. The sample variance in the factory workers was 3 while it was 5 in the control group. Assuming equal variances, create a 95% confidence interval for the difference in the population means of log blood lead concentration between factory workers and controls (Factory works - Controls)."
   ]
  },
  {
   "cell_type": "markdown",
   "id": "69f6e36c",
   "metadata": {},
   "source": [
    "## The Formula for CI\n",
    "The pooled variance:\n",
    "\\begin{align}\n",
    "s_{pooled} = \\sqrt{\\frac{(n_{1} - 1) s_{1}^2 + (n_{2} - 1) s_{2}^2}{n_{1} + n_{2} - 2}}.\n",
    "\\end{align}\n",
    "\n",
    "The estimate of common variance:\n",
    "\n",
    "\\begin{align}\n",
    "\\hat{\\sigma}_{\\bar X - \\bar Y} = s_{pooled} \\sqrt{ \\frac{1}{n_{1}} + \\frac{1}{n_{2}} }\n",
    "\\end{align}\n",
    "\n",
    "The confidence interval:\n",
    "\n",
    "\\begin{align}\n",
    "\\bar x - \\bar y \\pm t_{\\alpha/2, n_{1} + n_{2} - 2} \\hat{\\sigma}_{\\bar X - \\bar Y}.\n",
    "\\end{align}"
   ]
  },
  {
   "cell_type": "markdown",
   "id": "97f7e3d0",
   "metadata": {},
   "source": [
    "## Pooled Variance"
   ]
  },
  {
   "cell_type": "code",
   "execution_count": 43,
   "id": "18939e3f",
   "metadata": {},
   "outputs": [
    {
     "data": {
      "text/html": [
       "2"
      ],
      "text/latex": [
       "2"
      ],
      "text/markdown": [
       "2"
      ],
      "text/plain": [
       "[1] 2"
      ]
     },
     "metadata": {},
     "output_type": "display_data"
    }
   ],
   "source": [
    "s_pooled = sqrt( (7*3 + 7*5)/(8*2 - 2) ) # or equal to sqrt of unweighted average variance since n1 = n2\n",
    "s_pooled"
   ]
  },
  {
   "cell_type": "markdown",
   "id": "502198ca",
   "metadata": {},
   "source": [
    "## Estimate of Common Variance"
   ]
  },
  {
   "cell_type": "code",
   "execution_count": 44,
   "id": "9e683a4f",
   "metadata": {},
   "outputs": [
    {
     "data": {
      "text/html": [
       "1"
      ],
      "text/latex": [
       "1"
      ],
      "text/markdown": [
       "1"
      ],
      "text/plain": [
       "[1] 1"
      ]
     },
     "metadata": {},
     "output_type": "display_data"
    }
   ],
   "source": [
    "sigma_hat = s_pooled * sqrt(1/8 + 1/8)\n",
    "sigma_hat"
   ]
  },
  {
   "cell_type": "markdown",
   "id": "142ed912",
   "metadata": {},
   "source": [
    "### The *t*-Multiplier"
   ]
  },
  {
   "cell_type": "code",
   "execution_count": 47,
   "id": "bc4b1ede",
   "metadata": {},
   "outputs": [
    {
     "data": {
      "text/html": [
       "0.692417069570005"
      ],
      "text/latex": [
       "0.692417069570005"
      ],
      "text/markdown": [
       "0.692417069570005"
      ],
      "text/plain": [
       "[1] 0.6924171"
      ]
     },
     "metadata": {},
     "output_type": "display_data"
    }
   ],
   "source": [
    "t_mul = qt(.25, 8*2 - 2, lower.tail=F)\n",
    "t_mul"
   ]
  },
  {
   "cell_type": "markdown",
   "id": "5e827c5b",
   "metadata": {},
   "source": [
    "## The CI"
   ]
  },
  {
   "cell_type": "code",
   "execution_count": 48,
   "id": "798f9e8d",
   "metadata": {},
   "outputs": [
    {
     "data": {
      "text/html": [
       "<ol class=list-inline>\n",
       "\t<li>1.31</li>\n",
       "\t<li>2.69</li>\n",
       "</ol>\n"
      ],
      "text/latex": [
       "\\begin{enumerate*}\n",
       "\\item 1.31\n",
       "\\item 2.69\n",
       "\\end{enumerate*}\n"
      ],
      "text/markdown": [
       "1. 1.31\n",
       "2. 2.69\n",
       "\n",
       "\n"
      ],
      "text/plain": [
       "[1] 1.31 2.69"
      ]
     },
     "metadata": {},
     "output_type": "display_data"
    }
   ],
   "source": [
    "sample_mean_diff = 6 - 4\n",
    "round(c(sample_mean_diff - t_mul*sigma_hat, sample_mean_diff + t_mul*sigma_hat), digits=2)"
   ]
  },
  {
   "cell_type": "markdown",
   "id": "f72e5d7e",
   "metadata": {},
   "source": [
    "## Wait! There's No Such CI in the Answer...\n",
    "That's because 5%/2 = .025 not 0.25 (it took me 1 hour to find this \"lethal\" typo!!!)."
   ]
  },
  {
   "cell_type": "markdown",
   "id": "db029fc8",
   "metadata": {},
   "source": [
    "## Redo the Calculation"
   ]
  },
  {
   "cell_type": "code",
   "execution_count": 50,
   "id": "6f5e97c5",
   "metadata": {},
   "outputs": [
    {
     "data": {
      "text/html": [
       "2.1447866879178"
      ],
      "text/latex": [
       "2.1447866879178"
      ],
      "text/markdown": [
       "2.1447866879178"
      ],
      "text/plain": [
       "[1] 2.144787"
      ]
     },
     "metadata": {},
     "output_type": "display_data"
    },
    {
     "data": {
      "text/html": [
       "<ol class=list-inline>\n",
       "\t<li>-0.14</li>\n",
       "\t<li>4.14</li>\n",
       "</ol>\n"
      ],
      "text/latex": [
       "\\begin{enumerate*}\n",
       "\\item -0.14\n",
       "\\item 4.14\n",
       "\\end{enumerate*}\n"
      ],
      "text/markdown": [
       "1. -0.14\n",
       "2. 4.14\n",
       "\n",
       "\n"
      ],
      "text/plain": [
       "[1] -0.14  4.14"
      ]
     },
     "metadata": {},
     "output_type": "display_data"
    }
   ],
   "source": [
    "t_mul = qt(.025, 8*2 - 2, lower.tail=F)\n",
    "t_mul\n",
    "sample_mean_diff = 6 - 4\n",
    "round(c(sample_mean_diff - t_mul*sigma_hat, sample_mean_diff + t_mul*sigma_hat), digits=2)"
   ]
  },
  {
   "cell_type": "code",
   "execution_count": null,
   "id": "aec8b4f2",
   "metadata": {},
   "outputs": [],
   "source": []
  }
 ],
 "metadata": {
  "kernelspec": {
   "display_name": "R",
   "language": "R",
   "name": "ir"
  },
  "language_info": {
   "codemirror_mode": "r",
   "file_extension": ".r",
   "mimetype": "text/x-r-source",
   "name": "R",
   "pygments_lexer": "r",
   "version": "3.6.1"
  }
 },
 "nbformat": 4,
 "nbformat_minor": 5
}
