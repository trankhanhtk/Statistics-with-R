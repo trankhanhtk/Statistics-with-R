{
 "cells": [
  {
   "cell_type": "code",
   "execution_count": 15,
   "id": "df9ad255",
   "metadata": {},
   "outputs": [
    {
     "name": "stdout",
     "output_type": "stream",
     "text": [
      "'data.frame':\t180 obs. of  2 variables:\n",
      " $ species: Factor w/ 2 levels \"robot\",\"human\": 1 2 2 2 1 2 2 1 2 1 ...\n",
      " $ choice : Factor w/ 3 levels \"puppy\",\"flower\",..: 2 3 3 3 3 2 3 3 1 2 ...\n"
     ]
    }
   ],
   "source": [
    "load( \"./data/chapek9.Rdata\" )\n",
    "str(chapek9)"
   ]
  },
  {
   "cell_type": "code",
   "execution_count": 13,
   "id": "8b9cea17",
   "metadata": {},
   "outputs": [
    {
     "data": {
      "text/html": [
       "<table>\n",
       "<thead><tr><th scope=col>species</th><th scope=col>choice</th></tr></thead>\n",
       "<tbody>\n",
       "\t<tr><td>robot </td><td>flower</td></tr>\n",
       "\t<tr><td>human </td><td>data  </td></tr>\n",
       "\t<tr><td>human </td><td>data  </td></tr>\n",
       "\t<tr><td>human </td><td>data  </td></tr>\n",
       "\t<tr><td>robot </td><td>data  </td></tr>\n",
       "\t<tr><td>human </td><td>flower</td></tr>\n",
       "</tbody>\n",
       "</table>\n"
      ],
      "text/latex": [
       "\\begin{tabular}{r|ll}\n",
       " species & choice\\\\\n",
       "\\hline\n",
       "\t robot  & flower\\\\\n",
       "\t human  & data  \\\\\n",
       "\t human  & data  \\\\\n",
       "\t human  & data  \\\\\n",
       "\t robot  & data  \\\\\n",
       "\t human  & flower\\\\\n",
       "\\end{tabular}\n"
      ],
      "text/markdown": [
       "\n",
       "| species | choice |\n",
       "|---|---|\n",
       "| robot  | flower |\n",
       "| human  | data   |\n",
       "| human  | data   |\n",
       "| human  | data   |\n",
       "| robot  | data   |\n",
       "| human  | flower |\n",
       "\n"
      ],
      "text/plain": [
       "  species choice\n",
       "1 robot   flower\n",
       "2 human   data  \n",
       "3 human   data  \n",
       "4 human   data  \n",
       "5 robot   data  \n",
       "6 human   flower"
      ]
     },
     "metadata": {},
     "output_type": "display_data"
    }
   ],
   "source": [
    "head(chapek9)"
   ]
  },
  {
   "cell_type": "code",
   "execution_count": 16,
   "id": "8c721343",
   "metadata": {},
   "outputs": [
    {
     "data": {
      "text/plain": [
       "  species      choice   \n",
       " robot:87   puppy : 28  \n",
       " human:93   flower: 43  \n",
       "            data  :109  "
      ]
     },
     "metadata": {},
     "output_type": "display_data"
    }
   ],
   "source": [
    "summary(chapek9)"
   ]
  },
  {
   "cell_type": "code",
   "execution_count": 17,
   "id": "e2631f68",
   "metadata": {},
   "outputs": [
    {
     "data": {
      "text/plain": [
       "        species\n",
       "choice   robot human\n",
       "  puppy     13    15\n",
       "  flower    30    13\n",
       "  data      44    65"
      ]
     },
     "metadata": {},
     "output_type": "display_data"
    }
   ],
   "source": [
    "chapekFrequencies <- xtabs( ~ choice + species, data = chapek9)\n",
    "chapekFrequencies"
   ]
  },
  {
   "cell_type": "code",
   "execution_count": 18,
   "id": "20aecc6f",
   "metadata": {},
   "outputs": [
    {
     "data": {
      "text/plain": [
       "       choice\n",
       "species puppy flower data\n",
       "  robot    13     30   44\n",
       "  human    15     13   65"
      ]
     },
     "metadata": {},
     "output_type": "display_data"
    }
   ],
   "source": [
    "xtabs( ~  species + choice, data = chapek9)"
   ]
  },
  {
   "cell_type": "code",
   "execution_count": 19,
   "id": "6fceb5e8",
   "metadata": {},
   "outputs": [
    {
     "data": {
      "text/plain": [
       "\n",
       "\tPearson's Chi-squared test\n",
       "\n",
       "data:  chapekFrequencies\n",
       "X-squared = 10.722, df = 2, p-value = 0.004697\n"
      ]
     },
     "metadata": {},
     "output_type": "display_data"
    }
   ],
   "source": [
    "chisq.test( chapekFrequencies )"
   ]
  },
  {
   "cell_type": "code",
   "execution_count": 5,
   "id": "f4980830",
   "metadata": {},
   "outputs": [
    {
     "name": "stdout",
     "output_type": "stream",
     "text": [
      "'data.frame':\t200 obs. of  3 variables:\n",
      " $ id      : Factor w/ 200 levels \"subj1\",\"subj10\",..: 1 112 124 135 146 157 168 179 190 2 ...\n",
      " $ choice_1: Factor w/ 4 levels \"clubs\",\"diamonds\",..: 4 2 3 4 3 1 3 2 4 2 ...\n",
      " $ choice_2: Factor w/ 4 levels \"clubs\",\"diamonds\",..: 1 1 1 1 4 3 2 1 1 4 ...\n"
     ]
    }
   ],
   "source": [
    "load( \"./data/randomness.Rdata\" )\n",
    "str(cards)"
   ]
  },
  {
   "cell_type": "code",
   "execution_count": 7,
   "id": "05f4bc91",
   "metadata": {},
   "outputs": [
    {
     "data": {
      "text/plain": [
       "\n",
       "   clubs diamonds   hearts   spades \n",
       "      35       51       64       50 "
      ]
     },
     "metadata": {},
     "output_type": "display_data"
    }
   ],
   "source": [
    "observed <- table( cards$choice_1 )\n",
    "observed"
   ]
  },
  {
   "cell_type": "code",
   "execution_count": 10,
   "id": "ee5f3fe2",
   "metadata": {},
   "outputs": [
    {
     "data": {
      "text/plain": [
       "\n",
       "\tChi-squared test for given probabilities\n",
       "\n",
       "data:  observed\n",
       "X-squared = 8.44, df = 3, p-value = 0.03774\n"
      ]
     },
     "metadata": {},
     "output_type": "display_data"
    }
   ],
   "source": [
    "chisq.test( x = observed )"
   ]
  },
  {
   "cell_type": "code",
   "execution_count": null,
   "id": "ed556ec1",
   "metadata": {},
   "outputs": [],
   "source": [
    "chisq.test( x = observed, p = c(.2, .3, .3, .2) )"
   ]
  }
 ],
 "metadata": {
  "kernelspec": {
   "display_name": "R",
   "language": "R",
   "name": "ir"
  }
 },
 "nbformat": 4,
 "nbformat_minor": 5
}
