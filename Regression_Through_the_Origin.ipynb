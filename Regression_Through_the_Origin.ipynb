{
 "cells": [
  {
   "cell_type": "markdown",
   "id": "27ce59bb",
   "metadata": {},
   "source": [
    "## Before Centering"
   ]
  },
  {
   "cell_type": "code",
   "execution_count": 101,
   "id": "ea4f72ba",
   "metadata": {},
   "outputs": [],
   "source": [
    "y = mtcars$mpg\n",
    "x = mtcars$wt"
   ]
  },
  {
   "cell_type": "code",
   "execution_count": 108,
   "id": "94b560ef",
   "metadata": {
    "scrolled": true
   },
   "outputs": [
    {
     "ename": "ERROR",
     "evalue": "Error in model.frame.default(formula = y ~ c(x, x), drop.unused.levels = TRUE): variable lengths differ (found for 'c(x, x)')\n",
     "output_type": "error",
     "traceback": [
      "Error in model.frame.default(formula = y ~ c(x, x), drop.unused.levels = TRUE): variable lengths differ (found for 'c(x, x)')\nTraceback:\n",
      "1. lm(y ~ c(x, x))",
      "2. eval(mf, parent.frame())",
      "3. eval(mf, parent.frame())",
      "4. stats::model.frame(formula = y ~ c(x, x), drop.unused.levels = TRUE)",
      "5. model.frame.default(formula = y ~ c(x, x), drop.unused.levels = TRUE)"
     ]
    }
   ],
   "source": [
    "lm(y ~ c(x,x ))"
   ]
  },
  {
   "cell_type": "markdown",
   "id": "ab2eb41a",
   "metadata": {},
   "source": [
    "## Regression Through the Origin on Centering Data"
   ]
  },
  {
   "cell_type": "code",
   "execution_count": 103,
   "id": "a35b946f",
   "metadata": {},
   "outputs": [
    {
     "data": {
      "text/plain": [
       "\n",
       "Call:\n",
       "lm(formula = yc ~ xc - 1)\n",
       "\n",
       "Coefficients:\n",
       "    xc  \n",
       "-5.344  \n"
      ]
     },
     "metadata": {},
     "output_type": "display_data"
    }
   ],
   "source": [
    "yc = y - mean(y)\n",
    "xc = x - mean(x)\n",
    "lm(yc ~ xc - 1)"
   ]
  },
  {
   "cell_type": "markdown",
   "id": "49b0652b",
   "metadata": {},
   "source": [
    "## Some Useful Equalities\n",
    "Let $\\mathbf{1}_{n}$ be all-ones *nx1* vector $\\begin{pmatrix}\n",
    "  1 \\\\\n",
    "  \\vdots \\\\\n",
    "  1\n",
    "\\end{pmatrix}$ and $\\mathbf H$ be 1 $n_{th}$ of all-ones *nxn* matrix $\\begin{pmatrix}\n",
    "  1/n & 1/n & \\dots & 1/n \\\\\n",
    "  \\vdots & \\vdots & \\ddots & \\vdots \\\\\n",
    "  1/n & 1/n & \\dots & 1/n \n",
    "\\end{pmatrix}$ then:\n",
    "\n",
    "\\begin{align}\n",
    "\\mathbf H = \\mathbf{1}_{n} (\\mathbf{1}_{n}^{\\mathit t} \\mathbf{1}_{n})^{-1} \\mathbf{1}_{n}^{\\mathit t}\n",
    "\\end{align}\n",
    "\n",
    "Also the mean centering matrix $\\mathbf{yc} = \\mathbf y - \\mathbf{\\bar{y}}$ can be calculated as:\n",
    "\n",
    "\\begin{align}\n",
    "\\mathbf{yc} = (\\mathbf I - \\mathbf H) \\mathbf y\n",
    "\\end{align}"
   ]
  },
  {
   "cell_type": "markdown",
   "id": "68534991",
   "metadata": {},
   "source": [
    "### Examples"
   ]
  },
  {
   "cell_type": "code",
   "execution_count": 77,
   "id": "e12003ec",
   "metadata": {},
   "outputs": [
    {
     "data": {
      "text/html": [
       "<table>\n",
       "<tbody>\n",
       "\t<tr><td>27</td><td>82</td><td>77</td><td>37</td><td>4 </td></tr>\n",
       "</tbody>\n",
       "</table>\n"
      ],
      "text/latex": [
       "\\begin{tabular}{lllll}\n",
       "\t 27 & 82 & 77 & 37 & 4 \\\\\n",
       "\\end{tabular}\n"
      ],
      "text/markdown": [
       "\n",
       "| 27 | 82 | 77 | 37 | 4  |\n",
       "\n"
      ],
      "text/plain": [
       "     [,1] [,2] [,3] [,4] [,5]\n",
       "[1,] 27   82   77   37   4   "
      ]
     },
     "metadata": {},
     "output_type": "display_data"
    }
   ],
   "source": [
    "n = 5\n",
    "y = matrix(round(runif(n, 1, 100)), ncol=1)\n",
    "t(y)"
   ]
  },
  {
   "cell_type": "code",
   "execution_count": 78,
   "id": "9d1641bb",
   "metadata": {},
   "outputs": [],
   "source": [
    "# The identity matrix\n",
    "I = diag(rep(1, n))"
   ]
  },
  {
   "cell_type": "code",
   "execution_count": 79,
   "id": "0df47e4f",
   "metadata": {},
   "outputs": [
    {
     "data": {
      "text/html": [
       "<table>\n",
       "<tbody>\n",
       "\t<tr><td>0.2</td><td>0.2</td><td>0.2</td><td>0.2</td><td>0.2</td></tr>\n",
       "\t<tr><td>0.2</td><td>0.2</td><td>0.2</td><td>0.2</td><td>0.2</td></tr>\n",
       "\t<tr><td>0.2</td><td>0.2</td><td>0.2</td><td>0.2</td><td>0.2</td></tr>\n",
       "\t<tr><td>0.2</td><td>0.2</td><td>0.2</td><td>0.2</td><td>0.2</td></tr>\n",
       "\t<tr><td>0.2</td><td>0.2</td><td>0.2</td><td>0.2</td><td>0.2</td></tr>\n",
       "</tbody>\n",
       "</table>\n"
      ],
      "text/latex": [
       "\\begin{tabular}{lllll}\n",
       "\t 0.2 & 0.2 & 0.2 & 0.2 & 0.2\\\\\n",
       "\t 0.2 & 0.2 & 0.2 & 0.2 & 0.2\\\\\n",
       "\t 0.2 & 0.2 & 0.2 & 0.2 & 0.2\\\\\n",
       "\t 0.2 & 0.2 & 0.2 & 0.2 & 0.2\\\\\n",
       "\t 0.2 & 0.2 & 0.2 & 0.2 & 0.2\\\\\n",
       "\\end{tabular}\n"
      ],
      "text/markdown": [
       "\n",
       "| 0.2 | 0.2 | 0.2 | 0.2 | 0.2 |\n",
       "| 0.2 | 0.2 | 0.2 | 0.2 | 0.2 |\n",
       "| 0.2 | 0.2 | 0.2 | 0.2 | 0.2 |\n",
       "| 0.2 | 0.2 | 0.2 | 0.2 | 0.2 |\n",
       "| 0.2 | 0.2 | 0.2 | 0.2 | 0.2 |\n",
       "\n"
      ],
      "text/plain": [
       "     [,1] [,2] [,3] [,4] [,5]\n",
       "[1,] 0.2  0.2  0.2  0.2  0.2 \n",
       "[2,] 0.2  0.2  0.2  0.2  0.2 \n",
       "[3,] 0.2  0.2  0.2  0.2  0.2 \n",
       "[4,] 0.2  0.2  0.2  0.2  0.2 \n",
       "[5,] 0.2  0.2  0.2  0.2  0.2 "
      ]
     },
     "metadata": {},
     "output_type": "display_data"
    }
   ],
   "source": [
    "H = matrix(1, n, n)/n\n",
    "H"
   ]
  },
  {
   "cell_type": "code",
   "execution_count": 80,
   "id": "a0bfbc45",
   "metadata": {},
   "outputs": [
    {
     "data": {
      "text/html": [
       "<table>\n",
       "<tbody>\n",
       "\t<tr><td>1</td><td>1</td><td>1</td><td>1</td><td>1</td></tr>\n",
       "</tbody>\n",
       "</table>\n"
      ],
      "text/latex": [
       "\\begin{tabular}{lllll}\n",
       "\t 1 & 1 & 1 & 1 & 1\\\\\n",
       "\\end{tabular}\n"
      ],
      "text/markdown": [
       "\n",
       "| 1 | 1 | 1 | 1 | 1 |\n",
       "\n"
      ],
      "text/plain": [
       "     [,1] [,2] [,3] [,4] [,5]\n",
       "[1,] 1    1    1    1    1   "
      ]
     },
     "metadata": {},
     "output_type": "display_data"
    }
   ],
   "source": [
    "Jn = matrix(1, n, 1)\n",
    "t(Jn)"
   ]
  },
  {
   "cell_type": "code",
   "execution_count": 81,
   "id": "bff13892",
   "metadata": {},
   "outputs": [
    {
     "data": {
      "text/html": [
       "<table>\n",
       "<tbody>\n",
       "\t<tr><td>0.2</td><td>0.2</td><td>0.2</td><td>0.2</td><td>0.2</td></tr>\n",
       "\t<tr><td>0.2</td><td>0.2</td><td>0.2</td><td>0.2</td><td>0.2</td></tr>\n",
       "\t<tr><td>0.2</td><td>0.2</td><td>0.2</td><td>0.2</td><td>0.2</td></tr>\n",
       "\t<tr><td>0.2</td><td>0.2</td><td>0.2</td><td>0.2</td><td>0.2</td></tr>\n",
       "\t<tr><td>0.2</td><td>0.2</td><td>0.2</td><td>0.2</td><td>0.2</td></tr>\n",
       "</tbody>\n",
       "</table>\n"
      ],
      "text/latex": [
       "\\begin{tabular}{lllll}\n",
       "\t 0.2 & 0.2 & 0.2 & 0.2 & 0.2\\\\\n",
       "\t 0.2 & 0.2 & 0.2 & 0.2 & 0.2\\\\\n",
       "\t 0.2 & 0.2 & 0.2 & 0.2 & 0.2\\\\\n",
       "\t 0.2 & 0.2 & 0.2 & 0.2 & 0.2\\\\\n",
       "\t 0.2 & 0.2 & 0.2 & 0.2 & 0.2\\\\\n",
       "\\end{tabular}\n"
      ],
      "text/markdown": [
       "\n",
       "| 0.2 | 0.2 | 0.2 | 0.2 | 0.2 |\n",
       "| 0.2 | 0.2 | 0.2 | 0.2 | 0.2 |\n",
       "| 0.2 | 0.2 | 0.2 | 0.2 | 0.2 |\n",
       "| 0.2 | 0.2 | 0.2 | 0.2 | 0.2 |\n",
       "| 0.2 | 0.2 | 0.2 | 0.2 | 0.2 |\n",
       "\n"
      ],
      "text/plain": [
       "     [,1] [,2] [,3] [,4] [,5]\n",
       "[1,] 0.2  0.2  0.2  0.2  0.2 \n",
       "[2,] 0.2  0.2  0.2  0.2  0.2 \n",
       "[3,] 0.2  0.2  0.2  0.2  0.2 \n",
       "[4,] 0.2  0.2  0.2  0.2  0.2 \n",
       "[5,] 0.2  0.2  0.2  0.2  0.2 "
      ]
     },
     "metadata": {},
     "output_type": "display_data"
    }
   ],
   "source": [
    "Jn %*% solve(t(Jn) %*% Jn)  %*% t(Jn)"
   ]
  },
  {
   "cell_type": "code",
   "execution_count": 82,
   "id": "acf1f240",
   "metadata": {},
   "outputs": [
    {
     "data": {
      "text/html": [
       "<table>\n",
       "<tbody>\n",
       "\t<tr><td>TRUE</td><td>TRUE</td><td>TRUE</td><td>TRUE</td><td>TRUE</td></tr>\n",
       "\t<tr><td>TRUE</td><td>TRUE</td><td>TRUE</td><td>TRUE</td><td>TRUE</td></tr>\n",
       "\t<tr><td>TRUE</td><td>TRUE</td><td>TRUE</td><td>TRUE</td><td>TRUE</td></tr>\n",
       "\t<tr><td>TRUE</td><td>TRUE</td><td>TRUE</td><td>TRUE</td><td>TRUE</td></tr>\n",
       "\t<tr><td>TRUE</td><td>TRUE</td><td>TRUE</td><td>TRUE</td><td>TRUE</td></tr>\n",
       "</tbody>\n",
       "</table>\n"
      ],
      "text/latex": [
       "\\begin{tabular}{lllll}\n",
       "\t TRUE & TRUE & TRUE & TRUE & TRUE\\\\\n",
       "\t TRUE & TRUE & TRUE & TRUE & TRUE\\\\\n",
       "\t TRUE & TRUE & TRUE & TRUE & TRUE\\\\\n",
       "\t TRUE & TRUE & TRUE & TRUE & TRUE\\\\\n",
       "\t TRUE & TRUE & TRUE & TRUE & TRUE\\\\\n",
       "\\end{tabular}\n"
      ],
      "text/markdown": [
       "\n",
       "| TRUE | TRUE | TRUE | TRUE | TRUE |\n",
       "| TRUE | TRUE | TRUE | TRUE | TRUE |\n",
       "| TRUE | TRUE | TRUE | TRUE | TRUE |\n",
       "| TRUE | TRUE | TRUE | TRUE | TRUE |\n",
       "| TRUE | TRUE | TRUE | TRUE | TRUE |\n",
       "\n"
      ],
      "text/plain": [
       "     [,1] [,2] [,3] [,4] [,5]\n",
       "[1,] TRUE TRUE TRUE TRUE TRUE\n",
       "[2,] TRUE TRUE TRUE TRUE TRUE\n",
       "[3,] TRUE TRUE TRUE TRUE TRUE\n",
       "[4,] TRUE TRUE TRUE TRUE TRUE\n",
       "[5,] TRUE TRUE TRUE TRUE TRUE"
      ]
     },
     "metadata": {},
     "output_type": "display_data"
    }
   ],
   "source": [
    "H == Jn %*% solve(t(Jn) %*% Jn)  %*% t(Jn)"
   ]
  },
  {
   "cell_type": "code",
   "execution_count": 84,
   "id": "fca70ad0",
   "metadata": {},
   "outputs": [
    {
     "data": {
      "text/html": [
       "<table>\n",
       "<tbody>\n",
       "\t<tr><td>-18.4</td><td>36.6 </td><td>31.6 </td><td>-8.4 </td><td>-41.4</td></tr>\n",
       "</tbody>\n",
       "</table>\n"
      ],
      "text/latex": [
       "\\begin{tabular}{lllll}\n",
       "\t -18.4 & 36.6  & 31.6  & -8.4  & -41.4\\\\\n",
       "\\end{tabular}\n"
      ],
      "text/markdown": [
       "\n",
       "| -18.4 | 36.6  | 31.6  | -8.4  | -41.4 |\n",
       "\n"
      ],
      "text/plain": [
       "     [,1]  [,2] [,3] [,4] [,5] \n",
       "[1,] -18.4 36.6 31.6 -8.4 -41.4"
      ]
     },
     "metadata": {},
     "output_type": "display_data"
    }
   ],
   "source": [
    "yc = (I - H) %*% y\n",
    "t(yc)"
   ]
  },
  {
   "cell_type": "code",
   "execution_count": 86,
   "id": "58b43eaf",
   "metadata": {},
   "outputs": [
    {
     "data": {
      "text/html": [
       "<table>\n",
       "<tbody>\n",
       "\t<tr><td>-18.4</td><td>36.6 </td><td>31.6 </td><td>-8.4 </td><td>-41.4</td></tr>\n",
       "</tbody>\n",
       "</table>\n"
      ],
      "text/latex": [
       "\\begin{tabular}{lllll}\n",
       "\t -18.4 & 36.6  & 31.6  & -8.4  & -41.4\\\\\n",
       "\\end{tabular}\n"
      ],
      "text/markdown": [
       "\n",
       "| -18.4 | 36.6  | 31.6  | -8.4  | -41.4 |\n",
       "\n"
      ],
      "text/plain": [
       "     [,1]  [,2] [,3] [,4] [,5] \n",
       "[1,] -18.4 36.6 31.6 -8.4 -41.4"
      ]
     },
     "metadata": {},
     "output_type": "display_data"
    }
   ],
   "source": [
    "yc1 = y - mean(y)\n",
    "t(yc1)"
   ]
  },
  {
   "cell_type": "code",
   "execution_count": 99,
   "id": "db444a80",
   "metadata": {},
   "outputs": [
    {
     "data": {
      "text/html": [
       "<table>\n",
       "<tbody>\n",
       "\t<tr><td>0</td><td>0</td><td>0</td><td>0</td><td>0</td></tr>\n",
       "</tbody>\n",
       "</table>\n"
      ],
      "text/latex": [
       "\\begin{tabular}{lllll}\n",
       "\t 0 & 0 & 0 & 0 & 0\\\\\n",
       "\\end{tabular}\n"
      ],
      "text/markdown": [
       "\n",
       "| 0 | 0 | 0 | 0 | 0 |\n",
       "\n"
      ],
      "text/plain": [
       "     [,1] [,2] [,3] [,4] [,5]\n",
       "[1,] 0    0    0    0    0   "
      ]
     },
     "metadata": {},
     "output_type": "display_data"
    }
   ],
   "source": [
    "t(round(yc-yc1, 10))"
   ]
  },
  {
   "cell_type": "code",
   "execution_count": null,
   "id": "17c2bb16",
   "metadata": {},
   "outputs": [],
   "source": []
  }
 ],
 "metadata": {
  "kernelspec": {
   "display_name": "R",
   "language": "R",
   "name": "ir"
  },
  "language_info": {
   "codemirror_mode": "r",
   "file_extension": ".r",
   "mimetype": "text/x-r-source",
   "name": "R",
   "pygments_lexer": "r",
   "version": "3.6.1"
  }
 },
 "nbformat": 4,
 "nbformat_minor": 5
}
