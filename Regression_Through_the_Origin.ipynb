{
 "cells": [
  {
   "cell_type": "markdown",
   "id": "616cfc6f",
   "metadata": {},
   "source": [
    "## The Data"
   ]
  },
  {
   "cell_type": "code",
   "execution_count": 111,
   "id": "113aaa29",
   "metadata": {},
   "outputs": [
    {
     "data": {
      "text/html": [
       "<table>\n",
       "<thead><tr><th></th><th scope=col>mpg</th><th scope=col>cyl</th><th scope=col>disp</th><th scope=col>hp</th><th scope=col>drat</th><th scope=col>wt</th><th scope=col>qsec</th><th scope=col>vs</th><th scope=col>am</th><th scope=col>gear</th><th scope=col>carb</th></tr></thead>\n",
       "<tbody>\n",
       "\t<tr><th scope=row>Mazda RX4</th><td>21   </td><td>6    </td><td>160  </td><td>110  </td><td>3.9  </td><td>2.620</td><td>16.46</td><td>0    </td><td>1    </td><td>4    </td><td>4    </td></tr>\n",
       "\t<tr><th scope=row>Mazda RX4 Wag</th><td>21   </td><td>6    </td><td>160  </td><td>110  </td><td>3.9  </td><td>2.875</td><td>17.02</td><td>0    </td><td>1    </td><td>4    </td><td>4    </td></tr>\n",
       "</tbody>\n",
       "</table>\n"
      ],
      "text/latex": [
       "\\begin{tabular}{r|lllllllllll}\n",
       "  & mpg & cyl & disp & hp & drat & wt & qsec & vs & am & gear & carb\\\\\n",
       "\\hline\n",
       "\tMazda RX4 & 21    & 6     & 160   & 110   & 3.9   & 2.620 & 16.46 & 0     & 1     & 4     & 4    \\\\\n",
       "\tMazda RX4 Wag & 21    & 6     & 160   & 110   & 3.9   & 2.875 & 17.02 & 0     & 1     & 4     & 4    \\\\\n",
       "\\end{tabular}\n"
      ],
      "text/markdown": [
       "\n",
       "| <!--/--> | mpg | cyl | disp | hp | drat | wt | qsec | vs | am | gear | carb |\n",
       "|---|---|---|---|---|---|---|---|---|---|---|---|\n",
       "| Mazda RX4 | 21    | 6     | 160   | 110   | 3.9   | 2.620 | 16.46 | 0     | 1     | 4     | 4     |\n",
       "| Mazda RX4 Wag | 21    | 6     | 160   | 110   | 3.9   | 2.875 | 17.02 | 0     | 1     | 4     | 4     |\n",
       "\n"
      ],
      "text/plain": [
       "              mpg cyl disp hp  drat wt    qsec  vs am gear carb\n",
       "Mazda RX4     21  6   160  110 3.9  2.620 16.46 0  1  4    4   \n",
       "Mazda RX4 Wag 21  6   160  110 3.9  2.875 17.02 0  1  4    4   "
      ]
     },
     "metadata": {},
     "output_type": "display_data"
    }
   ],
   "source": [
    "head(mtcars, 2)"
   ]
  },
  {
   "cell_type": "markdown",
   "id": "0ec2e45c",
   "metadata": {},
   "source": [
    "## Before Centering"
   ]
  },
  {
   "cell_type": "code",
   "execution_count": 113,
   "id": "7fb6056f",
   "metadata": {},
   "outputs": [],
   "source": [
    "y = mtcars$mpg\n",
    "x1 = mtcars$wt\n",
    "x2 = mtcars$hp"
   ]
  },
  {
   "cell_type": "code",
   "execution_count": 114,
   "id": "f84151b9",
   "metadata": {
    "scrolled": true
   },
   "outputs": [
    {
     "data": {
      "text/plain": [
       "\n",
       "Call:\n",
       "lm(formula = y ~ x1 + x2)\n",
       "\n",
       "Coefficients:\n",
       "(Intercept)           x1           x2  \n",
       "   37.22727     -3.87783     -0.03177  \n"
      ]
     },
     "metadata": {},
     "output_type": "display_data"
    }
   ],
   "source": [
    "lm(y ~ x1 + x2)"
   ]
  },
  {
   "cell_type": "markdown",
   "id": "3fe2ee21",
   "metadata": {},
   "source": [
    "## Regression Through the Origin on Centering Data"
   ]
  },
  {
   "cell_type": "code",
   "execution_count": 115,
   "id": "8970453c",
   "metadata": {},
   "outputs": [
    {
     "data": {
      "text/plain": [
       "\n",
       "Call:\n",
       "lm(formula = yc ~ x1c + x2c - 1)\n",
       "\n",
       "Coefficients:\n",
       "     x1c       x2c  \n",
       "-3.87783  -0.03177  \n"
      ]
     },
     "metadata": {},
     "output_type": "display_data"
    }
   ],
   "source": [
    "yc = y - mean(y)\n",
    "x1c = x1 - mean(x1)\n",
    "x2c = x2 - mean(x2)\n",
    "lm(yc ~ x1c + x2c - 1)"
   ]
  },
  {
   "cell_type": "markdown",
   "id": "447a1b86",
   "metadata": {},
   "source": [
    "## Some Useful Equalities\n",
    "Let $\\mathbf{1}_{n}$ be all-ones *nx1* vector $\\begin{pmatrix}\n",
    "  1 \\\\\n",
    "  \\vdots \\\\\n",
    "  1\n",
    "\\end{pmatrix}$ and $\\mathbf H$ be 1 $n_{th}$ of all-ones *nxn* matrix $\\begin{pmatrix}\n",
    "  1/n & 1/n & \\dots & 1/n \\\\\n",
    "  \\vdots & \\vdots & \\ddots & \\vdots \\\\\n",
    "  1/n & 1/n & \\dots & 1/n \n",
    "\\end{pmatrix}$ then:\n",
    "\n",
    "\\begin{align}\n",
    "\\mathbf H = \\mathbf{1}_{n} (\\mathbf{1}_{n}^{\\mathit t} \\mathbf{1}_{n})^{-1} \\mathbf{1}_{n}^{\\mathit t}\n",
    "\\end{align}\n",
    "\n",
    "Also the mean centering matrix $\\mathbf{yc} = \\mathbf y - \\mathbf{\\bar{y}}$ can be calculated as:\n",
    "\n",
    "\\begin{align}\n",
    "\\mathbf{yc} = (\\mathbf I - \\mathbf H) \\mathbf y\n",
    "\\end{align}"
   ]
  },
  {
   "cell_type": "markdown",
   "id": "faab6845",
   "metadata": {},
   "source": [
    "### Examples"
   ]
  },
  {
   "cell_type": "code",
   "execution_count": 77,
   "id": "bdaeec1e",
   "metadata": {},
   "outputs": [
    {
     "data": {
      "text/html": [
       "<table>\n",
       "<tbody>\n",
       "\t<tr><td>27</td><td>82</td><td>77</td><td>37</td><td>4 </td></tr>\n",
       "</tbody>\n",
       "</table>\n"
      ],
      "text/latex": [
       "\\begin{tabular}{lllll}\n",
       "\t 27 & 82 & 77 & 37 & 4 \\\\\n",
       "\\end{tabular}\n"
      ],
      "text/markdown": [
       "\n",
       "| 27 | 82 | 77 | 37 | 4  |\n",
       "\n"
      ],
      "text/plain": [
       "     [,1] [,2] [,3] [,4] [,5]\n",
       "[1,] 27   82   77   37   4   "
      ]
     },
     "metadata": {},
     "output_type": "display_data"
    }
   ],
   "source": [
    "n = 5\n",
    "y = matrix(round(runif(n, 1, 100)), ncol=1)\n",
    "t(y)"
   ]
  },
  {
   "cell_type": "code",
   "execution_count": 78,
   "id": "195f8604",
   "metadata": {},
   "outputs": [],
   "source": [
    "# The identity matrix\n",
    "I = diag(rep(1, n))"
   ]
  },
  {
   "cell_type": "code",
   "execution_count": 79,
   "id": "192c5682",
   "metadata": {},
   "outputs": [
    {
     "data": {
      "text/html": [
       "<table>\n",
       "<tbody>\n",
       "\t<tr><td>0.2</td><td>0.2</td><td>0.2</td><td>0.2</td><td>0.2</td></tr>\n",
       "\t<tr><td>0.2</td><td>0.2</td><td>0.2</td><td>0.2</td><td>0.2</td></tr>\n",
       "\t<tr><td>0.2</td><td>0.2</td><td>0.2</td><td>0.2</td><td>0.2</td></tr>\n",
       "\t<tr><td>0.2</td><td>0.2</td><td>0.2</td><td>0.2</td><td>0.2</td></tr>\n",
       "\t<tr><td>0.2</td><td>0.2</td><td>0.2</td><td>0.2</td><td>0.2</td></tr>\n",
       "</tbody>\n",
       "</table>\n"
      ],
      "text/latex": [
       "\\begin{tabular}{lllll}\n",
       "\t 0.2 & 0.2 & 0.2 & 0.2 & 0.2\\\\\n",
       "\t 0.2 & 0.2 & 0.2 & 0.2 & 0.2\\\\\n",
       "\t 0.2 & 0.2 & 0.2 & 0.2 & 0.2\\\\\n",
       "\t 0.2 & 0.2 & 0.2 & 0.2 & 0.2\\\\\n",
       "\t 0.2 & 0.2 & 0.2 & 0.2 & 0.2\\\\\n",
       "\\end{tabular}\n"
      ],
      "text/markdown": [
       "\n",
       "| 0.2 | 0.2 | 0.2 | 0.2 | 0.2 |\n",
       "| 0.2 | 0.2 | 0.2 | 0.2 | 0.2 |\n",
       "| 0.2 | 0.2 | 0.2 | 0.2 | 0.2 |\n",
       "| 0.2 | 0.2 | 0.2 | 0.2 | 0.2 |\n",
       "| 0.2 | 0.2 | 0.2 | 0.2 | 0.2 |\n",
       "\n"
      ],
      "text/plain": [
       "     [,1] [,2] [,3] [,4] [,5]\n",
       "[1,] 0.2  0.2  0.2  0.2  0.2 \n",
       "[2,] 0.2  0.2  0.2  0.2  0.2 \n",
       "[3,] 0.2  0.2  0.2  0.2  0.2 \n",
       "[4,] 0.2  0.2  0.2  0.2  0.2 \n",
       "[5,] 0.2  0.2  0.2  0.2  0.2 "
      ]
     },
     "metadata": {},
     "output_type": "display_data"
    }
   ],
   "source": [
    "H = matrix(1, n, n)/n\n",
    "H"
   ]
  },
  {
   "cell_type": "code",
   "execution_count": 80,
   "id": "f078228a",
   "metadata": {},
   "outputs": [
    {
     "data": {
      "text/html": [
       "<table>\n",
       "<tbody>\n",
       "\t<tr><td>1</td><td>1</td><td>1</td><td>1</td><td>1</td></tr>\n",
       "</tbody>\n",
       "</table>\n"
      ],
      "text/latex": [
       "\\begin{tabular}{lllll}\n",
       "\t 1 & 1 & 1 & 1 & 1\\\\\n",
       "\\end{tabular}\n"
      ],
      "text/markdown": [
       "\n",
       "| 1 | 1 | 1 | 1 | 1 |\n",
       "\n"
      ],
      "text/plain": [
       "     [,1] [,2] [,3] [,4] [,5]\n",
       "[1,] 1    1    1    1    1   "
      ]
     },
     "metadata": {},
     "output_type": "display_data"
    }
   ],
   "source": [
    "Jn = matrix(1, n, 1)\n",
    "t(Jn)"
   ]
  },
  {
   "cell_type": "code",
   "execution_count": 81,
   "id": "48aa2305",
   "metadata": {},
   "outputs": [
    {
     "data": {
      "text/html": [
       "<table>\n",
       "<tbody>\n",
       "\t<tr><td>0.2</td><td>0.2</td><td>0.2</td><td>0.2</td><td>0.2</td></tr>\n",
       "\t<tr><td>0.2</td><td>0.2</td><td>0.2</td><td>0.2</td><td>0.2</td></tr>\n",
       "\t<tr><td>0.2</td><td>0.2</td><td>0.2</td><td>0.2</td><td>0.2</td></tr>\n",
       "\t<tr><td>0.2</td><td>0.2</td><td>0.2</td><td>0.2</td><td>0.2</td></tr>\n",
       "\t<tr><td>0.2</td><td>0.2</td><td>0.2</td><td>0.2</td><td>0.2</td></tr>\n",
       "</tbody>\n",
       "</table>\n"
      ],
      "text/latex": [
       "\\begin{tabular}{lllll}\n",
       "\t 0.2 & 0.2 & 0.2 & 0.2 & 0.2\\\\\n",
       "\t 0.2 & 0.2 & 0.2 & 0.2 & 0.2\\\\\n",
       "\t 0.2 & 0.2 & 0.2 & 0.2 & 0.2\\\\\n",
       "\t 0.2 & 0.2 & 0.2 & 0.2 & 0.2\\\\\n",
       "\t 0.2 & 0.2 & 0.2 & 0.2 & 0.2\\\\\n",
       "\\end{tabular}\n"
      ],
      "text/markdown": [
       "\n",
       "| 0.2 | 0.2 | 0.2 | 0.2 | 0.2 |\n",
       "| 0.2 | 0.2 | 0.2 | 0.2 | 0.2 |\n",
       "| 0.2 | 0.2 | 0.2 | 0.2 | 0.2 |\n",
       "| 0.2 | 0.2 | 0.2 | 0.2 | 0.2 |\n",
       "| 0.2 | 0.2 | 0.2 | 0.2 | 0.2 |\n",
       "\n"
      ],
      "text/plain": [
       "     [,1] [,2] [,3] [,4] [,5]\n",
       "[1,] 0.2  0.2  0.2  0.2  0.2 \n",
       "[2,] 0.2  0.2  0.2  0.2  0.2 \n",
       "[3,] 0.2  0.2  0.2  0.2  0.2 \n",
       "[4,] 0.2  0.2  0.2  0.2  0.2 \n",
       "[5,] 0.2  0.2  0.2  0.2  0.2 "
      ]
     },
     "metadata": {},
     "output_type": "display_data"
    }
   ],
   "source": [
    "Jn %*% solve(t(Jn) %*% Jn)  %*% t(Jn)"
   ]
  },
  {
   "cell_type": "code",
   "execution_count": 82,
   "id": "8c099c66",
   "metadata": {},
   "outputs": [
    {
     "data": {
      "text/html": [
       "<table>\n",
       "<tbody>\n",
       "\t<tr><td>TRUE</td><td>TRUE</td><td>TRUE</td><td>TRUE</td><td>TRUE</td></tr>\n",
       "\t<tr><td>TRUE</td><td>TRUE</td><td>TRUE</td><td>TRUE</td><td>TRUE</td></tr>\n",
       "\t<tr><td>TRUE</td><td>TRUE</td><td>TRUE</td><td>TRUE</td><td>TRUE</td></tr>\n",
       "\t<tr><td>TRUE</td><td>TRUE</td><td>TRUE</td><td>TRUE</td><td>TRUE</td></tr>\n",
       "\t<tr><td>TRUE</td><td>TRUE</td><td>TRUE</td><td>TRUE</td><td>TRUE</td></tr>\n",
       "</tbody>\n",
       "</table>\n"
      ],
      "text/latex": [
       "\\begin{tabular}{lllll}\n",
       "\t TRUE & TRUE & TRUE & TRUE & TRUE\\\\\n",
       "\t TRUE & TRUE & TRUE & TRUE & TRUE\\\\\n",
       "\t TRUE & TRUE & TRUE & TRUE & TRUE\\\\\n",
       "\t TRUE & TRUE & TRUE & TRUE & TRUE\\\\\n",
       "\t TRUE & TRUE & TRUE & TRUE & TRUE\\\\\n",
       "\\end{tabular}\n"
      ],
      "text/markdown": [
       "\n",
       "| TRUE | TRUE | TRUE | TRUE | TRUE |\n",
       "| TRUE | TRUE | TRUE | TRUE | TRUE |\n",
       "| TRUE | TRUE | TRUE | TRUE | TRUE |\n",
       "| TRUE | TRUE | TRUE | TRUE | TRUE |\n",
       "| TRUE | TRUE | TRUE | TRUE | TRUE |\n",
       "\n"
      ],
      "text/plain": [
       "     [,1] [,2] [,3] [,4] [,5]\n",
       "[1,] TRUE TRUE TRUE TRUE TRUE\n",
       "[2,] TRUE TRUE TRUE TRUE TRUE\n",
       "[3,] TRUE TRUE TRUE TRUE TRUE\n",
       "[4,] TRUE TRUE TRUE TRUE TRUE\n",
       "[5,] TRUE TRUE TRUE TRUE TRUE"
      ]
     },
     "metadata": {},
     "output_type": "display_data"
    }
   ],
   "source": [
    "H == Jn %*% solve(t(Jn) %*% Jn)  %*% t(Jn)"
   ]
  },
  {
   "cell_type": "code",
   "execution_count": 84,
   "id": "b87e9cca",
   "metadata": {},
   "outputs": [
    {
     "data": {
      "text/html": [
       "<table>\n",
       "<tbody>\n",
       "\t<tr><td>-18.4</td><td>36.6 </td><td>31.6 </td><td>-8.4 </td><td>-41.4</td></tr>\n",
       "</tbody>\n",
       "</table>\n"
      ],
      "text/latex": [
       "\\begin{tabular}{lllll}\n",
       "\t -18.4 & 36.6  & 31.6  & -8.4  & -41.4\\\\\n",
       "\\end{tabular}\n"
      ],
      "text/markdown": [
       "\n",
       "| -18.4 | 36.6  | 31.6  | -8.4  | -41.4 |\n",
       "\n"
      ],
      "text/plain": [
       "     [,1]  [,2] [,3] [,4] [,5] \n",
       "[1,] -18.4 36.6 31.6 -8.4 -41.4"
      ]
     },
     "metadata": {},
     "output_type": "display_data"
    }
   ],
   "source": [
    "yc = (I - H) %*% y\n",
    "t(yc)"
   ]
  },
  {
   "cell_type": "code",
   "execution_count": 86,
   "id": "5b70d54a",
   "metadata": {},
   "outputs": [
    {
     "data": {
      "text/html": [
       "<table>\n",
       "<tbody>\n",
       "\t<tr><td>-18.4</td><td>36.6 </td><td>31.6 </td><td>-8.4 </td><td>-41.4</td></tr>\n",
       "</tbody>\n",
       "</table>\n"
      ],
      "text/latex": [
       "\\begin{tabular}{lllll}\n",
       "\t -18.4 & 36.6  & 31.6  & -8.4  & -41.4\\\\\n",
       "\\end{tabular}\n"
      ],
      "text/markdown": [
       "\n",
       "| -18.4 | 36.6  | 31.6  | -8.4  | -41.4 |\n",
       "\n"
      ],
      "text/plain": [
       "     [,1]  [,2] [,3] [,4] [,5] \n",
       "[1,] -18.4 36.6 31.6 -8.4 -41.4"
      ]
     },
     "metadata": {},
     "output_type": "display_data"
    }
   ],
   "source": [
    "yc1 = y - mean(y)\n",
    "t(yc1)"
   ]
  },
  {
   "cell_type": "code",
   "execution_count": 99,
   "id": "d2349b19",
   "metadata": {},
   "outputs": [
    {
     "data": {
      "text/html": [
       "<table>\n",
       "<tbody>\n",
       "\t<tr><td>0</td><td>0</td><td>0</td><td>0</td><td>0</td></tr>\n",
       "</tbody>\n",
       "</table>\n"
      ],
      "text/latex": [
       "\\begin{tabular}{lllll}\n",
       "\t 0 & 0 & 0 & 0 & 0\\\\\n",
       "\\end{tabular}\n"
      ],
      "text/markdown": [
       "\n",
       "| 0 | 0 | 0 | 0 | 0 |\n",
       "\n"
      ],
      "text/plain": [
       "     [,1] [,2] [,3] [,4] [,5]\n",
       "[1,] 0    0    0    0    0   "
      ]
     },
     "metadata": {},
     "output_type": "display_data"
    }
   ],
   "source": [
    "t(round(yc-yc1, 10))"
   ]
  },
  {
   "cell_type": "code",
   "execution_count": null,
   "id": "8f62f469",
   "metadata": {},
   "outputs": [],
   "source": []
  }
 ],
 "metadata": {
  "kernelspec": {
   "display_name": "R",
   "language": "R",
   "name": "ir"
  },
  "language_info": {
   "codemirror_mode": "r",
   "file_extension": ".r",
   "mimetype": "text/x-r-source",
   "name": "R",
   "pygments_lexer": "r",
   "version": "3.6.1"
  }
 },
 "nbformat": 4,
 "nbformat_minor": 5
}
