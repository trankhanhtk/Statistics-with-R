{
 "cells": [
  {
   "cell_type": "markdown",
   "id": "f2c7e217",
   "metadata": {},
   "source": [
    "## Loading Data\n",
    "A useful resource to manage two-way table data in R: https://www.statology.org/two-way-table-in-r/"
   ]
  },
  {
   "cell_type": "code",
   "execution_count": 151,
   "id": "81a179c9",
   "metadata": {},
   "outputs": [
    {
     "data": {
      "text/plain": [
       "            method 1 method 2 method 3\n",
       "assembler 1     2.28     2.50     2.61\n",
       "assembler 2     3.77     4.02     3.95\n",
       "assembler 3     2.62     3.05     3.12\n",
       "assembler 4     3.14     3.45     3.62\n",
       "assembler 5     2.41     2.90     2.74"
      ]
     },
     "metadata": {},
     "output_type": "display_data"
    }
   ],
   "source": [
    "ncol=3\n",
    "nrow=5\n",
    "\n",
    "df = matrix(unlist(read.csv('./data/assembly_methods.csv', header=F)), ncol=ncol)\n",
    "colnames(df) <- paste(rep('method', ncol), seq(1, ncol))\n",
    "rownames(df) <- paste(rep('assembler', nrow), seq(1, nrow))\n",
    "\n",
    "as.table(df)"
   ]
  },
  {
   "cell_type": "code",
   "execution_count": 152,
   "id": "c8e31536",
   "metadata": {},
   "outputs": [
    {
     "data": {
      "text/html": [
       "<table>\n",
       "<thead><tr><th></th><th scope=col>assembler 1</th><th scope=col>assembler 2</th><th scope=col>assembler 3</th><th scope=col>assembler 4</th><th scope=col>assembler 5</th><th scope=col>assembler.mean</th></tr></thead>\n",
       "<tbody>\n",
       "\t<tr><th scope=row>method 1</th><td>2.28</td><td>3.77</td><td>2.62</td><td>3.14</td><td>2.41</td><td>2.84</td></tr>\n",
       "\t<tr><th scope=row>method 2</th><td>2.50</td><td>4.02</td><td>3.05</td><td>3.45</td><td>2.90</td><td>3.18</td></tr>\n",
       "\t<tr><th scope=row>method 3</th><td>2.61</td><td>3.95</td><td>3.12</td><td>3.62</td><td>2.74</td><td>3.21</td></tr>\n",
       "\t<tr><th scope=row>method.mean</th><td>2.46</td><td>3.91</td><td>2.93</td><td>3.40</td><td>2.68</td><td>3.08</td></tr>\n",
       "</tbody>\n",
       "</table>\n"
      ],
      "text/latex": [
       "\\begin{tabular}{r|llllll}\n",
       "  & assembler 1 & assembler 2 & assembler 3 & assembler 4 & assembler 5 & assembler.mean\\\\\n",
       "\\hline\n",
       "\tmethod 1 & 2.28 & 3.77 & 2.62 & 3.14 & 2.41 & 2.84\\\\\n",
       "\tmethod 2 & 2.50 & 4.02 & 3.05 & 3.45 & 2.90 & 3.18\\\\\n",
       "\tmethod 3 & 2.61 & 3.95 & 3.12 & 3.62 & 2.74 & 3.21\\\\\n",
       "\tmethod.mean & 2.46 & 3.91 & 2.93 & 3.40 & 2.68 & 3.08\\\\\n",
       "\\end{tabular}\n"
      ],
      "text/markdown": [
       "\n",
       "| <!--/--> | assembler 1 | assembler 2 | assembler 3 | assembler 4 | assembler 5 | assembler.mean |\n",
       "|---|---|---|---|---|---|---|\n",
       "| method 1 | 2.28 | 3.77 | 2.62 | 3.14 | 2.41 | 2.84 |\n",
       "| method 2 | 2.50 | 4.02 | 3.05 | 3.45 | 2.90 | 3.18 |\n",
       "| method 3 | 2.61 | 3.95 | 3.12 | 3.62 | 2.74 | 3.21 |\n",
       "| method.mean | 2.46 | 3.91 | 2.93 | 3.40 | 2.68 | 3.08 |\n",
       "\n"
      ],
      "text/plain": [
       "            assembler 1 assembler 2 assembler 3 assembler 4 assembler 5\n",
       "method 1    2.28        3.77        2.62        3.14        2.41       \n",
       "method 2    2.50        4.02        3.05        3.45        2.90       \n",
       "method 3    2.61        3.95        3.12        3.62        2.74       \n",
       "method.mean 2.46        3.91        2.93        3.40        2.68       \n",
       "            assembler.mean\n",
       "method 1    2.84          \n",
       "method 2    3.18          \n",
       "method 3    3.21          \n",
       "method.mean 3.08          "
      ]
     },
     "metadata": {},
     "output_type": "display_data"
    }
   ],
   "source": [
    "df  = cbind(df, 'method.mean' = round(margin.table(df, margin=1)/ncol, digits=2))\n",
    "df = rbind(df, 'assembler.mean' = round(margin.table(df, margin=2)/nrow, digits=2))\n",
    "df = t(df)\n",
    "df"
   ]
  },
  {
   "cell_type": "code",
   "execution_count": null,
   "id": "bd0e1a55",
   "metadata": {},
   "outputs": [],
   "source": []
  }
 ],
 "metadata": {
  "kernelspec": {
   "display_name": "R",
   "language": "R",
   "name": "ir"
  },
  "language_info": {
   "codemirror_mode": "r",
   "file_extension": ".r",
   "mimetype": "text/x-r-source",
   "name": "R",
   "pygments_lexer": "r",
   "version": "3.6.1"
  }
 },
 "nbformat": 4,
 "nbformat_minor": 5
}
