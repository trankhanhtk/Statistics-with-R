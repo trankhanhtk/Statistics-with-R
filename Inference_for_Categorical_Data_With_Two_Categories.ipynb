{
 "cells": [
  {
   "cell_type": "markdown",
   "id": "4d22766c",
   "metadata": {},
   "source": [
    "## Inference in a One-Way Table"
   ]
  },
  {
   "cell_type": "markdown",
   "id": "2e17e8a5",
   "metadata": {},
   "source": [
    "### Example\n",
    "In order to assess the quality of a certain make of automobile, the manufacturer surveys a random sample of 200 owners of a model with manual transmission. Among the questions asked is “Have you had to have the clutch replaced?” Of the 200 responses, 36 answered “yes”. Estimate the proportion of all such owners who have had to have the clutch replaced.\n",
    "\n",
    "Denote by $X$ the total number of cars that have the clutch replaced, then $X \\sim B(n, p)$, where $n=200$ and $p$ is the probability of a single car that has clutch replaced. It's also true that $p$ be the true popuplation propotion of broken-clutch cars. We have that $\\hat p$ = 36/200 = .18. We now need to calculate level L confidence intervel of $p$. For this example, L = 95%.\n",
    "\n",
    "From CLT, we have that:\n",
    "\n",
    "\\begin{align}\n",
    "\\frac{X - \\mu}{\\hat \\sigma} \\sim \\mathit t_{n-2}.\n",
    "\\end{align}\n"
   ]
  },
  {
   "cell_type": "markdown",
   "id": "107dc8ed",
   "metadata": {},
   "source": [
    "### Calculating the Statistics"
   ]
  },
  {
   "cell_type": "code",
   "execution_count": 4,
   "id": "fb92df85",
   "metadata": {
    "scrolled": true
   },
   "outputs": [
    {
     "name": "stdout",
     "output_type": "stream",
     "text": [
      "SE: 5.43 \n"
     ]
    }
   ],
   "source": [
    "n = 200\n",
    "p = 36/200\n",
    "# standard error\n",
    "se = sqrt(n*p*(1-p))\n",
    "cat('SE:', round(se, digits=2), '\\n')"
   ]
  },
  {
   "cell_type": "markdown",
   "id": "fad4ad61",
   "metadata": {},
   "source": [
    "### CI for the Propotion Population"
   ]
  },
  {
   "cell_type": "code",
   "execution_count": 5,
   "id": "b211f822",
   "metadata": {},
   "outputs": [
    {
     "name": "stdout",
     "output_type": "stream",
     "text": [
      "t_star: 1.97 \n",
      "( 0.126 , 0.234 )"
     ]
    }
   ],
   "source": [
    "# t-critical value\n",
    "t_star = qt(.025, n-2, lower.tail=F)\n",
    "cat('t_star:', round(t_star, digits=2), '\\n')\n",
    "\n",
    "\n",
    "ci_l = (n*p - se*t_star)/n\n",
    "ci_u = (n*p + se*t_star)/n\n",
    "cat('(', round(ci_l, digits=3), ',', round(ci_u, digits=3), ')')"
   ]
  },
  {
   "cell_type": "markdown",
   "id": "f232f122",
   "metadata": {},
   "source": [
    "## Inference in a One-Way Table"
   ]
  },
  {
   "cell_type": "markdown",
   "id": "59f4dba8",
   "metadata": {},
   "source": [
    "### Example\n",
    "The random sample of 200 car owners consisted of 52 who were 25 years old or younger. Of these 52, 17 had had to replace the clutch on their cars. We will estimate the difference in the proportions of younger (i.e. 25 years and under) and older drivers in the population who have had to replace the clutch.\n",
    "\n",
    "Denote by $p_{y}$ and $p_{o}$ the proportion of cars that have clutch replaced for young and old car owners respectively. We need the estimates for $p_{y} - p_{o}$. Based on the assumption that the two populations of car owners, namely the old ones and the young ones, the difference in means of the two populations $X = P_{y} - P_{o}$  is normally distributed. And also\n",
    "\n",
    "\\begin{align}\n",
    "\\frac{X - (\\hat{p}_{y} - \\hat{p}_{o})}{\\hat{\\sigma}_{p_{y}, p_{o}}} \\sim \\mathit{t}_{n-2}\n",
    "\\end{align}"
   ]
  },
  {
   "cell_type": "markdown",
   "id": "f19dcc4b",
   "metadata": {},
   "source": [
    "### Calculating the Statistics"
   ]
  },
  {
   "cell_type": "code",
   "execution_count": 15,
   "id": "ee759694",
   "metadata": {},
   "outputs": [
    {
     "name": "stdout",
     "output_type": "stream",
     "text": [
      "py_hat - po_hat: 0.1985"
     ]
    }
   ],
   "source": [
    "py_hat = 17/52\n",
    "po_hat = 19/148\n",
    "diff_hat = py_hat - po_hat\n",
    "cat('py_hat - po_hat:', round(diff_hat, digits=4))\n",
    "se = 0.0706"
   ]
  },
  {
   "cell_type": "markdown",
   "id": "1b43de98",
   "metadata": {},
   "source": [
    "### CI for the Mean Difference"
   ]
  },
  {
   "cell_type": "code",
   "execution_count": 18,
   "id": "26ca9185",
   "metadata": {},
   "outputs": [
    {
     "name": "stdout",
     "output_type": "stream",
     "text": [
      "t_star: 1.97 \n",
      "( 0.0593 , 0.3378 )"
     ]
    }
   ],
   "source": [
    "# t-critical value\n",
    "t_star = qt(.025, n-2, lower.tail=F)\n",
    "cat('t_star:', round(t_star, digits=2), '\\n')\n",
    "\n",
    "ci_l = (diff_hat - se*t_star)\n",
    "ci_u = (diff_hat + se*t_star)\n",
    "cat('(', round(ci_l, digits=4), ',', round(ci_u, digits=4), ')')"
   ]
  },
  {
   "cell_type": "code",
   "execution_count": null,
   "id": "29ec7249",
   "metadata": {},
   "outputs": [],
   "source": []
  }
 ],
 "metadata": {
  "kernelspec": {
   "display_name": "R",
   "language": "R",
   "name": "ir"
  },
  "language_info": {
   "codemirror_mode": "r",
   "file_extension": ".r",
   "mimetype": "text/x-r-source",
   "name": "R",
   "pygments_lexer": "r",
   "version": "3.6.1"
  }
 },
 "nbformat": 4,
 "nbformat_minor": 5
}
