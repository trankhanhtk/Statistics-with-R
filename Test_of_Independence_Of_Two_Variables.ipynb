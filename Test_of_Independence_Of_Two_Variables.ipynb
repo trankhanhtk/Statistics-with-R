{
 "cells": [
  {
   "cell_type": "markdown",
   "id": "11b88f21",
   "metadata": {},
   "source": [
    "# Test of Independence of Two Variables\n",
    "Test the association between fuel consumption and equivalence ratio data on fuel consumption."
   ]
  },
  {
   "cell_type": "markdown",
   "id": "08fa6367",
   "metadata": {},
   "source": [
    "## Loading the Data"
   ]
  },
  {
   "cell_type": "code",
   "execution_count": 6,
   "id": "dea352ab",
   "metadata": {},
   "outputs": [],
   "source": [
    "dat = read.csv('./data/fuel_consumption.txt')"
   ]
  },
  {
   "cell_type": "code",
   "execution_count": 7,
   "id": "f9541dbf",
   "metadata": {},
   "outputs": [
    {
     "data": {
      "text/html": [
       "<table>\n",
       "<thead><tr><th scope=col>Fuel.Consumption</th><th scope=col>Equivalence.Ratio</th><th scope=col>Ranks.of.Fuel.Consumption</th><th scope=col>Ranks.of.Equivalence.Ratio</th></tr></thead>\n",
       "<tbody>\n",
       "\t<tr><td> 98.0</td><td>0.64 </td><td>1    </td><td>1    </td></tr>\n",
       "\t<tr><td>100.0</td><td>0.65 </td><td>2    </td><td>2    </td></tr>\n",
       "\t<tr><td>100.1</td><td>0.66 </td><td>3    </td><td>3    </td></tr>\n",
       "\t<tr><td>102.0</td><td>0.74 </td><td>6    </td><td>4    </td></tr>\n",
       "\t<tr><td>101.0</td><td>0.75 </td><td>4    </td><td>5    </td></tr>\n",
       "\t<tr><td>103.0</td><td>0.77 </td><td>7    </td><td>7    </td></tr>\n",
       "</tbody>\n",
       "</table>\n"
      ],
      "text/latex": [
       "\\begin{tabular}{r|llll}\n",
       " Fuel.Consumption & Equivalence.Ratio & Ranks.of.Fuel.Consumption & Ranks.of.Equivalence.Ratio\\\\\n",
       "\\hline\n",
       "\t  98.0 & 0.64  & 1     & 1    \\\\\n",
       "\t 100.0 & 0.65  & 2     & 2    \\\\\n",
       "\t 100.1 & 0.66  & 3     & 3    \\\\\n",
       "\t 102.0 & 0.74  & 6     & 4    \\\\\n",
       "\t 101.0 & 0.75  & 4     & 5    \\\\\n",
       "\t 103.0 & 0.77  & 7     & 7    \\\\\n",
       "\\end{tabular}\n"
      ],
      "text/markdown": [
       "\n",
       "| Fuel.Consumption | Equivalence.Ratio | Ranks.of.Fuel.Consumption | Ranks.of.Equivalence.Ratio |\n",
       "|---|---|---|---|\n",
       "|  98.0 | 0.64  | 1     | 1     |\n",
       "| 100.0 | 0.65  | 2     | 2     |\n",
       "| 100.1 | 0.66  | 3     | 3     |\n",
       "| 102.0 | 0.74  | 6     | 4     |\n",
       "| 101.0 | 0.75  | 4     | 5     |\n",
       "| 103.0 | 0.77  | 7     | 7     |\n",
       "\n"
      ],
      "text/plain": [
       "  Fuel.Consumption Equivalence.Ratio Ranks.of.Fuel.Consumption\n",
       "1  98.0            0.64              1                        \n",
       "2 100.0            0.65              2                        \n",
       "3 100.1            0.66              3                        \n",
       "4 102.0            0.74              6                        \n",
       "5 101.0            0.75              4                        \n",
       "6 103.0            0.77              7                        \n",
       "  Ranks.of.Equivalence.Ratio\n",
       "1 1                         \n",
       "2 2                         \n",
       "3 3                         \n",
       "4 4                         \n",
       "5 5                         \n",
       "6 7                         "
      ]
     },
     "metadata": {},
     "output_type": "display_data"
    }
   ],
   "source": [
    "head(dat)"
   ]
  },
  {
   "cell_type": "markdown",
   "id": "bec465db",
   "metadata": {},
   "source": [
    "## One-sided Tests\n",
    "The test hypothesis for right-tailed test is as folllows:\n",
    "- $H_{0}$: X and Y are independent of each other.\n",
    "- $H_{a_{\\pm}}$: X and Y are positively associated.\n",
    "\n",
    "Denote by $r_{s}$ the Spearman correlation of $X$ and $Y$. Then $r_{s}$ is a valid test statistic because we can always compute $r_{s}$ and we also denote by $r^{s}_{s}$ the computed value of the test statistic. It follows that the *p*-value of the test can be computed as:\n",
    "\n",
    "\\begin{align}\n",
    "\\textit{p}^{+} = P(r_{s} > r^{*}_{s})\n",
    "\\end{align}\n",
    "\n",
    "*Note*: Since the Spearman correlation are written in lowercase, I have to abuse the notation in the equation above because random variables are denoted by capital letters.\n",
    "\n",
    "When the number of observations $n$ is large, the distribution of $r_{s}\\sqrt{\\frac{n-2}{ 1 - r_{s}^{2}}}$ is approximately the Student's *$t$*-distribution with $n-2$ degrees of freedom. "
   ]
  },
  {
   "cell_type": "markdown",
   "id": "6412ae51",
   "metadata": {},
   "source": [
    "## The Spearman Correlation Coeficient"
   ]
  },
  {
   "cell_type": "code",
   "execution_count": 27,
   "id": "d1274f15",
   "metadata": {},
   "outputs": [
    {
     "data": {
      "text/html": [
       "22.9263"
      ],
      "text/latex": [
       "22.9263"
      ],
      "text/markdown": [
       "22.9263"
      ],
      "text/plain": [
       "[1] 22.9263"
      ]
     },
     "metadata": {},
     "output_type": "display_data"
    },
    {
     "data": {
      "text/html": [
       "1.58890889243345e-14"
      ],
      "text/latex": [
       "1.58890889243345e-14"
      ],
      "text/markdown": [
       "1.58890889243345e-14"
      ],
      "text/plain": [
       "[1] 1.588909e-14"
      ]
     },
     "metadata": {},
     "output_type": "display_data"
    }
   ],
   "source": [
    "rs = cor(dat$Fuel.Consumption, dat$Equivalence.Ratio, method='spearman')\n",
    "rs\n"
   ]
  },
  {
   "cell_type": "markdown",
   "id": "91ed87e1",
   "metadata": {},
   "source": [
    "## The Critical Value"
   ]
  },
  {
   "cell_type": "code",
   "execution_count": 28,
   "id": "697fb75f",
   "metadata": {},
   "outputs": [
    {
     "data": {
      "text/html": [
       "22.9263"
      ],
      "text/latex": [
       "22.9263"
      ],
      "text/markdown": [
       "22.9263"
      ],
      "text/plain": [
       "[1] 22.9263"
      ]
     },
     "metadata": {},
     "output_type": "display_data"
    }
   ],
   "source": [
    "deg = length(dat[,1])-2\n",
    "t_crit = rs * sqrt(deg/(1-rs^2))\n",
    "\n",
    "round(t_crit, digits=4)"
   ]
  },
  {
   "cell_type": "markdown",
   "id": "253a79c2",
   "metadata": {},
   "source": [
    "## The *p*-value"
   ]
  },
  {
   "cell_type": "code",
   "execution_count": 30,
   "id": "af12568c",
   "metadata": {},
   "outputs": [
    {
     "data": {
      "text/html": [
       "1.58890889243345e-14"
      ],
      "text/latex": [
       "1.58890889243345e-14"
      ],
      "text/markdown": [
       "1.58890889243345e-14"
      ],
      "text/plain": [
       "[1] 1.588909e-14"
      ]
     },
     "metadata": {},
     "output_type": "display_data"
    }
   ],
   "source": [
    "pt(t_crit, deg, lower.tail=F)"
   ]
  },
  {
   "cell_type": "markdown",
   "id": "ea6c4ad6",
   "metadata": {},
   "source": [
    "## Summary Report\n",
    "The small value for *p*-value is a strong evidence for the alternative hypothesis meaning that there's strong evidence of a positive association between the fuel condumption and the equivalence ratio."
   ]
  },
  {
   "cell_type": "code",
   "execution_count": null,
   "id": "bc13f0b2",
   "metadata": {},
   "outputs": [],
   "source": []
  }
 ],
 "metadata": {
  "kernelspec": {
   "display_name": "R",
   "language": "R",
   "name": "ir"
  }
 },
 "nbformat": 4,
 "nbformat_minor": 5
}
