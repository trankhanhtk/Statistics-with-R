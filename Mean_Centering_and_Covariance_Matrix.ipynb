{
 "cells": [
  {
   "cell_type": "markdown",
   "id": "6bf31104",
   "metadata": {},
   "source": [
    "## Loading the Data"
   ]
  },
  {
   "cell_type": "code",
   "execution_count": 31,
   "id": "5384b364",
   "metadata": {},
   "outputs": [
    {
     "data": {
      "text/html": [
       "<table>\n",
       "<thead><tr><th></th><th scope=col>mpg</th><th scope=col>cyl</th><th scope=col>disp</th><th scope=col>hp</th><th scope=col>drat</th><th scope=col>wt</th><th scope=col>qsec</th><th scope=col>vs</th><th scope=col>am</th><th scope=col>gear</th><th scope=col>carb</th></tr></thead>\n",
       "<tbody>\n",
       "\t<tr><th scope=row>Mazda RX4</th><td>21.0 </td><td>6    </td><td>160  </td><td>110  </td><td>3.90 </td><td>2.620</td><td>16.46</td><td>0    </td><td>1    </td><td>4    </td><td>4    </td></tr>\n",
       "\t<tr><th scope=row>Mazda RX4 Wag</th><td>21.0 </td><td>6    </td><td>160  </td><td>110  </td><td>3.90 </td><td>2.875</td><td>17.02</td><td>0    </td><td>1    </td><td>4    </td><td>4    </td></tr>\n",
       "\t<tr><th scope=row>Datsun 710</th><td>22.8 </td><td>4    </td><td>108  </td><td> 93  </td><td>3.85 </td><td>2.320</td><td>18.61</td><td>1    </td><td>1    </td><td>4    </td><td>1    </td></tr>\n",
       "\t<tr><th scope=row>Hornet 4 Drive</th><td>21.4 </td><td>6    </td><td>258  </td><td>110  </td><td>3.08 </td><td>3.215</td><td>19.44</td><td>1    </td><td>0    </td><td>3    </td><td>1    </td></tr>\n",
       "\t<tr><th scope=row>Hornet Sportabout</th><td>18.7 </td><td>8    </td><td>360  </td><td>175  </td><td>3.15 </td><td>3.440</td><td>17.02</td><td>0    </td><td>0    </td><td>3    </td><td>2    </td></tr>\n",
       "\t<tr><th scope=row>Valiant</th><td>18.1 </td><td>6    </td><td>225  </td><td>105  </td><td>2.76 </td><td>3.460</td><td>20.22</td><td>1    </td><td>0    </td><td>3    </td><td>1    </td></tr>\n",
       "</tbody>\n",
       "</table>\n"
      ],
      "text/latex": [
       "\\begin{tabular}{r|lllllllllll}\n",
       "  & mpg & cyl & disp & hp & drat & wt & qsec & vs & am & gear & carb\\\\\n",
       "\\hline\n",
       "\tMazda RX4 & 21.0  & 6     & 160   & 110   & 3.90  & 2.620 & 16.46 & 0     & 1     & 4     & 4    \\\\\n",
       "\tMazda RX4 Wag & 21.0  & 6     & 160   & 110   & 3.90  & 2.875 & 17.02 & 0     & 1     & 4     & 4    \\\\\n",
       "\tDatsun 710 & 22.8  & 4     & 108   &  93   & 3.85  & 2.320 & 18.61 & 1     & 1     & 4     & 1    \\\\\n",
       "\tHornet 4 Drive & 21.4  & 6     & 258   & 110   & 3.08  & 3.215 & 19.44 & 1     & 0     & 3     & 1    \\\\\n",
       "\tHornet Sportabout & 18.7  & 8     & 360   & 175   & 3.15  & 3.440 & 17.02 & 0     & 0     & 3     & 2    \\\\\n",
       "\tValiant & 18.1  & 6     & 225   & 105   & 2.76  & 3.460 & 20.22 & 1     & 0     & 3     & 1    \\\\\n",
       "\\end{tabular}\n"
      ],
      "text/markdown": [
       "\n",
       "| <!--/--> | mpg | cyl | disp | hp | drat | wt | qsec | vs | am | gear | carb |\n",
       "|---|---|---|---|---|---|---|---|---|---|---|---|\n",
       "| Mazda RX4 | 21.0  | 6     | 160   | 110   | 3.90  | 2.620 | 16.46 | 0     | 1     | 4     | 4     |\n",
       "| Mazda RX4 Wag | 21.0  | 6     | 160   | 110   | 3.90  | 2.875 | 17.02 | 0     | 1     | 4     | 4     |\n",
       "| Datsun 710 | 22.8  | 4     | 108   |  93   | 3.85  | 2.320 | 18.61 | 1     | 1     | 4     | 1     |\n",
       "| Hornet 4 Drive | 21.4  | 6     | 258   | 110   | 3.08  | 3.215 | 19.44 | 1     | 0     | 3     | 1     |\n",
       "| Hornet Sportabout | 18.7  | 8     | 360   | 175   | 3.15  | 3.440 | 17.02 | 0     | 0     | 3     | 2     |\n",
       "| Valiant | 18.1  | 6     | 225   | 105   | 2.76  | 3.460 | 20.22 | 1     | 0     | 3     | 1     |\n",
       "\n"
      ],
      "text/plain": [
       "                  mpg  cyl disp hp  drat wt    qsec  vs am gear carb\n",
       "Mazda RX4         21.0 6   160  110 3.90 2.620 16.46 0  1  4    4   \n",
       "Mazda RX4 Wag     21.0 6   160  110 3.90 2.875 17.02 0  1  4    4   \n",
       "Datsun 710        22.8 4   108   93 3.85 2.320 18.61 1  1  4    1   \n",
       "Hornet 4 Drive    21.4 6   258  110 3.08 3.215 19.44 1  0  3    1   \n",
       "Hornet Sportabout 18.7 8   360  175 3.15 3.440 17.02 0  0  3    2   \n",
       "Valiant           18.1 6   225  105 2.76 3.460 20.22 1  0  3    1   "
      ]
     },
     "metadata": {},
     "output_type": "display_data"
    }
   ],
   "source": [
    "head(mtcars)"
   ]
  },
  {
   "cell_type": "code",
   "execution_count": 68,
   "id": "d4145a29",
   "metadata": {},
   "outputs": [
    {
     "name": "stdout",
     "output_type": "stream",
     "text": [
      "n: 32\n",
      "p: 3"
     ]
    }
   ],
   "source": [
    "y = mtcars$mpg\n",
    "x = cbind(1, mtcars$hp, mtcars$wt)\n",
    "n = nrow(x)\n",
    "p = ncol(x)\n",
    "cat('n:', n)\n",
    "cat('\\np:', p)"
   ]
  },
  {
   "cell_type": "markdown",
   "id": "c8743f49",
   "metadata": {},
   "source": [
    "## Mean Centering Matrix along Columns\n",
    "\\begin{align}\n",
    "X - \\bar{X} = (I - H)X,\n",
    "\\end{align}\n",
    "\n",
    "where $I$ is an identity matrix (with 1s on the diagonal and zeros elsewhere) and $H$ is an all-ones square matrix devided by n."
   ]
  },
  {
   "cell_type": "code",
   "execution_count": 144,
   "id": "3ec6be5a",
   "metadata": {},
   "outputs": [],
   "source": [
    "I = diag(rep(1, n))\n",
    "H = matrix(1, n, n)/n"
   ]
  },
  {
   "cell_type": "code",
   "execution_count": 145,
   "id": "977b17d0",
   "metadata": {},
   "outputs": [
    {
     "name": "stdout",
     "output_type": "stream",
     "text": [
      "dim(x): 32 3\n",
      "dim(I-H): 32 32"
     ]
    }
   ],
   "source": [
    "cat('dim(x):', dim(x))\n",
    "cat('\\ndim(I-H):', dim(I-H))"
   ]
  },
  {
   "cell_type": "code",
   "execution_count": 146,
   "id": "2acb74f6",
   "metadata": {},
   "outputs": [
    {
     "name": "stdout",
     "output_type": "stream",
     "text": [
      "dim(xc): 32 3"
     ]
    },
    {
     "data": {
      "text/html": [
       "<ol class=list-inline>\n",
       "\t<li>-12.42825</li>\n",
       "\t<li>-12.34325</li>\n",
       "\t<li>-18.1949166667</li>\n",
       "\t<li>-12.2299166667</li>\n",
       "\t<li>9.51175</li>\n",
       "\t<li>-13.8149166667</li>\n",
       "\t<li>32.8884166667</li>\n",
       "\t<li>-28.23825</li>\n",
       "\t<li>-17.2515833333</li>\n",
       "\t<li>-7.8215833333</li>\n",
       "\t<li>-7.8215833333</li>\n",
       "\t<li>11.3884166667</li>\n",
       "\t<li>11.2750833333</li>\n",
       "\t<li>11.29175</li>\n",
       "\t<li>20.1150833333</li>\n",
       "\t<li>23.5064166667</li>\n",
       "\t<li>28.4800833333</li>\n",
       "\t<li>-27.2349166667</li>\n",
       "\t<li>-32.0965833333</li>\n",
       "\t<li>-27.6899166667</li>\n",
       "\t<li>-16.81325</li>\n",
       "\t<li>1.2050833333</li>\n",
       "\t<li>1.17675</li>\n",
       "\t<li>32.9784166667</li>\n",
       "\t<li>9.64675</li>\n",
       "\t<li>-27.32325</li>\n",
       "\t<li>-18.9215833333</li>\n",
       "\t<li>-11.79725</li>\n",
       "\t<li>39.0884166667</li>\n",
       "\t<li>9.2884166667</li>\n",
       "\t<li>62.8884166667</li>\n",
       "\t<li>-12.70825</li>\n",
       "</ol>\n"
      ],
      "text/latex": [
       "\\begin{enumerate*}\n",
       "\\item -12.42825\n",
       "\\item -12.34325\n",
       "\\item -18.1949166667\n",
       "\\item -12.2299166667\n",
       "\\item 9.51175\n",
       "\\item -13.8149166667\n",
       "\\item 32.8884166667\n",
       "\\item -28.23825\n",
       "\\item -17.2515833333\n",
       "\\item -7.8215833333\n",
       "\\item -7.8215833333\n",
       "\\item 11.3884166667\n",
       "\\item 11.2750833333\n",
       "\\item 11.29175\n",
       "\\item 20.1150833333\n",
       "\\item 23.5064166667\n",
       "\\item 28.4800833333\n",
       "\\item -27.2349166667\n",
       "\\item -32.0965833333\n",
       "\\item -27.6899166667\n",
       "\\item -16.81325\n",
       "\\item 1.2050833333\n",
       "\\item 1.17675\n",
       "\\item 32.9784166667\n",
       "\\item 9.64675\n",
       "\\item -27.32325\n",
       "\\item -18.9215833333\n",
       "\\item -11.79725\n",
       "\\item 39.0884166667\n",
       "\\item 9.2884166667\n",
       "\\item 62.8884166667\n",
       "\\item -12.70825\n",
       "\\end{enumerate*}\n"
      ],
      "text/markdown": [
       "1. -12.42825\n",
       "2. -12.34325\n",
       "3. -18.1949166667\n",
       "4. -12.2299166667\n",
       "5. 9.51175\n",
       "6. -13.8149166667\n",
       "7. 32.8884166667\n",
       "8. -28.23825\n",
       "9. -17.2515833333\n",
       "10. -7.8215833333\n",
       "11. -7.8215833333\n",
       "12. 11.3884166667\n",
       "13. 11.2750833333\n",
       "14. 11.29175\n",
       "15. 20.1150833333\n",
       "16. 23.5064166667\n",
       "17. 28.4800833333\n",
       "18. -27.2349166667\n",
       "19. -32.0965833333\n",
       "20. -27.6899166667\n",
       "21. -16.81325\n",
       "22. 1.2050833333\n",
       "23. 1.17675\n",
       "24. 32.9784166667\n",
       "25. 9.64675\n",
       "26. -27.32325\n",
       "27. -18.9215833333\n",
       "28. -11.79725\n",
       "29. 39.0884166667\n",
       "30. 9.2884166667\n",
       "31. 62.8884166667\n",
       "32. -12.70825\n",
       "\n",
       "\n"
      ],
      "text/plain": [
       " [1] -12.428250 -12.343250 -18.194917 -12.229917   9.511750 -13.814917\n",
       " [7]  32.888417 -28.238250 -17.251583  -7.821583  -7.821583  11.388417\n",
       "[13]  11.275083  11.291750  20.115083  23.506417  28.480083 -27.234917\n",
       "[19] -32.096583 -27.689917 -16.813250   1.205083   1.176750  32.978417\n",
       "[25]   9.646750 -27.323250 -18.921583 -11.797250  39.088417   9.288417\n",
       "[31]  62.888417 -12.708250"
      ]
     },
     "metadata": {},
     "output_type": "display_data"
    },
    {
     "data": {
      "text/html": [
       "<ol class=list-inline>\n",
       "\t<li>0</li>\n",
       "\t<li>0</li>\n",
       "\t<li>0</li>\n",
       "</ol>\n"
      ],
      "text/latex": [
       "\\begin{enumerate*}\n",
       "\\item 0\n",
       "\\item 0\n",
       "\\item 0\n",
       "\\end{enumerate*}\n"
      ],
      "text/markdown": [
       "1. 0\n",
       "2. 0\n",
       "3. 0\n",
       "\n",
       "\n"
      ],
      "text/plain": [
       "[1] 0 0 0"
      ]
     },
     "metadata": {},
     "output_type": "display_data"
    }
   ],
   "source": [
    "xc = (I - H) %*% x\n",
    "cat('dim(xc):', dim(xc))\n",
    "round(apply(xc, 1, mean), 10)\n",
    "round(apply(xc, 2, mean), 10)"
   ]
  },
  {
   "cell_type": "markdown",
   "id": "3abf82a7",
   "metadata": {},
   "source": [
    "## Row Mean Centering"
   ]
  },
  {
   "cell_type": "code",
   "execution_count": 119,
   "id": "7b11d141",
   "metadata": {},
   "outputs": [
    {
     "name": "stdout",
     "output_type": "stream",
     "text": [
      "dim(xr): 32 3"
     ]
    },
    {
     "data": {
      "text/html": [
       "<ol class=list-inline>\n",
       "\t<li>0</li>\n",
       "\t<li>0</li>\n",
       "\t<li>0</li>\n",
       "\t<li>0</li>\n",
       "\t<li>0</li>\n",
       "\t<li>0</li>\n",
       "\t<li>0</li>\n",
       "\t<li>0</li>\n",
       "\t<li>0</li>\n",
       "\t<li>0</li>\n",
       "\t<li>0</li>\n",
       "\t<li>0</li>\n",
       "\t<li>0</li>\n",
       "\t<li>0</li>\n",
       "\t<li>0</li>\n",
       "\t<li>0</li>\n",
       "\t<li>0</li>\n",
       "\t<li>0</li>\n",
       "\t<li>0</li>\n",
       "\t<li>0</li>\n",
       "\t<li>0</li>\n",
       "\t<li>0</li>\n",
       "\t<li>0</li>\n",
       "\t<li>0</li>\n",
       "\t<li>0</li>\n",
       "\t<li>0</li>\n",
       "\t<li>0</li>\n",
       "\t<li>0</li>\n",
       "\t<li>0</li>\n",
       "\t<li>0</li>\n",
       "\t<li>0</li>\n",
       "\t<li>0</li>\n",
       "</ol>\n"
      ],
      "text/latex": [
       "\\begin{enumerate*}\n",
       "\\item 0\n",
       "\\item 0\n",
       "\\item 0\n",
       "\\item 0\n",
       "\\item 0\n",
       "\\item 0\n",
       "\\item 0\n",
       "\\item 0\n",
       "\\item 0\n",
       "\\item 0\n",
       "\\item 0\n",
       "\\item 0\n",
       "\\item 0\n",
       "\\item 0\n",
       "\\item 0\n",
       "\\item 0\n",
       "\\item 0\n",
       "\\item 0\n",
       "\\item 0\n",
       "\\item 0\n",
       "\\item 0\n",
       "\\item 0\n",
       "\\item 0\n",
       "\\item 0\n",
       "\\item 0\n",
       "\\item 0\n",
       "\\item 0\n",
       "\\item 0\n",
       "\\item 0\n",
       "\\item 0\n",
       "\\item 0\n",
       "\\item 0\n",
       "\\end{enumerate*}\n"
      ],
      "text/markdown": [
       "1. 0\n",
       "2. 0\n",
       "3. 0\n",
       "4. 0\n",
       "5. 0\n",
       "6. 0\n",
       "7. 0\n",
       "8. 0\n",
       "9. 0\n",
       "10. 0\n",
       "11. 0\n",
       "12. 0\n",
       "13. 0\n",
       "14. 0\n",
       "15. 0\n",
       "16. 0\n",
       "17. 0\n",
       "18. 0\n",
       "19. 0\n",
       "20. 0\n",
       "21. 0\n",
       "22. 0\n",
       "23. 0\n",
       "24. 0\n",
       "25. 0\n",
       "26. 0\n",
       "27. 0\n",
       "28. 0\n",
       "29. 0\n",
       "30. 0\n",
       "31. 0\n",
       "32. 0\n",
       "\n",
       "\n"
      ],
      "text/plain": [
       " [1] 0 0 0 0 0 0 0 0 0 0 0 0 0 0 0 0 0 0 0 0 0 0 0 0 0 0 0 0 0 0 0 0"
      ]
     },
     "metadata": {},
     "output_type": "display_data"
    },
    {
     "data": {
      "text/html": [
       "<ol class=list-inline>\n",
       "\t<li>-49.3015833333</li>\n",
       "\t<li>96.3859166667</li>\n",
       "\t<li>-47.0843333333</li>\n",
       "</ol>\n"
      ],
      "text/latex": [
       "\\begin{enumerate*}\n",
       "\\item -49.3015833333\n",
       "\\item 96.3859166667\n",
       "\\item -47.0843333333\n",
       "\\end{enumerate*}\n"
      ],
      "text/markdown": [
       "1. -49.3015833333\n",
       "2. 96.3859166667\n",
       "3. -47.0843333333\n",
       "\n",
       "\n"
      ],
      "text/plain": [
       "[1] -49.30158  96.38592 -47.08433"
      ]
     },
     "metadata": {},
     "output_type": "display_data"
    }
   ],
   "source": [
    "Ir = diag(rep(1, p))\n",
    "Hr = matrix(1, p, p)/p\n",
    "xr = x %*% (Ir - Hr)\n",
    "cat('dim(xr):', dim(xr))\n",
    "round(apply(xr, 1, mean), 10)\n",
    "round(apply(xr, 2, mean), 10)"
   ]
  },
  {
   "cell_type": "markdown",
   "id": "53bae905",
   "metadata": {},
   "source": [
    "## Column and Row Mean Centering"
   ]
  },
  {
   "cell_type": "code",
   "execution_count": 117,
   "id": "a2347983",
   "metadata": {},
   "outputs": [
    {
     "name": "stdout",
     "output_type": "stream",
     "text": [
      "dim(xcr): 32 3"
     ]
    },
    {
     "data": {
      "text/html": [
       "<ol class=list-inline>\n",
       "\t<li>0</li>\n",
       "\t<li>0</li>\n",
       "\t<li>0</li>\n",
       "\t<li>0</li>\n",
       "\t<li>0</li>\n",
       "\t<li>0</li>\n",
       "\t<li>0</li>\n",
       "\t<li>0</li>\n",
       "\t<li>0</li>\n",
       "\t<li>0</li>\n",
       "\t<li>0</li>\n",
       "\t<li>0</li>\n",
       "\t<li>0</li>\n",
       "\t<li>0</li>\n",
       "\t<li>0</li>\n",
       "\t<li>0</li>\n",
       "\t<li>0</li>\n",
       "\t<li>0</li>\n",
       "\t<li>0</li>\n",
       "\t<li>0</li>\n",
       "\t<li>0</li>\n",
       "\t<li>0</li>\n",
       "\t<li>0</li>\n",
       "\t<li>0</li>\n",
       "\t<li>0</li>\n",
       "\t<li>0</li>\n",
       "\t<li>0</li>\n",
       "\t<li>0</li>\n",
       "\t<li>0</li>\n",
       "\t<li>0</li>\n",
       "\t<li>0</li>\n",
       "\t<li>0</li>\n",
       "</ol>\n"
      ],
      "text/latex": [
       "\\begin{enumerate*}\n",
       "\\item 0\n",
       "\\item 0\n",
       "\\item 0\n",
       "\\item 0\n",
       "\\item 0\n",
       "\\item 0\n",
       "\\item 0\n",
       "\\item 0\n",
       "\\item 0\n",
       "\\item 0\n",
       "\\item 0\n",
       "\\item 0\n",
       "\\item 0\n",
       "\\item 0\n",
       "\\item 0\n",
       "\\item 0\n",
       "\\item 0\n",
       "\\item 0\n",
       "\\item 0\n",
       "\\item 0\n",
       "\\item 0\n",
       "\\item 0\n",
       "\\item 0\n",
       "\\item 0\n",
       "\\item 0\n",
       "\\item 0\n",
       "\\item 0\n",
       "\\item 0\n",
       "\\item 0\n",
       "\\item 0\n",
       "\\item 0\n",
       "\\item 0\n",
       "\\end{enumerate*}\n"
      ],
      "text/markdown": [
       "1. 0\n",
       "2. 0\n",
       "3. 0\n",
       "4. 0\n",
       "5. 0\n",
       "6. 0\n",
       "7. 0\n",
       "8. 0\n",
       "9. 0\n",
       "10. 0\n",
       "11. 0\n",
       "12. 0\n",
       "13. 0\n",
       "14. 0\n",
       "15. 0\n",
       "16. 0\n",
       "17. 0\n",
       "18. 0\n",
       "19. 0\n",
       "20. 0\n",
       "21. 0\n",
       "22. 0\n",
       "23. 0\n",
       "24. 0\n",
       "25. 0\n",
       "26. 0\n",
       "27. 0\n",
       "28. 0\n",
       "29. 0\n",
       "30. 0\n",
       "31. 0\n",
       "32. 0\n",
       "\n",
       "\n"
      ],
      "text/plain": [
       " [1] 0 0 0 0 0 0 0 0 0 0 0 0 0 0 0 0 0 0 0 0 0 0 0 0 0 0 0 0 0 0 0 0"
      ]
     },
     "metadata": {},
     "output_type": "display_data"
    },
    {
     "data": {
      "text/html": [
       "<ol class=list-inline>\n",
       "\t<li>0</li>\n",
       "\t<li>0</li>\n",
       "\t<li>0</li>\n",
       "</ol>\n"
      ],
      "text/latex": [
       "\\begin{enumerate*}\n",
       "\\item 0\n",
       "\\item 0\n",
       "\\item 0\n",
       "\\end{enumerate*}\n"
      ],
      "text/markdown": [
       "1. 0\n",
       "2. 0\n",
       "3. 0\n",
       "\n",
       "\n"
      ],
      "text/plain": [
       "[1] 0 0 0"
      ]
     },
     "metadata": {},
     "output_type": "display_data"
    }
   ],
   "source": [
    "xcr = (I - H) %*% x %*% (Ir - Hr)\n",
    "\n",
    "cat('dim(xcr):', dim(xcr))\n",
    "round(apply(xcr, 1, mean), 10)\n",
    "round(apply(xcr, 2, mean), 10)"
   ]
  },
  {
   "cell_type": "markdown",
   "id": "4f57a606",
   "metadata": {},
   "source": [
    "## Variance-Covariance Matrix"
   ]
  },
  {
   "cell_type": "code",
   "execution_count": 104,
   "id": "91c87226",
   "metadata": {},
   "outputs": [
    {
     "data": {
      "text/html": [
       "<table>\n",
       "<tbody>\n",
       "\t<tr><td>1    </td><td>110  </td><td>2.620</td></tr>\n",
       "\t<tr><td>1    </td><td>110  </td><td>2.875</td></tr>\n",
       "\t<tr><td>1    </td><td> 93  </td><td>2.320</td></tr>\n",
       "\t<tr><td>1    </td><td>110  </td><td>3.215</td></tr>\n",
       "\t<tr><td>1    </td><td>175  </td><td>3.440</td></tr>\n",
       "\t<tr><td>1    </td><td>105  </td><td>3.460</td></tr>\n",
       "</tbody>\n",
       "</table>\n"
      ],
      "text/latex": [
       "\\begin{tabular}{lll}\n",
       "\t 1     & 110   & 2.620\\\\\n",
       "\t 1     & 110   & 2.875\\\\\n",
       "\t 1     &  93   & 2.320\\\\\n",
       "\t 1     & 110   & 3.215\\\\\n",
       "\t 1     & 175   & 3.440\\\\\n",
       "\t 1     & 105   & 3.460\\\\\n",
       "\\end{tabular}\n"
      ],
      "text/markdown": [
       "\n",
       "| 1     | 110   | 2.620 |\n",
       "| 1     | 110   | 2.875 |\n",
       "| 1     |  93   | 2.320 |\n",
       "| 1     | 110   | 3.215 |\n",
       "| 1     | 175   | 3.440 |\n",
       "| 1     | 105   | 3.460 |\n",
       "\n"
      ],
      "text/plain": [
       "     [,1] [,2] [,3] \n",
       "[1,] 1    110  2.620\n",
       "[2,] 1    110  2.875\n",
       "[3,] 1     93  2.320\n",
       "[4,] 1    110  3.215\n",
       "[5,] 1    175  3.440\n",
       "[6,] 1    105  3.460"
      ]
     },
     "metadata": {},
     "output_type": "display_data"
    }
   ],
   "source": [
    "head(x)"
   ]
  },
  {
   "cell_type": "code",
   "execution_count": 106,
   "id": "14e81b77",
   "metadata": {},
   "outputs": [
    {
     "data": {
      "text/html": [
       "<table>\n",
       "<tbody>\n",
       "\t<tr><td>0         </td><td>   0.00000</td><td> 0.000000 </td></tr>\n",
       "\t<tr><td>0         </td><td>4700.86694</td><td>44.192661 </td></tr>\n",
       "\t<tr><td>0         </td><td>  44.19266</td><td> 0.957379 </td></tr>\n",
       "</tbody>\n",
       "</table>\n"
      ],
      "text/latex": [
       "\\begin{tabular}{lll}\n",
       "\t 0          &    0.00000 &  0.000000 \\\\\n",
       "\t 0          & 4700.86694 & 44.192661 \\\\\n",
       "\t 0          &   44.19266 &  0.957379 \\\\\n",
       "\\end{tabular}\n"
      ],
      "text/markdown": [
       "\n",
       "| 0          |    0.00000 |  0.000000  |\n",
       "| 0          | 4700.86694 | 44.192661  |\n",
       "| 0          |   44.19266 |  0.957379  |\n",
       "\n"
      ],
      "text/plain": [
       "     [,1] [,2]       [,3]     \n",
       "[1,] 0       0.00000  0.000000\n",
       "[2,] 0    4700.86694 44.192661\n",
       "[3,] 0      44.19266  0.957379"
      ]
     },
     "metadata": {},
     "output_type": "display_data"
    }
   ],
   "source": [
    "var(x)"
   ]
  },
  {
   "cell_type": "code",
   "execution_count": 107,
   "id": "08e30e75",
   "metadata": {},
   "outputs": [
    {
     "data": {
      "text/html": [
       "<table>\n",
       "<tbody>\n",
       "\t<tr><td>0         </td><td>   0.00000</td><td> 0.000000 </td></tr>\n",
       "\t<tr><td>0         </td><td>4700.86694</td><td>44.192661 </td></tr>\n",
       "\t<tr><td>0         </td><td>  44.19266</td><td> 0.957379 </td></tr>\n",
       "</tbody>\n",
       "</table>\n"
      ],
      "text/latex": [
       "\\begin{tabular}{lll}\n",
       "\t 0          &    0.00000 &  0.000000 \\\\\n",
       "\t 0          & 4700.86694 & 44.192661 \\\\\n",
       "\t 0          &   44.19266 &  0.957379 \\\\\n",
       "\\end{tabular}\n"
      ],
      "text/markdown": [
       "\n",
       "| 0          |    0.00000 |  0.000000  |\n",
       "| 0          | 4700.86694 | 44.192661  |\n",
       "| 0          |   44.19266 |  0.957379  |\n",
       "\n"
      ],
      "text/plain": [
       "     [,1] [,2]       [,3]     \n",
       "[1,] 0       0.00000  0.000000\n",
       "[2,] 0    4700.86694 44.192661\n",
       "[3,] 0      44.19266  0.957379"
      ]
     },
     "metadata": {},
     "output_type": "display_data"
    }
   ],
   "source": [
    "round( (t(x) %*% (I - H) %*% x) / (n - 1), 6)"
   ]
  },
  {
   "cell_type": "code",
   "execution_count": 108,
   "id": "8e9a08ea",
   "metadata": {},
   "outputs": [
    {
     "data": {
      "text/html": [
       "<table>\n",
       "<tbody>\n",
       "\t<tr><td>110  </td><td>2.620</td><td>160  </td></tr>\n",
       "\t<tr><td>110  </td><td>2.875</td><td>160  </td></tr>\n",
       "\t<tr><td> 93  </td><td>2.320</td><td>108  </td></tr>\n",
       "\t<tr><td>110  </td><td>3.215</td><td>258  </td></tr>\n",
       "\t<tr><td>175  </td><td>3.440</td><td>360  </td></tr>\n",
       "\t<tr><td>105  </td><td>3.460</td><td>225  </td></tr>\n",
       "</tbody>\n",
       "</table>\n"
      ],
      "text/latex": [
       "\\begin{tabular}{lll}\n",
       "\t 110   & 2.620 & 160  \\\\\n",
       "\t 110   & 2.875 & 160  \\\\\n",
       "\t  93   & 2.320 & 108  \\\\\n",
       "\t 110   & 3.215 & 258  \\\\\n",
       "\t 175   & 3.440 & 360  \\\\\n",
       "\t 105   & 3.460 & 225  \\\\\n",
       "\\end{tabular}\n"
      ],
      "text/markdown": [
       "\n",
       "| 110   | 2.620 | 160   |\n",
       "| 110   | 2.875 | 160   |\n",
       "|  93   | 2.320 | 108   |\n",
       "| 110   | 3.215 | 258   |\n",
       "| 175   | 3.440 | 360   |\n",
       "| 105   | 3.460 | 225   |\n",
       "\n"
      ],
      "text/plain": [
       "     [,1] [,2]  [,3]\n",
       "[1,] 110  2.620 160 \n",
       "[2,] 110  2.875 160 \n",
       "[3,]  93  2.320 108 \n",
       "[4,] 110  3.215 258 \n",
       "[5,] 175  3.440 360 \n",
       "[6,] 105  3.460 225 "
      ]
     },
     "metadata": {},
     "output_type": "display_data"
    }
   ],
   "source": [
    "x1 = cbind(mtcars$hp, mtcars$wt, mtcars$disp)\n",
    "head(x1)"
   ]
  },
  {
   "cell_type": "code",
   "execution_count": 109,
   "id": "5349908d",
   "metadata": {},
   "outputs": [
    {
     "data": {
      "text/html": [
       "<table>\n",
       "<tbody>\n",
       "\t<tr><td>4700.86694</td><td> 44.192661</td><td> 6721.1587</td></tr>\n",
       "\t<tr><td>  44.19266</td><td>  0.957379</td><td>  107.6842</td></tr>\n",
       "\t<tr><td>6721.15867</td><td>107.684204</td><td>15360.7998</td></tr>\n",
       "</tbody>\n",
       "</table>\n"
      ],
      "text/latex": [
       "\\begin{tabular}{lll}\n",
       "\t 4700.86694 &  44.192661 &  6721.1587\\\\\n",
       "\t   44.19266 &   0.957379 &   107.6842\\\\\n",
       "\t 6721.15867 & 107.684204 & 15360.7998\\\\\n",
       "\\end{tabular}\n"
      ],
      "text/markdown": [
       "\n",
       "| 4700.86694 |  44.192661 |  6721.1587 |\n",
       "|   44.19266 |   0.957379 |   107.6842 |\n",
       "| 6721.15867 | 107.684204 | 15360.7998 |\n",
       "\n"
      ],
      "text/plain": [
       "     [,1]       [,2]       [,3]      \n",
       "[1,] 4700.86694  44.192661  6721.1587\n",
       "[2,]   44.19266   0.957379   107.6842\n",
       "[3,] 6721.15867 107.684204 15360.7998"
      ]
     },
     "metadata": {},
     "output_type": "display_data"
    }
   ],
   "source": [
    "var(x1)"
   ]
  },
  {
   "cell_type": "code",
   "execution_count": 110,
   "id": "a9bba6da",
   "metadata": {},
   "outputs": [
    {
     "data": {
      "text/html": [
       "<table>\n",
       "<tbody>\n",
       "\t<tr><td>4700.86694</td><td> 44.192661</td><td> 6721.1587</td></tr>\n",
       "\t<tr><td>  44.19266</td><td>  0.957379</td><td>  107.6842</td></tr>\n",
       "\t<tr><td>6721.15867</td><td>107.684204</td><td>15360.7998</td></tr>\n",
       "</tbody>\n",
       "</table>\n"
      ],
      "text/latex": [
       "\\begin{tabular}{lll}\n",
       "\t 4700.86694 &  44.192661 &  6721.1587\\\\\n",
       "\t   44.19266 &   0.957379 &   107.6842\\\\\n",
       "\t 6721.15867 & 107.684204 & 15360.7998\\\\\n",
       "\\end{tabular}\n"
      ],
      "text/markdown": [
       "\n",
       "| 4700.86694 |  44.192661 |  6721.1587 |\n",
       "|   44.19266 |   0.957379 |   107.6842 |\n",
       "| 6721.15867 | 107.684204 | 15360.7998 |\n",
       "\n"
      ],
      "text/plain": [
       "     [,1]       [,2]       [,3]      \n",
       "[1,] 4700.86694  44.192661  6721.1587\n",
       "[2,]   44.19266   0.957379   107.6842\n",
       "[3,] 6721.15867 107.684204 15360.7998"
      ]
     },
     "metadata": {},
     "output_type": "display_data"
    }
   ],
   "source": [
    "round( (t(x1) %*% (I - H) %*% x1) / (n - 1), 6)"
   ]
  },
  {
   "cell_type": "code",
   "execution_count": 113,
   "id": "b8e68a41",
   "metadata": {},
   "outputs": [
    {
     "data": {
      "text/html": [
       "44.1926612903226"
      ],
      "text/latex": [
       "44.1926612903226"
      ],
      "text/markdown": [
       "44.1926612903226"
      ],
      "text/plain": [
       "[1] 44.19266"
      ]
     },
     "metadata": {},
     "output_type": "display_data"
    },
    {
     "data": {
      "text/html": [
       "44.1926612903226"
      ],
      "text/latex": [
       "44.1926612903226"
      ],
      "text/markdown": [
       "44.1926612903226"
      ],
      "text/plain": [
       "[1] 44.19266"
      ]
     },
     "metadata": {},
     "output_type": "display_data"
    }
   ],
   "source": [
    "cov(mtcars$hp, mtcars$wt)\n",
    "cov(x1[, 1], x1[, 2])"
   ]
  },
  {
   "cell_type": "code",
   "execution_count": 162,
   "id": "fdaffdd1",
   "metadata": {},
   "outputs": [
    {
     "name": "stdout",
     "output_type": "stream",
     "text": [
      "n: 32"
     ]
    },
    {
     "data": {
      "text/html": [
       "<ol class=list-inline>\n",
       "\t<li>0</li>\n",
       "\t<li>0</li>\n",
       "\t<li>0</li>\n",
       "</ol>\n"
      ],
      "text/latex": [
       "\\begin{enumerate*}\n",
       "\\item 0\n",
       "\\item 0\n",
       "\\item 0\n",
       "\\end{enumerate*}\n"
      ],
      "text/markdown": [
       "1. 0\n",
       "2. 0\n",
       "3. 0\n",
       "\n",
       "\n"
      ],
      "text/plain": [
       "[1] 0 0 0"
      ]
     },
     "metadata": {},
     "output_type": "display_data"
    },
    {
     "name": "stdout",
     "output_type": "stream",
     "text": [
      "\n",
      "s:"
     ]
    },
    {
     "data": {
      "text/html": [
       "<table>\n",
       "<tbody>\n",
       "\t<tr><td>4700.86694</td><td> 44.192661</td><td> 6721.1587</td></tr>\n",
       "\t<tr><td>  44.19266</td><td>  0.957379</td><td>  107.6842</td></tr>\n",
       "\t<tr><td>6721.15867</td><td>107.684204</td><td>15360.7998</td></tr>\n",
       "</tbody>\n",
       "</table>\n"
      ],
      "text/latex": [
       "\\begin{tabular}{lll}\n",
       "\t 4700.86694 &  44.192661 &  6721.1587\\\\\n",
       "\t   44.19266 &   0.957379 &   107.6842\\\\\n",
       "\t 6721.15867 & 107.684204 & 15360.7998\\\\\n",
       "\\end{tabular}\n"
      ],
      "text/markdown": [
       "\n",
       "| 4700.86694 |  44.192661 |  6721.1587 |\n",
       "|   44.19266 |   0.957379 |   107.6842 |\n",
       "| 6721.15867 | 107.684204 | 15360.7998 |\n",
       "\n"
      ],
      "text/plain": [
       "     [,1]       [,2]       [,3]      \n",
       "[1,] 4700.86694  44.192661  6721.1587\n",
       "[2,]   44.19266   0.957379   107.6842\n",
       "[3,] 6721.15867 107.684204 15360.7998"
      ]
     },
     "metadata": {},
     "output_type": "display_data"
    }
   ],
   "source": [
    "n = dim(x1)[1]\n",
    "cat('n:', n)\n",
    "I = diag(rep(1, n))\n",
    "Jnn = matrix(1, n, n)\n",
    "\n",
    "x1_tilde = (I - Jnn/n) %*% x1\n",
    "round(apply(x1_tilde, 2, mean), 10)\n",
    "\n",
    "s = var(x1)\n",
    "cat('\\ns:')\n",
    "s"
   ]
  },
  {
   "cell_type": "code",
   "execution_count": 166,
   "id": "2bc58fc0",
   "metadata": {},
   "outputs": [
    {
     "data": {
      "text/html": [
       "<table>\n",
       "<tbody>\n",
       "\t<tr><td>68.56287 </td><td>0.0000000</td><td>  0.0000 </td></tr>\n",
       "\t<tr><td> 0.00000 </td><td>0.9784574</td><td>  0.0000 </td></tr>\n",
       "\t<tr><td> 0.00000 </td><td>0.0000000</td><td>123.9387 </td></tr>\n",
       "</tbody>\n",
       "</table>\n"
      ],
      "text/latex": [
       "\\begin{tabular}{lll}\n",
       "\t 68.56287  & 0.0000000 &   0.0000 \\\\\n",
       "\t  0.00000  & 0.9784574 &   0.0000 \\\\\n",
       "\t  0.00000  & 0.0000000 & 123.9387 \\\\\n",
       "\\end{tabular}\n"
      ],
      "text/markdown": [
       "\n",
       "| 68.56287  | 0.0000000 |   0.0000  |\n",
       "|  0.00000  | 0.9784574 |   0.0000  |\n",
       "|  0.00000  | 0.0000000 | 123.9387  |\n",
       "\n"
      ],
      "text/plain": [
       "     [,1]     [,2]      [,3]    \n",
       "[1,] 68.56287 0.0000000   0.0000\n",
       "[2,]  0.00000 0.9784574   0.0000\n",
       "[3,]  0.00000 0.0000000 123.9387"
      ]
     },
     "metadata": {},
     "output_type": "display_data"
    }
   ],
   "source": [
    "d = diag(sqrt(diag(s)))\n",
    "d"
   ]
  },
  {
   "cell_type": "code",
   "execution_count": 169,
   "id": "7ad63047",
   "metadata": {},
   "outputs": [],
   "source": [
    "d_inv = solve(d)"
   ]
  },
  {
   "cell_type": "code",
   "execution_count": 170,
   "id": "a710ef19",
   "metadata": {},
   "outputs": [
    {
     "data": {
      "text/html": [
       "<table>\n",
       "<tbody>\n",
       "\t<tr><td>1.0000000</td><td>0.6587479</td><td>0.7909486</td></tr>\n",
       "\t<tr><td>0.6587479</td><td>1.0000000</td><td>0.8879799</td></tr>\n",
       "\t<tr><td>0.7909486</td><td>0.8879799</td><td>1.0000000</td></tr>\n",
       "</tbody>\n",
       "</table>\n"
      ],
      "text/latex": [
       "\\begin{tabular}{lll}\n",
       "\t 1.0000000 & 0.6587479 & 0.7909486\\\\\n",
       "\t 0.6587479 & 1.0000000 & 0.8879799\\\\\n",
       "\t 0.7909486 & 0.8879799 & 1.0000000\\\\\n",
       "\\end{tabular}\n"
      ],
      "text/markdown": [
       "\n",
       "| 1.0000000 | 0.6587479 | 0.7909486 |\n",
       "| 0.6587479 | 1.0000000 | 0.8879799 |\n",
       "| 0.7909486 | 0.8879799 | 1.0000000 |\n",
       "\n"
      ],
      "text/plain": [
       "     [,1]      [,2]      [,3]     \n",
       "[1,] 1.0000000 0.6587479 0.7909486\n",
       "[2,] 0.6587479 1.0000000 0.8879799\n",
       "[3,] 0.7909486 0.8879799 1.0000000"
      ]
     },
     "metadata": {},
     "output_type": "display_data"
    }
   ],
   "source": [
    "d_inv %*% t(x1_tilde) %*% x1_tilde %*% d_inv / (n-1)"
   ]
  },
  {
   "cell_type": "code",
   "execution_count": null,
   "id": "8eb293d3",
   "metadata": {},
   "outputs": [],
   "source": []
  }
 ],
 "metadata": {
  "kernelspec": {
   "display_name": "R",
   "language": "R",
   "name": "ir"
  },
  "language_info": {
   "codemirror_mode": "r",
   "file_extension": ".r",
   "mimetype": "text/x-r-source",
   "name": "R",
   "pygments_lexer": "r",
   "version": "3.6.1"
  }
 },
 "nbformat": 4,
 "nbformat_minor": 5
}
