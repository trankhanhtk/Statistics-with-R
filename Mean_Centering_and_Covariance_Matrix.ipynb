{
 "cells": [
  {
   "cell_type": "markdown",
   "id": "b6721bec",
   "metadata": {},
   "source": [
    "## Loading the Data"
   ]
  },
  {
   "cell_type": "code",
   "execution_count": 31,
   "id": "5384b364",
   "metadata": {},
   "outputs": [
    {
     "data": {
      "text/html": [
       "<table>\n",
       "<thead><tr><th></th><th scope=col>mpg</th><th scope=col>cyl</th><th scope=col>disp</th><th scope=col>hp</th><th scope=col>drat</th><th scope=col>wt</th><th scope=col>qsec</th><th scope=col>vs</th><th scope=col>am</th><th scope=col>gear</th><th scope=col>carb</th></tr></thead>\n",
       "<tbody>\n",
       "\t<tr><th scope=row>Mazda RX4</th><td>21.0 </td><td>6    </td><td>160  </td><td>110  </td><td>3.90 </td><td>2.620</td><td>16.46</td><td>0    </td><td>1    </td><td>4    </td><td>4    </td></tr>\n",
       "\t<tr><th scope=row>Mazda RX4 Wag</th><td>21.0 </td><td>6    </td><td>160  </td><td>110  </td><td>3.90 </td><td>2.875</td><td>17.02</td><td>0    </td><td>1    </td><td>4    </td><td>4    </td></tr>\n",
       "\t<tr><th scope=row>Datsun 710</th><td>22.8 </td><td>4    </td><td>108  </td><td> 93  </td><td>3.85 </td><td>2.320</td><td>18.61</td><td>1    </td><td>1    </td><td>4    </td><td>1    </td></tr>\n",
       "\t<tr><th scope=row>Hornet 4 Drive</th><td>21.4 </td><td>6    </td><td>258  </td><td>110  </td><td>3.08 </td><td>3.215</td><td>19.44</td><td>1    </td><td>0    </td><td>3    </td><td>1    </td></tr>\n",
       "\t<tr><th scope=row>Hornet Sportabout</th><td>18.7 </td><td>8    </td><td>360  </td><td>175  </td><td>3.15 </td><td>3.440</td><td>17.02</td><td>0    </td><td>0    </td><td>3    </td><td>2    </td></tr>\n",
       "\t<tr><th scope=row>Valiant</th><td>18.1 </td><td>6    </td><td>225  </td><td>105  </td><td>2.76 </td><td>3.460</td><td>20.22</td><td>1    </td><td>0    </td><td>3    </td><td>1    </td></tr>\n",
       "</tbody>\n",
       "</table>\n"
      ],
      "text/latex": [
       "\\begin{tabular}{r|lllllllllll}\n",
       "  & mpg & cyl & disp & hp & drat & wt & qsec & vs & am & gear & carb\\\\\n",
       "\\hline\n",
       "\tMazda RX4 & 21.0  & 6     & 160   & 110   & 3.90  & 2.620 & 16.46 & 0     & 1     & 4     & 4    \\\\\n",
       "\tMazda RX4 Wag & 21.0  & 6     & 160   & 110   & 3.90  & 2.875 & 17.02 & 0     & 1     & 4     & 4    \\\\\n",
       "\tDatsun 710 & 22.8  & 4     & 108   &  93   & 3.85  & 2.320 & 18.61 & 1     & 1     & 4     & 1    \\\\\n",
       "\tHornet 4 Drive & 21.4  & 6     & 258   & 110   & 3.08  & 3.215 & 19.44 & 1     & 0     & 3     & 1    \\\\\n",
       "\tHornet Sportabout & 18.7  & 8     & 360   & 175   & 3.15  & 3.440 & 17.02 & 0     & 0     & 3     & 2    \\\\\n",
       "\tValiant & 18.1  & 6     & 225   & 105   & 2.76  & 3.460 & 20.22 & 1     & 0     & 3     & 1    \\\\\n",
       "\\end{tabular}\n"
      ],
      "text/markdown": [
       "\n",
       "| <!--/--> | mpg | cyl | disp | hp | drat | wt | qsec | vs | am | gear | carb |\n",
       "|---|---|---|---|---|---|---|---|---|---|---|---|\n",
       "| Mazda RX4 | 21.0  | 6     | 160   | 110   | 3.90  | 2.620 | 16.46 | 0     | 1     | 4     | 4     |\n",
       "| Mazda RX4 Wag | 21.0  | 6     | 160   | 110   | 3.90  | 2.875 | 17.02 | 0     | 1     | 4     | 4     |\n",
       "| Datsun 710 | 22.8  | 4     | 108   |  93   | 3.85  | 2.320 | 18.61 | 1     | 1     | 4     | 1     |\n",
       "| Hornet 4 Drive | 21.4  | 6     | 258   | 110   | 3.08  | 3.215 | 19.44 | 1     | 0     | 3     | 1     |\n",
       "| Hornet Sportabout | 18.7  | 8     | 360   | 175   | 3.15  | 3.440 | 17.02 | 0     | 0     | 3     | 2     |\n",
       "| Valiant | 18.1  | 6     | 225   | 105   | 2.76  | 3.460 | 20.22 | 1     | 0     | 3     | 1     |\n",
       "\n"
      ],
      "text/plain": [
       "                  mpg  cyl disp hp  drat wt    qsec  vs am gear carb\n",
       "Mazda RX4         21.0 6   160  110 3.90 2.620 16.46 0  1  4    4   \n",
       "Mazda RX4 Wag     21.0 6   160  110 3.90 2.875 17.02 0  1  4    4   \n",
       "Datsun 710        22.8 4   108   93 3.85 2.320 18.61 1  1  4    1   \n",
       "Hornet 4 Drive    21.4 6   258  110 3.08 3.215 19.44 1  0  3    1   \n",
       "Hornet Sportabout 18.7 8   360  175 3.15 3.440 17.02 0  0  3    2   \n",
       "Valiant           18.1 6   225  105 2.76 3.460 20.22 1  0  3    1   "
      ]
     },
     "metadata": {},
     "output_type": "display_data"
    }
   ],
   "source": [
    "head(mtcars)"
   ]
  },
  {
   "cell_type": "code",
   "execution_count": 68,
   "id": "d4145a29",
   "metadata": {},
   "outputs": [
    {
     "name": "stdout",
     "output_type": "stream",
     "text": [
      "n: 32\n",
      "p: 3"
     ]
    }
   ],
   "source": [
    "y = mtcars$mpg\n",
    "x = cbind(1, mtcars$hp, mtcars$wt)\n",
    "n = nrow(x)\n",
    "p = ncol(x)\n",
    "cat('n:', n)\n",
    "cat('\\np:', p)"
   ]
  },
  {
   "cell_type": "markdown",
   "id": "26339241",
   "metadata": {},
   "source": [
    "## Mean Centering Matrix along Columns\n",
    "\\begin{align}\n",
    "X - \\bar{X} = (I - H)X,\n",
    "\\end{align}\n",
    "\n",
    "where $I$ is an identity matrix (with 1s on the diagonal and zeros elsewhere) and $H$ is an all-ones square matrix devided by n."
   ]
  },
  {
   "cell_type": "code",
   "execution_count": 85,
   "id": "cbcff19c",
   "metadata": {},
   "outputs": [],
   "source": [
    "I = diag(rep(1, n))\n",
    "H = matrix(1, n, n)/n"
   ]
  },
  {
   "cell_type": "code",
   "execution_count": 86,
   "id": "dcfbbaae",
   "metadata": {},
   "outputs": [
    {
     "name": "stdout",
     "output_type": "stream",
     "text": [
      "dim(x): 32 3\n",
      "dim(I-H): 32 32"
     ]
    }
   ],
   "source": [
    "cat('dim(x):', dim(x))\n",
    "cat('\\ndim(I-H):', dim(I-H))"
   ]
  },
  {
   "cell_type": "code",
   "execution_count": 87,
   "id": "b4449e58",
   "metadata": {},
   "outputs": [
    {
     "name": "stdout",
     "output_type": "stream",
     "text": [
      "dim(xc): 32 3"
     ]
    },
    {
     "data": {
      "text/html": [
       "<ol class=list-inline>\n",
       "\t<li>0</li>\n",
       "\t<li>0</li>\n",
       "\t<li>0</li>\n",
       "</ol>\n"
      ],
      "text/latex": [
       "\\begin{enumerate*}\n",
       "\\item 0\n",
       "\\item 0\n",
       "\\item 0\n",
       "\\end{enumerate*}\n"
      ],
      "text/markdown": [
       "1. 0\n",
       "2. 0\n",
       "3. 0\n",
       "\n",
       "\n"
      ],
      "text/plain": [
       "[1] 0 0 0"
      ]
     },
     "metadata": {},
     "output_type": "display_data"
    }
   ],
   "source": [
    "xc = (I - H) %*% x\n",
    "cat('dim(xc):', dim(xc))\n",
    "round(apply(xc, 2, mean), 10)"
   ]
  },
  {
   "cell_type": "markdown",
   "id": "19a5eff2",
   "metadata": {},
   "source": [
    "## Covariance Matrix"
   ]
  },
  {
   "cell_type": "code",
   "execution_count": 104,
   "id": "1122aa49",
   "metadata": {},
   "outputs": [
    {
     "data": {
      "text/html": [
       "<table>\n",
       "<tbody>\n",
       "\t<tr><td>1    </td><td>110  </td><td>2.620</td></tr>\n",
       "\t<tr><td>1    </td><td>110  </td><td>2.875</td></tr>\n",
       "\t<tr><td>1    </td><td> 93  </td><td>2.320</td></tr>\n",
       "\t<tr><td>1    </td><td>110  </td><td>3.215</td></tr>\n",
       "\t<tr><td>1    </td><td>175  </td><td>3.440</td></tr>\n",
       "\t<tr><td>1    </td><td>105  </td><td>3.460</td></tr>\n",
       "</tbody>\n",
       "</table>\n"
      ],
      "text/latex": [
       "\\begin{tabular}{lll}\n",
       "\t 1     & 110   & 2.620\\\\\n",
       "\t 1     & 110   & 2.875\\\\\n",
       "\t 1     &  93   & 2.320\\\\\n",
       "\t 1     & 110   & 3.215\\\\\n",
       "\t 1     & 175   & 3.440\\\\\n",
       "\t 1     & 105   & 3.460\\\\\n",
       "\\end{tabular}\n"
      ],
      "text/markdown": [
       "\n",
       "| 1     | 110   | 2.620 |\n",
       "| 1     | 110   | 2.875 |\n",
       "| 1     |  93   | 2.320 |\n",
       "| 1     | 110   | 3.215 |\n",
       "| 1     | 175   | 3.440 |\n",
       "| 1     | 105   | 3.460 |\n",
       "\n"
      ],
      "text/plain": [
       "     [,1] [,2] [,3] \n",
       "[1,] 1    110  2.620\n",
       "[2,] 1    110  2.875\n",
       "[3,] 1     93  2.320\n",
       "[4,] 1    110  3.215\n",
       "[5,] 1    175  3.440\n",
       "[6,] 1    105  3.460"
      ]
     },
     "metadata": {},
     "output_type": "display_data"
    }
   ],
   "source": [
    "head(x)"
   ]
  },
  {
   "cell_type": "code",
   "execution_count": 106,
   "id": "ac04857a",
   "metadata": {},
   "outputs": [
    {
     "data": {
      "text/html": [
       "<table>\n",
       "<tbody>\n",
       "\t<tr><td>0         </td><td>   0.00000</td><td> 0.000000 </td></tr>\n",
       "\t<tr><td>0         </td><td>4700.86694</td><td>44.192661 </td></tr>\n",
       "\t<tr><td>0         </td><td>  44.19266</td><td> 0.957379 </td></tr>\n",
       "</tbody>\n",
       "</table>\n"
      ],
      "text/latex": [
       "\\begin{tabular}{lll}\n",
       "\t 0          &    0.00000 &  0.000000 \\\\\n",
       "\t 0          & 4700.86694 & 44.192661 \\\\\n",
       "\t 0          &   44.19266 &  0.957379 \\\\\n",
       "\\end{tabular}\n"
      ],
      "text/markdown": [
       "\n",
       "| 0          |    0.00000 |  0.000000  |\n",
       "| 0          | 4700.86694 | 44.192661  |\n",
       "| 0          |   44.19266 |  0.957379  |\n",
       "\n"
      ],
      "text/plain": [
       "     [,1] [,2]       [,3]     \n",
       "[1,] 0       0.00000  0.000000\n",
       "[2,] 0    4700.86694 44.192661\n",
       "[3,] 0      44.19266  0.957379"
      ]
     },
     "metadata": {},
     "output_type": "display_data"
    }
   ],
   "source": [
    "var(x)"
   ]
  },
  {
   "cell_type": "code",
   "execution_count": 107,
   "id": "99ae224e",
   "metadata": {},
   "outputs": [
    {
     "data": {
      "text/html": [
       "<table>\n",
       "<tbody>\n",
       "\t<tr><td>0         </td><td>   0.00000</td><td> 0.000000 </td></tr>\n",
       "\t<tr><td>0         </td><td>4700.86694</td><td>44.192661 </td></tr>\n",
       "\t<tr><td>0         </td><td>  44.19266</td><td> 0.957379 </td></tr>\n",
       "</tbody>\n",
       "</table>\n"
      ],
      "text/latex": [
       "\\begin{tabular}{lll}\n",
       "\t 0          &    0.00000 &  0.000000 \\\\\n",
       "\t 0          & 4700.86694 & 44.192661 \\\\\n",
       "\t 0          &   44.19266 &  0.957379 \\\\\n",
       "\\end{tabular}\n"
      ],
      "text/markdown": [
       "\n",
       "| 0          |    0.00000 |  0.000000  |\n",
       "| 0          | 4700.86694 | 44.192661  |\n",
       "| 0          |   44.19266 |  0.957379  |\n",
       "\n"
      ],
      "text/plain": [
       "     [,1] [,2]       [,3]     \n",
       "[1,] 0       0.00000  0.000000\n",
       "[2,] 0    4700.86694 44.192661\n",
       "[3,] 0      44.19266  0.957379"
      ]
     },
     "metadata": {},
     "output_type": "display_data"
    }
   ],
   "source": [
    "round( (t(x) %*% (I - H) %*% x) / (n - 1), 6)"
   ]
  },
  {
   "cell_type": "code",
   "execution_count": 108,
   "id": "c889e235",
   "metadata": {},
   "outputs": [
    {
     "data": {
      "text/html": [
       "<table>\n",
       "<tbody>\n",
       "\t<tr><td>110  </td><td>2.620</td><td>160  </td></tr>\n",
       "\t<tr><td>110  </td><td>2.875</td><td>160  </td></tr>\n",
       "\t<tr><td> 93  </td><td>2.320</td><td>108  </td></tr>\n",
       "\t<tr><td>110  </td><td>3.215</td><td>258  </td></tr>\n",
       "\t<tr><td>175  </td><td>3.440</td><td>360  </td></tr>\n",
       "\t<tr><td>105  </td><td>3.460</td><td>225  </td></tr>\n",
       "</tbody>\n",
       "</table>\n"
      ],
      "text/latex": [
       "\\begin{tabular}{lll}\n",
       "\t 110   & 2.620 & 160  \\\\\n",
       "\t 110   & 2.875 & 160  \\\\\n",
       "\t  93   & 2.320 & 108  \\\\\n",
       "\t 110   & 3.215 & 258  \\\\\n",
       "\t 175   & 3.440 & 360  \\\\\n",
       "\t 105   & 3.460 & 225  \\\\\n",
       "\\end{tabular}\n"
      ],
      "text/markdown": [
       "\n",
       "| 110   | 2.620 | 160   |\n",
       "| 110   | 2.875 | 160   |\n",
       "|  93   | 2.320 | 108   |\n",
       "| 110   | 3.215 | 258   |\n",
       "| 175   | 3.440 | 360   |\n",
       "| 105   | 3.460 | 225   |\n",
       "\n"
      ],
      "text/plain": [
       "     [,1] [,2]  [,3]\n",
       "[1,] 110  2.620 160 \n",
       "[2,] 110  2.875 160 \n",
       "[3,]  93  2.320 108 \n",
       "[4,] 110  3.215 258 \n",
       "[5,] 175  3.440 360 \n",
       "[6,] 105  3.460 225 "
      ]
     },
     "metadata": {},
     "output_type": "display_data"
    }
   ],
   "source": [
    "x1 = cbind(mtcars$hp, mtcars$wt, mtcars$disp)\n",
    "head(x1)"
   ]
  },
  {
   "cell_type": "code",
   "execution_count": 109,
   "id": "d15af187",
   "metadata": {},
   "outputs": [
    {
     "data": {
      "text/html": [
       "<table>\n",
       "<tbody>\n",
       "\t<tr><td>4700.86694</td><td> 44.192661</td><td> 6721.1587</td></tr>\n",
       "\t<tr><td>  44.19266</td><td>  0.957379</td><td>  107.6842</td></tr>\n",
       "\t<tr><td>6721.15867</td><td>107.684204</td><td>15360.7998</td></tr>\n",
       "</tbody>\n",
       "</table>\n"
      ],
      "text/latex": [
       "\\begin{tabular}{lll}\n",
       "\t 4700.86694 &  44.192661 &  6721.1587\\\\\n",
       "\t   44.19266 &   0.957379 &   107.6842\\\\\n",
       "\t 6721.15867 & 107.684204 & 15360.7998\\\\\n",
       "\\end{tabular}\n"
      ],
      "text/markdown": [
       "\n",
       "| 4700.86694 |  44.192661 |  6721.1587 |\n",
       "|   44.19266 |   0.957379 |   107.6842 |\n",
       "| 6721.15867 | 107.684204 | 15360.7998 |\n",
       "\n"
      ],
      "text/plain": [
       "     [,1]       [,2]       [,3]      \n",
       "[1,] 4700.86694  44.192661  6721.1587\n",
       "[2,]   44.19266   0.957379   107.6842\n",
       "[3,] 6721.15867 107.684204 15360.7998"
      ]
     },
     "metadata": {},
     "output_type": "display_data"
    }
   ],
   "source": [
    "var(x1)"
   ]
  },
  {
   "cell_type": "code",
   "execution_count": null,
   "id": "11b17373",
   "metadata": {},
   "outputs": [],
   "source": [
    "round( (t(x) %*% (I - H) %*% x) / (n - 1), 6)"
   ]
  }
 ],
 "metadata": {
  "kernelspec": {
   "display_name": "R",
   "language": "R",
   "name": "ir"
  },
  "language_info": {
   "codemirror_mode": "r",
   "file_extension": ".r",
   "mimetype": "text/x-r-source",
   "name": "R",
   "pygments_lexer": "r",
   "version": "3.6.1"
  }
 },
 "nbformat": 4,
 "nbformat_minor": 5
}
